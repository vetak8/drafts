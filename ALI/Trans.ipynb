{
 "cells": [
  {
   "cell_type": "code",
   "execution_count": 1,
   "metadata": {
    "scrolled": true
   },
   "outputs": [],
   "source": [
    "from sklearn.datasets import fetch_20newsgroups\n",
    "import pandas as pd\n",
    "import torch\n",
    "from tqdm import tqdm\n",
    "import re"
   ]
  },
  {
   "cell_type": "code",
   "execution_count": 2,
   "metadata": {
    "scrolled": true
   },
   "outputs": [
    {
     "data": {
      "text/plain": [
       "'cuda'"
      ]
     },
     "execution_count": 2,
     "metadata": {},
     "output_type": "execute_result"
    }
   ],
   "source": [
    "device = 'cuda' if torch.cuda.is_available() else 'cpu'\n",
    "device "
   ]
  },
  {
   "cell_type": "code",
   "execution_count": 3,
   "metadata": {},
   "outputs": [],
   "source": [
    "def cleanTxt(text):\n",
    "    '''Функция для очистки текста\n",
    "    INPUT: текст\n",
    "    OUTPUT: чуть меньше лишнего'''\n",
    "\n",
    "    text = re.sub(r'@[A-Za-z0-9]+', '', text)  # Remove @    \n",
    "    text = re.sub('^a-zA-z', ' ', text)\n",
    "    text = re.sub(r'https?:\\/\\/\\S+', '', text)  # remove hyperlink\n",
    "    text = re.sub(r'\\n', '', text)\n",
    "    text = re.sub(r'-', '', text)\n",
    "    text = re.sub(r'[/*\\|\\\\`~.\\')(&!=#\\}{\\\">:-]', '', text)\n",
    "    text = re.sub(r'   ', '', text)\n",
    "    text = re.sub(r'\\t', '', text)\n",
    "    \n",
    "    text = text.strip()\n",
    "    text = text.lower()\n",
    "    #text = text.split()\n",
    "    return text"
   ]
  },
  {
   "cell_type": "code",
   "execution_count": 4,
   "metadata": {},
   "outputs": [],
   "source": [
    "d = {'text':fetch_20newsgroups(subset='test')['data'],\n",
    "'target':fetch_20newsgroups(subset='test')['target']}"
   ]
  },
  {
   "cell_type": "code",
   "execution_count": 5,
   "metadata": {},
   "outputs": [],
   "source": [
    "df = pd.DataFrame(data=d)"
   ]
  },
  {
   "cell_type": "code",
   "execution_count": 6,
   "metadata": {},
   "outputs": [],
   "source": [
    "# Возьмем 100 текстов из теста \n",
    "df = df[df['target'] == 2][:100].reset_index().drop(['index', 'target'], axis=1)"
   ]
  },
  {
   "cell_type": "code",
   "execution_count": 7,
   "metadata": {},
   "outputs": [
    {
     "data": {
      "text/html": [
       "<div>\n",
       "<style scoped>\n",
       "    .dataframe tbody tr th:only-of-type {\n",
       "        vertical-align: middle;\n",
       "    }\n",
       "\n",
       "    .dataframe tbody tr th {\n",
       "        vertical-align: top;\n",
       "    }\n",
       "\n",
       "    .dataframe thead th {\n",
       "        text-align: right;\n",
       "    }\n",
       "</style>\n",
       "<table border=\"1\" class=\"dataframe\">\n",
       "  <thead>\n",
       "    <tr style=\"text-align: right;\">\n",
       "      <th></th>\n",
       "      <th>text</th>\n",
       "    </tr>\n",
       "  </thead>\n",
       "  <tbody>\n",
       "    <tr>\n",
       "      <th>0</th>\n",
       "      <td>From: Greg.Reinacker@FtCollins.NCR.COM\\nSubjec...</td>\n",
       "    </tr>\n",
       "    <tr>\n",
       "      <th>1</th>\n",
       "      <td>From: charlea@eng.clemson.edu (charles allen)\\...</td>\n",
       "    </tr>\n",
       "    <tr>\n",
       "      <th>2</th>\n",
       "      <td>From: campbers@craft.clarkson.edu (Bob Campbel...</td>\n",
       "    </tr>\n",
       "    <tr>\n",
       "      <th>3</th>\n",
       "      <td>From: richs@microsoft.com (Rick Schaut)\\nSubje...</td>\n",
       "    </tr>\n",
       "    <tr>\n",
       "      <th>4</th>\n",
       "      <td>From: mayorga@mr_slate.cis.udel.edu (Anibal Ma...</td>\n",
       "    </tr>\n",
       "    <tr>\n",
       "      <th>...</th>\n",
       "      <td>...</td>\n",
       "    </tr>\n",
       "    <tr>\n",
       "      <th>95</th>\n",
       "      <td>From: callison@whale.st.usm.edu (Charles James...</td>\n",
       "    </tr>\n",
       "    <tr>\n",
       "      <th>96</th>\n",
       "      <td>From: grimm@dec6.wu-wien.ac.at (Thomas W. Grim...</td>\n",
       "    </tr>\n",
       "    <tr>\n",
       "      <th>97</th>\n",
       "      <td>From: bjorn.myrland@sipaa.sintef.no (Bjorn Myr...</td>\n",
       "    </tr>\n",
       "    <tr>\n",
       "      <th>98</th>\n",
       "      <td>From: mkr@Comtech.com (Mark K. Reha)\\nSubject:...</td>\n",
       "    </tr>\n",
       "    <tr>\n",
       "      <th>99</th>\n",
       "      <td>Subject: Off-Line mail for netnews\\nFrom: arho...</td>\n",
       "    </tr>\n",
       "  </tbody>\n",
       "</table>\n",
       "<p>100 rows × 1 columns</p>\n",
       "</div>"
      ],
      "text/plain": [
       "                                                 text\n",
       "0   From: Greg.Reinacker@FtCollins.NCR.COM\\nSubjec...\n",
       "1   From: charlea@eng.clemson.edu (charles allen)\\...\n",
       "2   From: campbers@craft.clarkson.edu (Bob Campbel...\n",
       "3   From: richs@microsoft.com (Rick Schaut)\\nSubje...\n",
       "4   From: mayorga@mr_slate.cis.udel.edu (Anibal Ma...\n",
       "..                                                ...\n",
       "95  From: callison@whale.st.usm.edu (Charles James...\n",
       "96  From: grimm@dec6.wu-wien.ac.at (Thomas W. Grim...\n",
       "97  From: bjorn.myrland@sipaa.sintef.no (Bjorn Myr...\n",
       "98  From: mkr@Comtech.com (Mark K. Reha)\\nSubject:...\n",
       "99  Subject: Off-Line mail for netnews\\nFrom: arho...\n",
       "\n",
       "[100 rows x 1 columns]"
      ]
     },
     "execution_count": 7,
     "metadata": {},
     "output_type": "execute_result"
    }
   ],
   "source": [
    "df"
   ]
  },
  {
   "cell_type": "code",
   "execution_count": 8,
   "metadata": {},
   "outputs": [],
   "source": [
    "from transformers import AutoTokenizer, AutoModelForSeq2SeqLM\n",
    "def load_tokenizer_and_model(model_name_or_path):\n",
    "    return AutoTokenizer.from_pretrained(model_name_or_path), AutoModelForSeq2SeqLM.from_pretrained(model_name_or_path).to(device)\n",
    "\n",
    "# tokenizer, model = load_tokenizer_and_model(\"facebook/mbart-large-50-many-to-many-mmt\")"
   ]
  },
  {
   "cell_type": "code",
   "execution_count": 9,
   "metadata": {},
   "outputs": [],
   "source": [
    "def translate (inpt, model, tokenizer):\n",
    "    inpt = inpt\n",
    "    \n",
    "    model = model.to(device)\n",
    "    tokenizer.src_lang = \"en_XX\"\n",
    "    tokenizer.tgt_lang = 'ru_RU'\n",
    "        \n",
    "    encoded = tokenizer(inpt, return_tensors=\"pt\" ).to(device)\n",
    "    generated_tokens = model.generate(**encoded, forced_bos_token_id=tokenizer.lang_code_to_id[\"ru_RU\"], ).to(device)\n",
    "   \n",
    "    translated = tokenizer.batch_decode(generated_tokens, skip_special_tokens=True)\n",
    "    print(translated)\n",
    " \n",
    "    del model, encoded, generated_tokens\n",
    "    torch.cuda.empty_cache()\n",
    "    \n",
    "    return translated\n",
    "        "
   ]
  },
  {
   "cell_type": "code",
   "execution_count": 10,
   "metadata": {},
   "outputs": [],
   "source": [
    "test = df"
   ]
  },
  {
   "cell_type": "code",
   "execution_count": 11,
   "metadata": {
    "scrolled": true
   },
   "outputs": [],
   "source": [
    "test['cleaned'] = test['text'].apply(lambda x:cleanTxt(x.split('Lines: ')[1]))"
   ]
  },
  {
   "cell_type": "code",
   "execution_count": 12,
   "metadata": {},
   "outputs": [],
   "source": [
    "# lst = []\n",
    "# # tokenizer, model = load_tokenizer_and_model(\"facebook/mbart-large-50-many-to-many-mmt\")\n",
    "# for text in tqdm(df['text']):\n",
    "#     tokenizer, model = load_tokenizer_and_model(\"facebook/mbart-large-50-many-to-many-mmt\")\n",
    "    \n",
    "    \n",
    "# #     tokenizer.src_lang = \"en_XX\"\n",
    "# #     tokenizer.tgt_lang = 'ru_RU'\n",
    "#     print(text)\n",
    "#     encoded= tokenizer(text, return_tensors=\"pt\" ).to(device)\n",
    "#     generated_tokens = model.generate(**encoded, forced_bos_token_id=tokenizer.lang_code_to_id[\"ru_RU\"], ).to(device)\n",
    "#     translated = tokenizer.batch_decode(generated_tokens, skip_special_tokens=True)\n",
    "#     print(translated)\n",
    "#     lst.append(translated)\n",
    "    \n",
    "#     encoded = encoded.to('cpu')\n",
    "#     generated_tokens = generated_tokens.to('cpu')\n",
    "    \n",
    "#     del generated_tokens,translated, encoded\n",
    "#     torch.cuda.empty_cache()\n",
    "# lst    \n",
    "    "
   ]
  },
  {
   "cell_type": "code",
   "execution_count": 13,
   "metadata": {},
   "outputs": [],
   "source": [
    "# tokenizer, model = load_tokenizer_and_model(\"facebook/mbart-large-50-many-to-many-mmt\")\n",
    "# translate(test['cleaned'][4], model, tokenizer)"
   ]
  },
  {
   "cell_type": "code",
   "execution_count": 14,
   "metadata": {
    "scrolled": false
   },
   "outputs": [
    {
     "name": "stderr",
     "output_type": "stream",
     "text": [
      "\r",
      "  0%|                                                                                          | 0/100 [00:00<?, ?it/s]"
     ]
    },
    {
     "name": "stdout",
     "output_type": "stream",
     "text": [
      "0\n"
     ]
    },
    {
     "name": "stderr",
     "output_type": "stream",
     "text": [
      "\r",
      "  1%|▊                                                                                 | 1/100 [00:02<04:50,  2.94s/it]"
     ]
    },
    {
     "name": "stdout",
     "output_type": "stream",
     "text": [
      "['12i загрузили windows онлайн обзор shareware издание toftpcicaindianaedu как pubpcwin3uploadswolrs7zipit онлайн журнал, который содержит обзоры некоторых sharewareproductsi захватил его из windows онлайн bbsgreg reinacker 303 2235100 x9289ncr микроэлектронные продукты дивизионvoiceplus 46492892001 danfield courtgreLajmckerncrcomfort collins, co 80525']\n",
      "1\n"
     ]
    },
    {
     "name": "stderr",
     "output_type": "stream",
     "text": [
      "\r",
      "  2%|█▋                                                                                | 2/100 [00:08<07:20,  4.49s/it]"
     ]
    },
    {
     "name": "stdout",
     "output_type": "stream",
     "text": [
      "['44from article <c68ubgk2wstdcom, by cfwstdcom christopher f wroten у меня есть eisa машина и я просто не понимаю, почему большинство eisa видеокарты только совпадают в производительности их isa коллег, например, eisa orchid про дизайнер iise только примерно так же быстро, как isa diamond speedstar плюс, что не то, что я бы назвал бы быстро я не понимаю, почему eisa видеокарты аrent, как группа, на том же уровне производительности, как местные карты автобуса, учитывая, что eisa видеокарты имеют 32-битный автобус для перемещения данных вокруг, вместо isas 8 бит хороший вопросanswer eisa автобус перемещает 32-битные вместо isas 816? но он все еще перемещает его примерно в скорости, как isa bus я думаю, что либо 8 или 10 mhz местные']\n",
      "2\n"
     ]
    },
    {
     "name": "stderr",
     "output_type": "stream",
     "text": [
      "\r",
      "  3%|██▍                                                                               | 3/100 [00:11<05:57,  3.69s/it]"
     ]
    },
    {
     "name": "stdout",
     "output_type": "stream",
     "text": [
      "['7реplyto bswancnsmuskingumedudisclaimer это сообщение представляет взгляды на плакаты, не обязательно те, которые ibmnntppostinghost campbersbocaratonibmcomorganization clarkson universityyamanari,hey это не смешно, как жуки имеют баги в нихheydo мне милость и не ставить глупых постовbobclarkson university, potsdam ny campbersclarksonedu']\n",
      "3\n"
     ]
    },
    {
     "name": "stderr",
     "output_type": "stream",
     "text": [
      "\r",
      "  4%|███▎                                                                              | 4/100 [00:14<05:55,  3.70s/it]"
     ]
    },
    {
     "name": "stdout",
     "output_type": "stream",
     "text": [
      "['13in article <14822dukeedu kdbmcdukeedu kurt bollacker writesi agree no one ever definitively met my challenge only batted aroundsemantics oh well, I guess things did turn out as I expectedhmmm I gave two examples which matched your objective criteria, and yourresponse was some subjective claptrap about them being lame you neverdid counter the fact that those examples fit your objective criteriaone wonders whos playing semantic games, here rick schautuucpuunet uwbeavermicrosoftrichsmicrosoft doesnt speak for me, and i dont speak for microsoft']\n",
      "4\n"
     ]
    },
    {
     "name": "stderr",
     "output_type": "stream",
     "text": [
      "\r",
      "  5%|████                                                                              | 5/100 [00:18<05:42,  3.61s/it]"
     ]
    },
    {
     "name": "stdout",
     "output_type": "stream",
     "text": [
      "['17распределение usanntppostinghost mr_slatecisudeleduhello, в последнее время я заметил, что есть каталог под названием diskimage в моем диске я не заметил его раньше и мне интересно, если при установке приложения изображение диска было создано, или если win31 автоматически создал резервную копию его файлов я не мог найти любую документацию на diskimage утилиты; имея изображение диска занимает много дискового пространства знает кто-то, если это только что люди, которые установили win31 сделал или это механизм резервного копирования?']\n",
      "5\n"
     ]
    },
    {
     "name": "stderr",
     "output_type": "stream",
     "text": [
      "\r",
      "  6%|████▉                                                                             | 6/100 [00:21<05:38,  3.60s/it]"
     ]
    },
    {
     "name": "stdout",
     "output_type": "stream",
     "text": [
      "['13Hello все это мое понимание, что все truetype шрифты в windows загружаются вприор к запуску windows это делает попадание в windows довольно медленно, если у вас есть сотни из них, как я делаю в первую очередь, я правильно в этой мысли второе, если это дело можно получить windows игнорировать их на загрузке и может быть сделать что-то вроде файла pif загрузить их только когда вы входите в приложения, которые нуждаются в шрифтах? какие-либо идеи?chris происхождение chrisdoellen106z1fidonetorg 1106333326']\n",
      "6\n"
     ]
    },
    {
     "name": "stderr",
     "output_type": "stream",
     "text": [
      "\r",
      "  7%|█████▋                                                                            | 7/100 [00:26<05:50,  3.77s/it]"
     ]
    },
    {
     "name": "stdout",
     "output_type": "stream",
     "text": [
      "['15nntppostinghost aisun1aiugaeduкто знает о хорошем программном пакете, который позволит нам следить за тем, кто печатает что и когда? Есть ли какой-либо способ получить менеджера печати, чтобы сохранить журнал? Есть ли замена менеджера печати, который сделает это? Как же о пакете, который позволит только доступ к системе для людей в файле паролей? Я посмотрел на чистоту, но он позволит вам войти без пароля, и не держит вкладки о том, кто получился и когда любая помощь будет очень ценится@@@@mark juric ai programsmjuricugaedu university of georgiaathens, georgia 30602 @@@@']\n",
      "7\n"
     ]
    },
    {
     "name": "stderr",
     "output_type": "stream",
     "text": [
      "\r",
      "  8%|██████▌                                                                           | 8/100 [00:30<06:10,  4.03s/it]"
     ]
    },
    {
     "name": "stdout",
     "output_type": "stream",
     "text": [
      "['23Я новый в мире mswindows, и хотя довольно компетентныйsparcnextstep программист, я не знаю, какие разработки kitto купить я слышали хорошие вещи о borland c++ сapplication frameworks и microsofts визуальный c++ с sdk?что я хотел бы, это комментарии людей о том, какие пакеты или наборы инструментов они считают полезными или продуктивными и почему есть множество других комплектов, таких как gui toolkits доступные и удивительно, какие из них являются лучшими в плане надежности, plugand go операции типа, считываемости и так далее id заинтересованы в комментариях по этим или что-либо другое вы можете найти полезнымi будет содержать в сети, если есть достаточно интересзамечания,veenuvrrattcom']\n",
      "8\n"
     ]
    },
    {
     "name": "stderr",
     "output_type": "stream",
     "text": [
      "\r",
      "  9%|███████▍                                                                          | 9/100 [00:36<06:46,  4.47s/it]"
     ]
    },
    {
     "name": "stdout",
     "output_type": "stream",
     "text": [
      "['29Replyto mikedibmcom mike dahmusdisclaimer This post represents the posters views, not necessarily those of ibmnntppostinghost schleppobocaratonibmcomorganization penpm development, psp, ibm boca ratonomin <1993may1706450313114com cliffgacom clifford garrett writesyes, a lot of what os2 20 has in common with os2 1x was written by youguys however, many of the things that made os2 20 so much more successfulwinos2, workplace shell than previous versions were ibm workyes, certainly it was ibm that wrote the windows codecliff, do you know the difference between windows and winos2? heresa helpful hintrunning windows under os2 20 is only possible in real mode, in a dosbox of course, this is only possible with windows 30']\n",
      "9\n"
     ]
    },
    {
     "name": "stderr",
     "output_type": "stream",
     "text": [
      "\r",
      " 10%|████████                                                                         | 10/100 [00:38<05:52,  3.91s/it]"
     ]
    },
    {
     "name": "stdout",
     "output_type": "stream",
     "text": [
      "['11distribution usanntppostinghost donaldccutexasedusummary help with wfwghelpi я пытаюсь найти программное обеспечение, которое позволит перенаправление COM порта под окнами для рабочих групп может кто-то сделать предложение или рекомендоватьчто-то я действительно ненавижу, чтобы написать драйвер для серийного порта, который будет поддерживать сеть, но это мой следующий шагблагодарения в advancebkv']\n",
      "10\n"
     ]
    },
    {
     "name": "stderr",
     "output_type": "stream",
     "text": [
      "\r",
      " 11%|████████▉                                                                        | 11/100 [00:44<06:30,  4.39s/it]"
     ]
    },
    {
     "name": "stdout",
     "output_type": "stream",
     "text": [
      "['41frompwisemanusdedu clifforganizationuniversity of south dakotasubject romanbmp 0114in response to the requests for coolbitmaps I am posting onedate0427 0350 pm_______________________________________________________due to the resolution and size it is in 14 partsthis is a uuencoded bitmap 960x600 256 colorsthe picture is a marbled gazebo on a desert with blue sky backgroundthe size is just right for centered wallpaper on a 1024x768 displaybecause it leaves a border at the bottom just big enough for iconsto fit in without being on top of the picture reguarding imagequality and resolution i have not seen much betterplease do not do thisi dont know how the rest of you read news, but heres how I do it isubscribe to an outernet system which allows me to dial up via modem anddownload email and news articles automatically when someone']\n",
      "11\n"
     ]
    },
    {
     "name": "stderr",
     "output_type": "stream",
     "text": [
      "\r",
      " 12%|█████████▋                                                                       | 12/100 [00:45<04:57,  3.38s/it]"
     ]
    },
    {
     "name": "stdout",
     "output_type": "stream",
     "text": [
      "['4I получить картинку, я просто считаю юморным, что запуск windows 31 приложений 30 для 20 это то, что делает os2 более заслуживает доверияcliff']\n",
      "12\n"
     ]
    },
    {
     "name": "stderr",
     "output_type": "stream",
     "text": [
      "\r",
      " 13%|██████████▌                                                                      | 13/100 [00:49<05:23,  3.72s/it]"
     ]
    },
    {
     "name": "stdout",
     "output_type": "stream",
     "text": [
      "['15ifrom ccastcogatechedu costas malamassubject re windows zipunzipdate 28 apr 93 223155 gmtin article <1rl9b6$h3cdeakinozau russozau russ sharp writeswe are using pkzip v204 and I am interested to hear frompeople who have used one of the many windows programs thatcall theseis there a full windows version that does not call the dos pkzippkunzip commands?russ sharp russeduau ph 05227 1141 fax 05227 2015 there is wunarchive, the replacement of wunzip it only extracts, but it ssupports pkzip 204 it does not require pkzunzip in order to work, and ccosts only $10 to register']\n",
      "13\n"
     ]
    },
    {
     "name": "stderr",
     "output_type": "stream",
     "text": [
      "\r",
      " 14%|███████████▎                                                                     | 14/100 [00:55<06:05,  4.25s/it]"
     ]
    },
    {
     "name": "stdout",
     "output_type": "stream",
     "text": [
      "['36распределение usanntppostinghost eecaeeemsuedujenkcom jen kilmer пишет[много bs удалены для краткости]вновь, моя точка зрения была, что не все microsofties здесь, чтобы продать читателей на наших продуктах, которые будут противоречить с философией noads Usenet, а также мы не обязательно имеют доступ к информации, что другие имеютit определенно smacks, что вспомнить опрос, который вы цитировали говоря, что вы видели 95% пользователей удовлетворены доз 60? заботиться, чтобы вспомнить, какunbiased набор образца был?']\n",
      "14\n"
     ]
    },
    {
     "name": "stderr",
     "output_type": "stream",
     "text": [
      "\r",
      " 15%|████████████▏                                                                    | 15/100 [01:00<06:30,  4.59s/it]"
     ]
    },
    {
     "name": "stdout",
     "output_type": "stream",
     "text": [
      "['30distribution compnntppostinghost colossuscsrpiedui am trying to define my own class derived from the object class so that I may insert them into a hashtable a class provided by thecontainer class libraryi have defined all of the pure virtual functions of object, but istill get an error when i try to allocate a hashentry object cannot create instance of abstract class hashentryhas anyone derived from class object before? what have I left out?here are the virtual functions that I defined from objectvirtual classtypeisaconst return hashentryclass; virtual pchar nameofconst return hashentry; virtual hashvaluetype hashvalue const return hashvaluehwindow; note hwindow is defined in hashentryvirtual intisequal const object _far obj const return this hashentry obj; virtual void']\n",
      "15\n"
     ]
    },
    {
     "name": "stderr",
     "output_type": "stream",
     "text": [
      "\r",
      " 16%|████████████▉                                                                    | 16/100 [01:06<06:45,  4.83s/it]"
     ]
    },
    {
     "name": "stdout",
     "output_type": "stream",
     "text": [
      "['508inreplyto robertsatcdies message of tu, 27 apr 1993 14 4804 gmtnntppostinghost tje12issutokyoacjpin article <robertsa735922084tcdie robertsatcdie andrew l roberts writeswhat exactly does the windows bitmap format look like? i mean, how isthe data stored width, height, no of colours, bitmap data? i couldntfind anything in ths user manual, is there any other reference materialwhich would give me this information?from thomaskodakcom thomas kinsmannewsgroups composmswindowsprogrammermisc,altbinariespicturesutilitiessubject dibbmp creation guide, as requestedkeywords dib bmp bitmaps file formatsmessageid <1992dec2321443218764kodakcomdate 23 dec 92 214432 gm']\n",
      "16\n"
     ]
    },
    {
     "name": "stderr",
     "output_type": "stream",
     "text": [
      "\r",
      " 17%|█████████████▊                                                                   | 17/100 [01:11<06:54,  4.99s/it]"
     ]
    },
    {
     "name": "stdout",
     "output_type": "stream",
     "text": [
      "['22in article <c6eval520portalcom claebaurportalcom tony s annese writesin article <93122134439zhaoamericanedu <zhaoamericanedu writesi am looking for a printer utility which stay in window 31 as an icon andlet you drag a file to it to issue the printingyou have one minimize the print manager and drag a file to it and it willprint it you need to associate file extensions with such things as thenotepad for it to do this thoughtony anneseclaebaurportalcomor claebaurportalcomthis may work, but wont it involve invoking the applications, eg if youdrag a bmp or txt file to the min print manager icon, wont it runnotepad and paintbrush before printing? if you just want to drag a filetxt or bmp to a print server icon, with stay at']\n",
      "17\n"
     ]
    },
    {
     "name": "stderr",
     "output_type": "stream",
     "text": [
      "\r",
      " 18%|██████████████▌                                                                  | 18/100 [01:16<06:59,  5.11s/it]"
     ]
    },
    {
     "name": "stdout",
     "output_type": "stream",
     "text": [
      "['18in article <c6ezhnjlqnet tedmnet ted matsumura writesin article <c6eval520portalcom claebaurportalcom tony s annese writesyou have one minimize the print manager and drag a file to it and it willprint it you need to associate file extensions with such things as thenotepad for it to do this thoughthis may work, but wont it involve invoking the applications, eg if youdrag a bmp or txt file to the min print manager icon, wont it runnotepad and paintbrush before printing? if you just want to drag a filetxt or bmp to a print server icon, with stay at front attributes, youneed an intelligent print manager drag and drop client like amish print 20yes it invokes the associated application that takes but 10 seconds? tony anneseclaebaurportalcomor']\n",
      "18\n"
     ]
    },
    {
     "name": "stderr",
     "output_type": "stream",
     "text": [
      "\r",
      " 19%|███████████████▍                                                                 | 19/100 [01:22<07:04,  5.24s/it]"
     ]
    },
    {
     "name": "stdout",
     "output_type": "stream",
     "text": [
      "['24Вчера, мой друг получил новый водитель для своей карты, что более чем удвоил скорость естественным образом, кроме того, что немного ревнивая одна машина разные карты, это заставило меня думать, что если я использую медленного водителя? не было бы это _страшно_? так netlanders, я нуждаюсь в образцах вашего коллективного опыта sic вы гордитесь владельцами треугольника 8900cвидео карты w 1mb vram испытал более одного водителя fro ms выиграть 31which? Which является самым быстрым? не быть эгоистичным, и дать вам мотив для ответа, я обещаю, что я собираюсь собрать все ответы, и фактические водители предоставлены u дать мне сайт, чтобы получить его от или uuencodemailget winmarks с помощью компьютерных журналов winbench и опубликовать результаты здесьI am interested in svga drivers']\n",
      "19\n"
     ]
    },
    {
     "name": "stderr",
     "output_type": "stream",
     "text": [
      "\r",
      " 20%|████████████████▏                                                                | 20/100 [01:25<06:02,  4.54s/it]"
     ]
    },
    {
     "name": "stdout",
     "output_type": "stream",
     "text": [
      "['12in article <93122134439zhaoamericanedu <zhaoamericanedu writesi am looking for a printer utility which stay in window 31 as an icon andlet you drag a file to it to issue the printingyou have one minimize the print manager and drag a file to it and it willprint it you need to associate file extensions with such things as thenotepad for it to do this thoughtony anneseclaebaurportalcomor claebaurportalcom']\n",
      "20\n"
     ]
    },
    {
     "name": "stderr",
     "output_type": "stream",
     "text": [
      "\r",
      " 21%|█████████████████                                                                | 21/100 [01:28<05:31,  4.19s/it]"
     ]
    },
    {
     "name": "stdout",
     "output_type": "stream",
     "text": [
      "['15а моя подруга использует windows 31 для большей части своей работы, к сожалению, у нее очень плохое зрение, и мы не смогли понять, как изменить по умолчанию шрифт, используемый системой и меню приложений, или шрифт, используемый помощью программы, что использовать гипертекст, если вы не можете прочитать его? сделать его читаемым для нее, если кто-то знает, как увеличить размер этих шрифтов, из любого программного пакета, который делает окна более доступными для людей с ограниченными возможностями зрения, пожалуйста, дайте мне знать, спасибо, Dan']\n",
      "21\n"
     ]
    },
    {
     "name": "stderr",
     "output_type": "stream",
     "text": [
      "\r",
      " 22%|█████████████████▊                                                               | 22/100 [01:32<05:28,  4.21s/it]"
     ]
    },
    {
     "name": "stdout",
     "output_type": "stream",
     "text": [
      "['15I недавно установил windows 31 на моей 486dx33 vlb системы, и я не заметил до прошлой ночи, что у меня нет 386 иконки в моем панели управления я не помню окна настройки спрашивает меня о 386 enhancedmode, хочу ли я его или нет теперь я получил программу, что я только что купил aldus freehand 31 что говорит мне, что я должен Berunning окна в улучшенном режиме выглядит, как я работает в стандартном режиме как можно перейти в улучшенном режиме без небольшой иконки thingie? Есть ли какие-то проблемы, связанные с vesa lb систем, которые вызывают windowsto не хотите дать вам улучшен режим? спасибо за любой helpdavid victor']\n",
      "22\n"
     ]
    },
    {
     "name": "stderr",
     "output_type": "stream",
     "text": [
      "\r",
      " 23%|██████████████████▋                                                              | 23/100 [01:37<05:23,  4.20s/it]"
     ]
    },
    {
     "name": "stdout",
     "output_type": "stream",
     "text": [
      "['26xnewsreader tin 11 pl4i имеют вопрос о автоматических чекбоксах в windowsis это возможность позволить коробкам иметь несколько различных цветов в то же время?frode kvam _______________________________________________________________ _________ ___ ___ _____ _ _ _ _ _ _ __ ___ ___ _ _ ______ _ _ _ _ ___ _ _ _ _____ ___ _____ c_______________________________________________________________________________ namefrode kvam univuniversity of Sandefjord, dept of informatics email frodeunitno snailmaillademoens Nørgenalle 8 7042 Hørgen voice + 47 7 50 45 06_______________________________________________________________________________ beware of programmers who carry screwdrivers _______________________________________________________________']\n",
      "23\n"
     ]
    },
    {
     "name": "stderr",
     "output_type": "stream",
     "text": [
      "\r",
      " 24%|███████████████████▍                                                             | 24/100 [01:42<05:47,  4.57s/it]"
     ]
    },
    {
     "name": "stdout",
     "output_type": "stream",
     "text": [
      "['14nntppostinghost dukebarmcdukeeduxnewsreader tin [version 11 pl9] Майкрософт является крупнейшей программной компанией на планете, но я не могу думать даже о одной концепции вычислительной техники, что они инновационно и принесли на рынок до любого другого xeroxparcapple, osborne, следующий, gnu и другие были pioniers и ведут путь к будущему вычислительной техники, что Майкрософт сделал, чтобы быть технологическим лидером?']\n",
      "24\n"
     ]
    },
    {
     "name": "stderr",
     "output_type": "stream",
     "text": [
      "\r",
      " 25%|████████████████████▎                                                            | 25/100 [01:48<06:04,  4.85s/it]"
     ]
    },
    {
     "name": "stdout",
     "output_type": "stream",
     "text": [
      "['32in article <messinac6b7zlihocom messinacom tony porczyk writesajayshahuscedu ajay shah writesthe preferred applications development platformaccording to 432 of the fortune 1000 corporationssurvey by sentry market research survey 19921993unix 18 28mainframe35 22dos msw24 18development of what? inhouse apps? maybe, but certainly not appsto be sold on an open market statistics like that are laughable,because they may simply mean that there are not enough shrinkwrappedusable apps for unix and they have to be developed disproportionatelyoften as compared to the installed unix basetactually, you might be surprised to find that not everyone who developmainstream dos and windows apps develops them under dos or windows pcweek recently printed a rumor that microsofts excel development groupdoes its development under os2']\n",
      "25\n"
     ]
    },
    {
     "name": "stderr",
     "output_type": "stream",
     "text": [
      "\r",
      " 26%|█████████████████████                                                            | 26/100 [01:51<05:30,  4.47s/it]"
     ]
    },
    {
     "name": "stdout",
     "output_type": "stream",
     "text": [
      "['15hi,ive получил старый 38625 материнской платы старый, как в, использует контроллер клавиатуры 1988 года, и использует память интерleaving, а не Cachingit разработала проблему, где пытаясь копировать файлы из дискеты, что приводит машина к заблокировке reset кнопки требуется, но только тогда, когда в 386улучшенный режим это происходит в norton desktop, файловый менеджер, и когда пытаясь установить программное обеспечение работает Win 31 в стандартном режиме работает хорошоhas кто-то работает в этом? какие-либо идеи? большое спасибо appreciateddavidyonstdcom']\n",
      "26\n"
     ]
    },
    {
     "name": "stderr",
     "output_type": "stream",
     "text": [
      "\r",
      " 27%|█████████████████████▊                                                           | 27/100 [01:55<05:18,  4.37s/it]"
     ]
    },
    {
     "name": "stdout",
     "output_type": "stream",
     "text": [
      "['14nntppostinghost kralizeczetaorgausummary do we need sdk as well as ddk?keywords sdk, windowsthe microsoft windows device driver kit ddk documentation blurbstates that the user must separately acquire the microsoft windowssoftware development kit sdk, which contains the windows toolsto build the drivers if we are using borland c++ with applicationframeworks, is this necessary? we also have a copy of the microsoftpress programmers reference library books which normally comeswith the sdk, and microsoft macro assembler 60 why is the sdkneccessary for development of virtual device drivers? steven murray posted on behalf of brian davies']\n",
      "27\n"
     ]
    },
    {
     "name": "stderr",
     "output_type": "stream",
     "text": [
      "\r",
      " 28%|██████████████████████▋                                                          | 28/100 [02:01<05:38,  4.70s/it]"
     ]
    },
    {
     "name": "stdout",
     "output_type": "stream",
     "text": [
      "['33nntppostinghost mailszrzzrztuberlindehi everybody out there,i just got the third beta release disk march 93 of windowsntand still am not able to boot up that system the final stepachieved is the display of ioerror 0x0069 but, since this isthe beta release of the sdk for nt and not of nt, microsoft doesnot include a manual on the os itself, explaining what thiserror means of what i can do to get rid of my configurationis mainboard hauppauge 486025, rev a7 a 486 with socket for i860 28megs of memory 512k36,1m36,2m36ami eisa scsi controller 15series, latest bios, 16mb cachest41200n hard disk syquest 555 removable disk toshiba 3301 cd rom driveproaudio spectrum plus 16longshine ether']\n",
      "28\n"
     ]
    },
    {
     "name": "stderr",
     "output_type": "stream",
     "text": [
      "\r",
      " 29%|███████████████████████▍                                                         | 29/100 [02:05<05:20,  4.52s/it]"
     ]
    },
    {
     "name": "stdout",
     "output_type": "stream",
     "text": [
      "['12nntppostinghost deltaengumdeduin article <syshtg735844032gsuedu syshtggsuedu Tom Gillman writescheongtechnetsg scstech admin writessometime ago there are some discussions on gaining compuserve access thruthe internet but I seem to misplace those articles can someone pleaserefresh me where which site I can telnet to gain accessto send a message to a compuserve user via internet email enter themail mode and address your receiver as follows 723123313comthe number is the receivers compuserve id number if the users numbercontains a comma or anything other than a period, change it to a period']\n",
      "29\n"
     ]
    },
    {
     "name": "stderr",
     "output_type": "stream",
     "text": [
      "\r",
      " 30%|████████████████████████▎                                                        | 30/100 [02:10<05:36,  4.81s/it]"
     ]
    },
    {
     "name": "stdout",
     "output_type": "stream",
     "text": [
      "['25У меня есть eisa машина и я просто не понимаю, почему mosteisa видеокарт только совпадают с производительностью их isacounterparts, например, eisa orchid про дизайнер iise только примерно так быстро, как isa diamond speedstar плюс, что не то, что я бы назвал fasti не понимаю, почему eisa видеокарты нет, как группа, на том же уровне производительности, как местные карты автобуса, учитывая, что eisa видеокарты имеют 32-битный автобус перемещать данные вокруг, вместо isas 8 битssince они не являются, почему кто-то из меня включить платить более высокую цену за eisa видеокарты, когда ее производительность не лучше и часто хуже, чем гораздо дешевле isa видеокарты, такие как adiamond speedstar 24x? из компьютерных журналов я думаю, недавний отчет, я знаю, что ati делает довольно быстры']\n",
      "30\n"
     ]
    },
    {
     "name": "stderr",
     "output_type": "stream",
     "text": [
      "\r",
      " 31%|█████████████████████████                                                        | 31/100 [02:15<05:25,  4.71s/it]"
     ]
    },
    {
     "name": "stdout",
     "output_type": "stream",
     "text": [
      "['18видим с типографической точки зрения, я использую Postscript fontsis лучше, чем Truetype; механизм подсказки, встроенный в ps isgorgeousmultilingual пользователи могут видеть предел возможных различных символов ina ps шрифта как проблематично; они могут иметь лучшее использование unicodefeatures tt шрифтов в windows ntive видел много действительно красивых и напечатаемыхinsmallsize ps шрифтов; я не видел, что как tt шрифтов большинство из них делают довольно неточно в небольших размерах, esp как экранные шрифтыпросто сравнить timesnewroman как ps шрифта с tt шрифта; первый взгляд лучше я надеюсь, что будет atmntclaudius mokleremail moklerinberlinde']\n",
      "31\n"
     ]
    },
    {
     "name": "stderr",
     "output_type": "stream",
     "text": [
      "\r",
      " 32%|█████████████████████████▉                                                       | 32/100 [02:18<04:48,  4.24s/it]"
     ]
    },
    {
     "name": "stdout",
     "output_type": "stream",
     "text": [
      "['15i только что обновили с треугольник tvga9000 на ati графики ультра старый чип mach8 я вполне доволен производительности до сих пор, но есть одна проблема при использовании Windows в 800x600, я заметил, что плитки и рулонные панели значительно больше, чем они были, когда iwas с помощью треугольник карты есть настройка в моих ini файлах, что я могу изменить, чтобы сделать эти меньше? я не мог найти FAQ для этого спискаmikemdtancsauwaterlooca']\n",
      "32\n"
     ]
    },
    {
     "name": "stderr",
     "output_type": "stream",
     "text": [
      "\r",
      " 33%|██████████████████████████▋                                                      | 33/100 [02:23<05:08,  4.60s/it]"
     ]
    },
    {
     "name": "stdout",
     "output_type": "stream",
     "text": [
      "['35dmittlemanbpaarizonaedu daniel mittleman пишет, что это может быть faq, если так, пожалуйста, направляйте меня к известному ответу, но я получаю разочарование и в поисках помощи я запускаю Win 31 с ndw 22 на 486sx с 8 мегабайт памяти и 6 мегабайт файл обмена perm и получаю чрезмерно разочарование, что мои приложения не дают обратно системные ресурсы, когда я закрываю их <большие строки удалены dannydaniel david mittleman dannyedu 602 6212932dannywhile работая на моей панели инструментов shareware, я нашел себя съесть ресурсы, и очень мудрая личность указала мне на sdk, и в частности, деbugkernel, как только у вас есть все sdk вещи установлены, это также поставляется сvc++, вы запустите n2d,']\n",
      "33\n"
     ]
    },
    {
     "name": "stderr",
     "output_type": "stream",
     "text": [
      "\r",
      " 34%|███████████████████████████▌                                                     | 34/100 [02:29<05:20,  4.85s/it]"
     ]
    },
    {
     "name": "stdout",
     "output_type": "stream",
     "text": [
      "['26У меня есть проблема с обоями на моем рабочем столе, в 1024x768x256 режиме для файлов bitmap больше, чем около 512k немного меньше иногда в зависимости от точных размеров, дисплей обоев плохо поврежден остальная часть рабочего стола хорошо для обоев bitmaps меньше, чем это, у меня нет проблем у меня есть друг, который имеет 800k bitmap, с которым он не имеет проблем, так что это возможно, это также возможно, чтобы отображать этиbitmaps с помощью cshow в 1024x768x256 режиме без проблем, так что видеокарта не на faulthow can I remedy this?my system 386dx40, 4mb ram dos 60, windows 31 Oak 1mb 077 видеокарта, 1024x768x256 режим, с помощью поставщиков драйверов windows имеет постоянный 11,288kb обмен файлпожалуйста ответ через e-mail, и']\n",
      "34\n"
     ]
    },
    {
     "name": "stderr",
     "output_type": "stream",
     "text": [
      "\r",
      " 35%|████████████████████████████▎                                                    | 35/100 [02:33<04:54,  4.53s/it]"
     ]
    },
    {
     "name": "stdout",
     "output_type": "stream",
     "text": [
      "['13dmittlemanbpaarizonaedu daniel mittleman пишет, что это может быть faq, если так, пожалуйста, направляйте меня к известному ответу, но я получаю разочарование и в поисках помощи я запускаю Win 31 с ndw 22 на 486sx с 8 мега памяти и 6 мега файл обмена Perm и получаю чрезмерно разочарование, что мои приложения не дают обратно системные ресурсы, когда я закрываю themive заметил это также так, как это было объяснено мне, что windowsdoes не очистить верхние блоки памяти после программы сделана кто-то там знает, если это почему?']\n",
      "35\n"
     ]
    },
    {
     "name": "stderr",
     "output_type": "stream",
     "text": [
      "\r",
      " 36%|█████████████████████████████▏                                                   | 36/100 [02:38<05:08,  4.83s/it]"
     ]
    },
    {
     "name": "stdout",
     "output_type": "stream",
     "text": [
      "['57xnewsreader tin [version 11 pl8]phang, philadelphia area nextstep user group, will hold a public sneak preview of nextstep for intel processorswhere david rittenhouse labs room a1 33rd and walnut, southeast corner, philadelphia pawhen wednesday, May 5th 7 pm to 9 pm nextstep is the 32 bit unix based operating environment which has, until now,only been available on motorolabased next computers in the May 11th issueof pc magazine called nextstep a hot prospect now, next is nearing releaseof a version of nextstep which will run on 486based pcs, yet is identical tothe 68040 version in fact, nextstep 31 includes the ability to easily compile a program into a single binary which will run on both intel andmotorola hardwarenextstep 31 for intel processors']\n",
      "36\n"
     ]
    },
    {
     "name": "stderr",
     "output_type": "stream",
     "text": [
      "\r",
      " 37%|█████████████████████████████▉                                                   | 37/100 [02:40<03:59,  3.80s/it]"
     ]
    },
    {
     "name": "stdout",
     "output_type": "stream",
     "text": [
      "['12i просто интересно, если кто-то новый, как я могу получить бета-версию windowsnt, и быть частью бета-программыthanksgelcsmcgillcaps пожалуйста, ответьте по электронной почте']\n",
      "37\n"
     ]
    },
    {
     "name": "stderr",
     "output_type": "stream",
     "text": [
      "\r",
      " 38%|██████████████████████████████▊                                                  | 38/100 [02:45<04:27,  4.31s/it]"
     ]
    },
    {
     "name": "stdout",
     "output_type": "stream",
     "text": [
      "['21I действительно думаю, что вы сравнивают яблоки и помаранчеви никто не спорит, что os2 имеет больше больших os функций вопрос заключается в том, есть ли индивидуальная потребность в мощности продаж windows против os2 ответ на этот вопрос следующий вопрос даже если я хотел, чтобы запустить os2и я имел этот большой монстр машины, чтобы запустить его, есть различные набор приложений, чтобы запустить на нем, которые позволяют мне производитьviely делать мою работу идти в свой локальный компьютер магазин ответить на это oneI думаю, что сравнение, которое вам нужно делать это nt против os221 это где новые линии сражения будут с drawn windows 31 выигралаシングル пользовательский компьютер войны следующий будет клиент сервер войны и записи nt, os221, UNIX и Netware 40granted эти oss будут в конечном итоге уменьшаться до beattractive к single user pc и что, вероятно, будет фаза iiof']\n",
      "38\n"
     ]
    },
    {
     "name": "stderr",
     "output_type": "stream",
     "text": [
      "\r",
      " 39%|███████████████████████████████▌                                                 | 39/100 [02:49<04:08,  4.08s/it]"
     ]
    },
    {
     "name": "stdout",
     "output_type": "stream",
     "text": [
      "['17в статье <23712couk я написала, я пытаюсь захватить некоторые 256цветные скриншоты из окон в настоящее время я пытаюсь нажать печатный экран, чтобы скопировать экран в буфер обмена, а затем вставить буфер обмена в окно пакет красок много спасибо за ответы я получил на это пару людейsuggested, как я мог бы получить пакет красок работать должным образом, но в конце я взял совет другого, чтобы попробовать paintshop Pro fromcicaindianaedu спасибо сноваphilip практики случайной доброты и бессмысленных действий красоты']\n",
      "39\n"
     ]
    },
    {
     "name": "stderr",
     "output_type": "stream",
     "text": [
      "\r",
      " 40%|████████████████████████████████▍                                                | 40/100 [02:54<04:33,  4.56s/it]"
     ]
    },
    {
     "name": "stdout",
     "output_type": "stream",
     "text": [
      "['47<c6b79g28yecnpurdueeduunntppostinghost andrewcmueduinreplyto <c6b79g28yecnpurdueedu [в самом деле, когда вы приходите к нему кто заботится я просто надеюсь, что ms продолжает делать то, что они делают лучше, получая полезное производственное программное обеспечение для масс-летов увидеть, какие ms продукты не имеют крупных ошибок в них?']\n",
      "40\n"
     ]
    },
    {
     "name": "stderr",
     "output_type": "stream",
     "text": [
      "\r",
      " 41%|█████████████████████████████████▏                                               | 41/100 [03:00<04:47,  4.87s/it]"
     ]
    },
    {
     "name": "stdout",
     "output_type": "stream",
     "text": [
      "['50distribution usa<c6z0f52c3ucedunntppostinghost po3andrewcmueduinreplyto <c6z0f52c3ucedubferrelloccucedu brett ferrell writes in article <1993may1301540724313com jenkcom jen kilm er writes found there were actually two surveys one of randomly selected^^^^^^^^^^^^^^ resellers, one of randomly selected users from the 6 upgrade ^^^^^^^^^^^^^^ registered user database both surveys showed a 93% positive rating jenif jd power and associates did the survey, I would like an anonymous ftp site to pick it up at only a sucker believesan ms released survey results about a ms product okassumethat the results of the survey, whatever they are, are 100%honest if the results indicated extreme dissatisfaction with']\n",
      "41\n"
     ]
    },
    {
     "name": "stderr",
     "output_type": "stream",
     "text": [
      "\r",
      " 42%|██████████████████████████████████                                               | 42/100 [03:05<04:50,  5.01s/it]"
     ]
    },
    {
     "name": "stdout",
     "output_type": "stream",
     "text": [
      "['23в статье <735952415aa01739454fidonetorg c doelle writesbrad, что это процедура, используемая для специального сжатия файла bmp? я хотел бы использовать некоторые из моих файлов bmp я создал в качестве логотипа экран thankschris происхождения chrisdoellen106z1fidonetorg 1106333326я не знаю специфики алгоритма сжатия, но я использовала программуshareware, paintshop, чтобы конвертировать между двумя вы можете скачать его из ftpcicaindianaedu, но я не знаю, что файл называется или какой каталог это в вы можете начать, глядя в pubpcwin3 или пытаясь сканировать индексные файлы, чтобы конвертировать файл bmp в файл rle, вы просто загрузить файл bmp и сделать asave как выберите окно bitmap и сжатый или это rle?']\n",
      "42\n"
     ]
    },
    {
     "name": "stderr",
     "output_type": "stream",
     "text": [
      "\r",
      " 43%|██████████████████████████████████▊                                              | 43/100 [03:11<04:54,  5.17s/it]"
     ]
    },
    {
     "name": "stdout",
     "output_type": "stream",
     "text": [
      "['30Есть ситуация в доме, у меня есть ms word для windows, но нет принтера на работе, у меня есть windows + Postscript принтер, но не ms word так, я настройка моего компьютера в доме, чтобы использовать Postscript принтер, и использовать Print to File опцию, которая производит хороший Postscript файл, который я затем принести к работемое вопрос, как я печатать этот Postscript файл через Printmanager на работе? Если, например, я выберу Print из Filemanager, он относится Postscript как текстовый файл, и дает meseveral страниц Postscript gibberishi знают, что я могу открыть DOS окно и делать копию Fileps com1, который работает, но кажется, не мультизадачей очень хорошо другие приложенияrun довольно медленно и часто паузы на 10 секундthere должен быть способ передачи Postscript файла в Printmanager, но если есть, я не могу найти упоминания о нем']\n",
      "43\n"
     ]
    },
    {
     "name": "stderr",
     "output_type": "stream",
     "text": [
      "\r",
      " 44%|███████████████████████████████████▋                                             | 44/100 [03:16<04:54,  5.26s/it]"
     ]
    },
    {
     "name": "stdout",
     "output_type": "stream",
     "text": [
      "['26thomasdfellrath1eduedu wrote size is another factor the bj200 is much smaller, but the hp is built like a tank I bet the bj200 would get damaged firstyou bet your bippy its built like a tank and not just mechanically eitherthis weekend we had a nasty thunderstorm and the impossible ^%happened I got a direct lightning strike on my house and to the secondfloor outlet box into which my faithful deskjet 500c was connected therewas a 303bulletsized hole in the aluminum siding with some solidifiedaluminum slag dripping from it you could actually see the electrical boxthrough the hole the outlet itself was fried and im still amazed thewhole damn house didnt burn downi lost 2 electric garage door openers, 2 vcrs, 2 telephones all of whichwere on the opposite side of the house, a zyxel u1496e']\n",
      "44\n"
     ]
    },
    {
     "name": "stderr",
     "output_type": "stream",
     "text": [
      "\r",
      " 45%|████████████████████████████████████▍                                            | 45/100 [03:22<04:53,  5.34s/it]"
     ]
    },
    {
     "name": "stdout",
     "output_type": "stream",
     "text": [
      "[\"62in article <1993apr27152233906eecsuicedu you writecahraincom chris huey writesjamie scuglia jamieapanaorgau wrote thanks to all those people who recommended workspace managers for windows 31 I found 3 shareware workspace managers, from australias mswindows archive monu6ccmonasheduau, which mirrors some sites in the us the three I found were 1 workspaces 110 wspacezip[ review deleted ] 2 workshift 16 wrksft16zip[ review deleted ] 3 bigdesk 230 and backmenu backdeskzip[ review deleted ]I really appreciate this information however, given that I don't havedirect internet access which means I don't have archie access I mustresort to using ftpmail this means that I need the site name and the directory where these workspace managers are locatedbackdeskzip\"]\n",
      "45\n"
     ]
    },
    {
     "name": "stderr",
     "output_type": "stream",
     "text": [
      "\r",
      " 46%|█████████████████████████████████████▎                                           | 46/100 [03:27<04:50,  5.37s/it]"
     ]
    },
    {
     "name": "stdout",
     "output_type": "stream",
     "text": [
      "['27в статье <57981004uupcbcom lestomcom les Tom пишет maw ying yuan написал из yuanenghawaiiedu maw ying yuansubject замены для программного менеджера и файлового менеджера?messageid <c68g1gjujhawaiiedudate thu, 29 apr 1993 064404 gmзамена для Win31s программного менеджера и файлового менеджера?yuanenghawaiieduhi,ive были использовать плагин планета мастеров для программного менеджераbest one я видел цео, с помощью Sloop программного обеспечения они имеют asharware версии, но розничная версия составляет только $4050 это невероятно завершено, подкачки на любой уровень, выбрать любой значок, горячие клавиши, Drop down меню, кнопки бары, и т.д. не нашли ничего, что он не пытается посылать 72540144comfor']\n",
      "46\n"
     ]
    },
    {
     "name": "stderr",
     "output_type": "stream",
     "text": [
      "\r",
      " 47%|██████████████████████████████████████                                           | 47/100 [03:31<04:13,  4.79s/it]"
     ]
    },
    {
     "name": "stdout",
     "output_type": "stream",
     "text": [
      "['13распределение worldnntppostinghost trampccutexasedui использовали winqvtnet 281 под win31 доз 50 в течение некоторого времени без каких-либо проблем я недавно установил доз 60 на мой 38640 pcand я не могу работать winqvtnet больше я не получаю пакет получил недействительный портрет отправленные сообщения на консольное окно я не могу получить больше, чем 1 telnet окно и не могу использовать ftpany предложения будут очень благодарныthanks,george kontoravdiscondorccutexasedu']\n",
      "47\n"
     ]
    },
    {
     "name": "stderr",
     "output_type": "stream",
     "text": [
      "\r",
      " 48%|██████████████████████████████████████▉                                          | 48/100 [03:37<04:26,  5.13s/it]"
     ]
    },
    {
     "name": "stdout",
     "output_type": "stream",
     "text": [
      "['58in article <1993apr2816191017062gwuedu louraygwuedu michael panayiotakis writesin article <735952415aa01739454fidonetorg cdoellef3333n106z1fidonetorg c doelle writeshello bradmonday 26 апреля 1993 1724, brad smalling wrote to crosspost 1 all bs copy b wincnf+vgalogolgo+vgalogorle wincom unnecessary bs i grabbed this from _supercharging windows_ by judd robbinsgreat book bs this is also how you can put your own logo into the windows startupmight do it, too much trouble brad,bmp will convert to rle i know for a fact that paintshopshareware from cica; desktop, i think, filename psvvvzip i think,where vvv is the']\n",
      "48\n"
     ]
    },
    {
     "name": "stderr",
     "output_type": "stream",
     "text": [
      "\r",
      " 49%|███████████████████████████████████████▋                                         | 49/100 [03:42<04:26,  5.23s/it]"
     ]
    },
    {
     "name": "stdout",
     "output_type": "stream",
     "text": [
      "['31в статье <1t8fl2$ehsuncaedu, kepleyphysuncaedu пишет в статье <1993May161437224555oituncedu diladminuncedu dave laudicina пишет вопрос следующий вопрос, даже если я хотел бы запустить os2 и я имел этот большой монстр машины, чтобы работать на нем, есть ли разнообразный ^^^^^^^^^^^^^^^^^^^^^^^^^^^^^^^^^^^^^^^^^^^^^ я думаю, что вы намеренно преувеличивая требования для os2 учитывая, что os2 является многопоточной истинной мультиtasking os и занимает место до и окна и многое другое, я действительно думаю, что требования для os2 очень приветственны я также думаю, что любой, использующий windows 31 без 8 мегабайт ram, a 38640, и 200 мегабайт места на жестком диске, бьет головой против стены,']\n",
      "49\n"
     ]
    },
    {
     "name": "stderr",
     "output_type": "stream",
     "text": [
      "\r",
      " 50%|████████████████████████████████████████▌                                        | 50/100 [03:47<04:25,  5.31s/it]"
     ]
    },
    {
     "name": "stdout",
     "output_type": "stream",
     "text": [
      "['28<1993May115470710177clemsonedunntppostinghost andrewcmueduinreplyto <1993May115470710177clemsoneduludesclemsonedu larry ludes ludwig writes [недоступная ссылка] bferrelloccucedu brett ferrell writes if you think that windows is useable, you must not use it much windows version of crash protection is wearing a helmet while computing the arir air bag is a expensive addon brett you must of reading too many os2 advertisements crash protection is such a marketing gimick, it isnt funny out of 4 months of using windows on my new machine ive only had it crash once, and i dont have a run of the mill configurationwow, what did you use it for? singletasked word processing?i have 8 files loaded right now and a 29mb virtual machine 12mb ofram']\n",
      "50\n"
     ]
    },
    {
     "name": "stderr",
     "output_type": "stream",
     "text": [
      "\r",
      " 51%|█████████████████████████████████████████▎                                       | 51/100 [03:53<04:21,  5.35s/it]"
     ]
    },
    {
     "name": "stdout",
     "output_type": "stream",
     "text": [
      "['39Есть интересная таблица, показывающая, сколько ресурсов приложенияиспользует и сколько он дает обратно при отключении это взять отwindows пользователь может 1993 выпускapplicationmin ресурсов пользователяsource не вернулсяgdiusergdiuserwinsleuth золото v303106214word для windows v20b10050lotus 123 v1113332arts и Liters v3127731powerpoint v309130corel рисунок v3010630micro designer v3110220crosstalk v200000excel v40a11800hijacck v102200imagein color pro3200picture publisher v3121800powerleads executive ed v1030500adobe type manager v2510nanaskylight v201000 цифры в процентах и в порядке уменьшенияwhat does this table tells you, if you frequently start and exit aprogram that doesnt give back all its resources, then you']\n",
      "51\n"
     ]
    },
    {
     "name": "stderr",
     "output_type": "stream",
     "text": [
      "\r",
      " 52%|██████████████████████████████████████████                                       | 52/100 [03:54<03:22,  4.22s/it]"
     ]
    },
    {
     "name": "stdout",
     "output_type": "stream",
     "text": [
      "['11im ищет способ, чтобы получить наш логотип компании на документы и вычислить самый простой способ, чтобы поставить его в шрифте Есть ли какие-либо программы publicdomain, которые могут сделать это? Есть ли какие-либо shareware, которые сделают это?']\n",
      "52\n"
     ]
    },
    {
     "name": "stderr",
     "output_type": "stream",
     "text": [
      "\r",
      " 53%|██████████████████████████████████████████▉                                      | 53/100 [03:55<02:25,  3.10s/it]"
     ]
    },
    {
     "name": "stdout",
     "output_type": "stream",
     "text": [
      "['4cicaindianaedu pcdrivers текущая версия 20?']\n",
      "53\n"
     ]
    },
    {
     "name": "stderr",
     "output_type": "stream",
     "text": [
      "\r",
      " 54%|███████████████████████████████████████████▋                                     | 54/100 [04:01<02:56,  3.85s/it]"
     ]
    },
    {
     "name": "stdout",
     "output_type": "stream",
     "text": [
      "['48 в статье <sundaram737186206 sundarammsuedu wrote jenkcom jen kilmer writes [большие bs удалены для краткости] снова, моя точка зрения была, что не все microsofties здесь, чтобы продать читателей на наших продуктах, которые будут противоречить с философией noads Usenet или мы обязательно имеют доступ к информации, что другие имеют это, конечно, smacks из того, что вспомнить опрос, который выцитировали, говоря, что вы видели 95% пользователей удовлетворены доз 60? заботиться, чтобы вспомнить, насколько непредвзятый набор образца был? что пост, конечно, выглядел, как фид и приходит из microsoftie хорошо, это, конечно, казалось, что что что-то не на уровнеit пришел из опроса продавцов пропаганды хорошо, но распространение фид, чтобы защищать ваш любимый os очень неэтично, особенно']\n",
      "54\n"
     ]
    },
    {
     "name": "stderr",
     "output_type": "stream",
     "text": [
      "\r",
      " 55%|████████████████████████████████████████████▌                                    | 55/100 [04:03<02:30,  3.35s/it]"
     ]
    },
    {
     "name": "stdout",
     "output_type": "stream",
     "text": [
      "['8да, многое из того, что os2 20 имеет в общих чертах с os2 1x было написано youguys однако, многие из вещей, которые сделали os2 20 так много более успешнымwinos2,shell на рабочем месте, чем предыдущие версии были ibm workyes, конечно, это был ibm, который написал кодик windows']\n",
      "55\n"
     ]
    },
    {
     "name": "stderr",
     "output_type": "stream",
     "text": [
      "\r",
      " 56%|█████████████████████████████████████████████▎                                   | 56/100 [04:08<02:55,  3.99s/it]"
     ]
    },
    {
     "name": "stdout",
     "output_type": "stream",
     "text": [
      "['30 в статье <1993May121174125086umdedu rsrodgerumdedu yamanariwritesin article <c6d61625mucedu bferrelloccucedu brett ferrellwritesin article <1993May115470710177clemsonedu ludesclemsonedularry ludes ludwig пишет и не может адресовать свой память лучше, чем DOS,не уверен, что вы имеете в виду здесь os2 видит 16 мегабайт, использует 5 или шесть из них для собственного использования больше, если вы хотите подсчитать winos2 windows видит 16 мегабайт, использует 3 или 4 больше, как 5, если вы подсчитаете дисковый накопитель, как я для os2 для себя, если эффективность памяти была большой проблемой, PC geos будет текущим королём Intel Desktopi предполагал, что он ссылается на os2s 32-битный плоский модель адресации']\n",
      "56\n"
     ]
    },
    {
     "name": "stderr",
     "output_type": "stream",
     "text": [
      "\r",
      " 57%|██████████████████████████████████████████████▏                                  | 57/100 [04:10<02:23,  3.34s/it]"
     ]
    },
    {
     "name": "stdout",
     "output_type": "stream",
     "text": [
      "['8 Есть ли способ использовать мышь при запуске программы dos windowed inwin 31? когда вы окна программы dos в улучшенном режиме, я могу видеть, где мышь курсор был, но это не работает никакой помощи, которая будет очень ценится спасибоhansang baehbaeunomahaedu']\n",
      "57\n"
     ]
    },
    {
     "name": "stderr",
     "output_type": "stream",
     "text": [
      "\r",
      " 58%|██████████████████████████████████████████████▉                                  | 58/100 [04:15<02:45,  3.93s/it]"
     ]
    },
    {
     "name": "stdout",
     "output_type": "stream",
     "text": [
      "['24in article <mekenkamp6737653432wileidenunivnl mekenkampwileidenunivnl leo mekenkamp writesexcuse me? are you one of those people who enjoy working wwin? come talk to a housemate of mine and tell him how productive his life is when he encountered yet another sudden appearance of the dosprompt while cutting and pasting in win or a empty win screen without any tasks running ie^esc brings up a empty list, progman has done it againsighdont know what your roomate is doing but it must be something wrongare there people who enjoy using windows? yes ill admit to it givena choice between a mac and windows i choose windows every time to start another flame thread 9iskandar taibthe only thing worse than peach alainternet ntaibucsindianaedu frog is frog ala peachbitnetntaib']\n",
      "58\n"
     ]
    },
    {
     "name": "stderr",
     "output_type": "stream",
     "text": [
      "\r",
      " 59%|███████████████████████████████████████████████▊                                 | 59/100 [04:21<03:05,  4.52s/it]"
     ]
    },
    {
     "name": "stdout",
     "output_type": "stream",
     "text": [
      "['65Я хотел бы обратиться к сетям nt волшебников для небольшого советаперво общее описание машины, как следует motherboard utron 33 mhz опти чипсет, 20 мега памяти, 256kb cachesoon я надеюсь, чтобы поместить в него dx2 чип fahrenheit 1280 видео 1 мега, 1024x768x256 проаудио спектр 16 звуковой панели первичный диск коннор cp30174 на Caching ide контроллер вторичный диск коннер cp30174 как раб на том же контроллер Tertiary disk fujitsu??? 650 мега на Superstore esdi контроллер запланированные будущие диски включают scsi hd и cd rom на pas16 scsi порт ленты привод colorado jumbo 250 на диске дискового контроллера будущий ленты привод может быть дата на интерфейсе scsi другое оборудование включает modemfax, серийные']\n",
      "59\n"
     ]
    },
    {
     "name": "stderr",
     "output_type": "stream",
     "text": [
      "\r",
      " 60%|████████████████████████████████████████████████▌                                | 60/100 [04:24<02:44,  4.10s/it]"
     ]
    },
    {
     "name": "stdout",
     "output_type": "stream",
     "text": [
      "['11ive получил старый супер vga карточки производства Сампо из Тайваня и ищут драйвер windows 31 для него его на основе cirrus logicclgd510a32pcb чип я связался с поставщиками здесь в Новой Зеландии и они говорят, что только windows 2 дайверы были когда-либо написаны производителем, так что если есть драйвер v31 для этого комплекта чипов id хотел бы знать предпочтительно по электронной почте в rjwjamesacnzthanks является advanceross James']\n",
      "60\n"
     ]
    },
    {
     "name": "stderr",
     "output_type": "stream",
     "text": [
      "\r",
      " 61%|█████████████████████████████████████████████████▍                               | 61/100 [04:27<02:22,  3.66s/it]"
     ]
    },
    {
     "name": "stdout",
     "output_type": "stream",
     "text": [
      "['9andrew l roberts robertsatcdie написал, как именно выглядит формат Windows bitmap? я имею в виду, как данные хранятся ширина, высота, нет цветов, bitmap данные? я не мог найти ничего в ths пользовательского руководства, есть ли еще какой-либо другой справочник, который даст мне эту информацию? спасибо, andrewtry Windows мультимедийный kit, он имеет большинство форматов файлов определены']\n",
      "61\n"
     ]
    },
    {
     "name": "stderr",
     "output_type": "stream",
     "text": [
      "\r",
      " 62%|██████████████████████████████████████████████████▏                              | 62/100 [04:28<01:44,  2.75s/it]"
     ]
    },
    {
     "name": "stdout",
     "output_type": "stream",
     "text": [
      "['3hii нуждается в кодабаре шрифта для win tt или другиеthanks']\n",
      "62\n"
     ]
    },
    {
     "name": "stderr",
     "output_type": "stream",
     "text": [
      "\r",
      " 63%|███████████████████████████████████████████████████                              | 63/100 [04:33<02:10,  3.53s/it]"
     ]
    },
    {
     "name": "stdout",
     "output_type": "stream",
     "text": [
      "[\"25in article <c6y2mzdnpclaremontedu tlilleyclaremontedu ted writesin article <timbolc6y1b47n0com timbolcom mike timbol writesanyway, how about this I give you my word, without naming sources, that ibmpaid companies to write applications for os2 satisfied?not really query what do you mean by paid? are you implying that helped tooffset development costs, or paid for the entire cost of producing the producti mean they paid the companies that developed the applications ie wellgive you x million dollars if you port application y to os2 i supposethe company in question could use the x million dollars for whatever theywantwould you like to post figures?for ms as well, i supposetedno, id rather not first of all, I don't have exact figures, and I don't want to disclose\"]\n",
      "63\n"
     ]
    },
    {
     "name": "stderr",
     "output_type": "stream",
     "text": [
      "\r",
      " 64%|███████████████████████████████████████████████████▊                             | 64/100 [04:35<01:52,  3.12s/it]"
     ]
    },
    {
     "name": "stdout",
     "output_type": "stream",
     "text": [
      "['12В последнее время, окна начали давать мне ошибку звук Blaster требует более новой версии windows 31 она работала правильно долгое время, и не знаю, что проблема может быть благодаря Jeff kaz kaczmarek kazeduthe future is long past forgotten, when youre on the road to madnessgeoff tate queensryche']\n",
      "64\n"
     ]
    },
    {
     "name": "stderr",
     "output_type": "stream",
     "text": [
      "\r",
      " 65%|████████████████████████████████████████████████████▋                            | 65/100 [04:38<01:44,  2.97s/it]"
     ]
    },
    {
     "name": "stdout",
     "output_type": "stream",
     "text": [
      "['12helloi имеют windows 31 и я был удивлен, что необходимо изменить по умолчанию системный шрифт на что-то другое я только что получил mscc++ 70 withsdk, так что я действительно хочу, чтобы мои ноги насыщены, делая мою первую программу windows изменить системный шрифтtx, William F maton646379uottawaca mercedesbenz convertibleu646379uottawaca unicycle']\n",
      "65\n"
     ]
    },
    {
     "name": "stderr",
     "output_type": "stream",
     "text": [
      "\r",
      " 66%|█████████████████████████████████████████████████████▍                           | 66/100 [04:43<02:07,  3.75s/it]"
     ]
    },
    {
     "name": "stdout",
     "output_type": "stream",
     "text": [
      "['29в статье <10377seasuclaedu victorfseasuclaedu victor friedman пишет, может кто-то сказать мне, что именно windows 31 делает для ком-портов??? Почему я не могу работать единую коммуникационную программу под windows? у меня procomm+, Quicklink, commo ни один из них не реагирует на команды модема после того, как соединение в конечном итоге было установлено, хотя я все еще способен управлять vick victorfuclaeduэто одна из самых сложных проблем w Win 31 лично я runtelix 32 для дозов под windows просто хорошо и ve ждали Winversion froever, но я должен признать, что я являюсь исключением rulei пытались установить различные дозы ком-прог на друзей машины, наиболее часто в больших проблемах некоторые из вещей, которые вы должны искать 1 всегда работать prog через pif, никогда не вызывая его exe, 2 в pi']\n",
      "66\n"
     ]
    },
    {
     "name": "stderr",
     "output_type": "stream",
     "text": [
      "\r",
      " 67%|██████████████████████████████████████████████████████▎                          | 67/100 [04:46<01:55,  3.50s/it]"
     ]
    },
    {
     "name": "stdout",
     "output_type": "stream",
     "text": [
      "['15bjgrierca brian grier writesthis has gone on too long people get a lifeif you havent converted anyone to your way of thinking yetyou probably will not convert anyone just let this subjectdie a quiet, though painful deathif this keeps up ill start believing the self righteousnessshould be capital offenseyoull have to kill off half the net maybe that isnt such a bad idea pete gontier ec technology gurglecom']\n",
      "67\n"
     ]
    },
    {
     "name": "stderr",
     "output_type": "stream",
     "text": [
      "\r",
      " 68%|███████████████████████████████████████████████████████                          | 68/100 [04:51<02:05,  3.92s/it]"
     ]
    },
    {
     "name": "stdout",
     "output_type": "stream",
     "text": [
      "['24in article <1993May111417065878iitedu vaxtoolsacciitedu falke bruinsma wildthing writeshiyaim using word for windows and I am quite satisfied with it, except the equation editor screws up all the time when I try to insert an equation itwill give me two errors fence font not found and meta font not found thereal problem is that it will not display or print out the integral sign does anyone else have this problem? and how do I solve it?im using a zsport 486 laptop with a panasonic 1124p printer, running msdos 50 and windows 31thanks, falkewe all had that problem, you need to expand the fonts manually, the programdecomp is on disk 1 the equations fonts are on disk 3have fungel']\n",
      "68\n"
     ]
    },
    {
     "name": "stderr",
     "output_type": "stream",
     "text": [
      "\r",
      " 69%|███████████████████████████████████████████████████████▉                         | 69/100 [04:55<02:00,  3.89s/it]"
     ]
    },
    {
     "name": "stdout",
     "output_type": "stream",
     "text": [
      "['17ctwomeyeurokomie столбца twomey комментарии наконец, rhiannoncom rhia упомянул, что мех шрифт включен в casady greene плавные лазерные шрифты 2 пакета очень похоже на то, что я описывал я факс casady greene для информации, но не получил ответаcasady greene кажется, что очень медленно в ответе, ассивно слышали от других, кто связался с ними они могут не ответитьvia факс, но через змея почты дать им время, или снова связаться с ними rhialet радость и невиновность превосходят от фильма игрушки']\n",
      "69\n"
     ]
    },
    {
     "name": "stderr",
     "output_type": "stream",
     "text": [
      "\r",
      " 70%|████████████████████████████████████████████████████████▋                        | 70/100 [04:56<01:26,  2.90s/it]"
     ]
    },
    {
     "name": "stdout",
     "output_type": "stream",
     "text": [
      "['11организация jhuaplxnewsreader ftpnuz dos v10']\n",
      "70\n"
     ]
    },
    {
     "name": "stderr",
     "output_type": "stream",
     "text": [
      "\r",
      " 71%|█████████████████████████████████████████████████████████▌                       | 71/100 [05:01<01:46,  3.68s/it]"
     ]
    },
    {
     "name": "stdout",
     "output_type": "stream",
     "text": [
      "['38distribution worldnntppostinghost dialin1411externucsdeduin article <twalls02vodemoncouk twallsdemoncouk tim walls writesfrom twallsdemoncouk tim wallssubject re re re challenge to microsoft supportersdate Mon, 10 May 1993 192326 +0000in article <9May9320570058clarkuedu rmohnsclarkuedu writesbut i dont want to have to run blasted windows every time i want to deletea tree it is absolutely ludicrous to load a hog like that just to deletesome files it would be like requiring a crane to change the tyre on a caryou dont, and never had to thats what enhanced shells are for remember 4dos and ndos? i mean, come on, you cant expect dos to cover everything from r10 microsoft has other projects to work on']\n",
      "71\n"
     ]
    },
    {
     "name": "stderr",
     "output_type": "stream",
     "text": [
      "\r",
      " 72%|██████████████████████████████████████████████████████████▎                      | 72/100 [05:07<01:58,  4.24s/it]"
     ]
    },
    {
     "name": "stdout",
     "output_type": "stream",
     "text": [
      "['35diladminuncedu dave laudicina когда-то написал microsoft является крупнейшей программной компанией на планете, но я не могу думать даже о одной концепции вычислительной техники, что они изобретали и принесли на рынок прежде чем кто-либо другой xeroxparcapple, osborne, следующий, gnu и другие были pioniers и ведут путь к будущему вычислительной техники, что microsoft сделал, чтобы быть технологическим лидером? я опубликовал этот вопрос раньше, но я получил naive ответ я делаю вызов теперь всем, кто может прийти с чем-то особенно microsoft сотрудников я не получаю ответа на этот раз, я думаю, что это pretty much assures me that there is nonewhich is what I suspect anyway really when you come down to it who cares I just hope ms keeps doing what they do best getting usable productive software to the masses']\n",
      "72\n"
     ]
    },
    {
     "name": "stderr",
     "output_type": "stream",
     "text": [
      "\r",
      " 73%|███████████████████████████████████████████████████████████▏                     | 73/100 [05:12<02:04,  4.60s/it]"
     ]
    },
    {
     "name": "stdout",
     "output_type": "stream",
     "text": [
      "['22nntppostinghost photonphysuncaeduin article <1993may1716545612652edu msbendtsedu michael scott bendtsen writesim ждать июня, прежде чем повернуть вокруг, когда я могу тогда получить мои руки на pcsolarisunix для интеллекта чип я знаю, что есть много других возможностей UNIX там, но это включает в себя wabi windows api binary interfacei думаю, что технология, которая wilrun windows приложения прямо из коробки это, конечно, поможет, чтобы быть в состоянии запустить windows и dos приложений, но единственный способ, что solaris или os2 или любой другой схемы собирается бросать вызов Майкрософт, если они могут каким-то образом получить цены на SOlarisor os2 или какие-либо приложения, до до до уровня до конкурентного уровня каждый хотел бы работать solaris приложения на solaris системы и os2 приложения наan os2 системы']\n",
      "73\n"
     ]
    },
    {
     "name": "stderr",
     "output_type": "stream",
     "text": [
      "\r",
      " 74%|███████████████████████████████████████████████████████████▉                     | 74/100 [05:16<01:54,  4.39s/it]"
     ]
    },
    {
     "name": "stdout",
     "output_type": "stream",
     "text": [
      "['14a друг и я имеют ati графический ультра дисплей адаптеры, и они были разумно хороши исполнители, но мы оба имели раздражающие проблемы совместимости с драйверами ati и готовы изменить на что-то быстрее и более совместимые с окнами я слышал rumblings, что новая карта orchid9000 очень быстро кто-то имеет опыт с этой картой? что в настоящее время доступно, что быстро, совместимые, делает 1280x1024x256 не interlaced и стоит ниже $500?ken keirnan ken keirnan Pacific bell kjkeirnpacbellcom san ramon, california']\n",
      "74\n"
     ]
    },
    {
     "name": "stderr",
     "output_type": "stream",
     "text": [
      "\r",
      " 75%|████████████████████████████████████████████████████████████▊                    | 75/100 [05:21<01:57,  4.71s/it]"
     ]
    },
    {
     "name": "stdout",
     "output_type": "stream",
     "text": [
      "['26это часть, которая обычно получает меня, пока я готов зарабатывать деньги, обычно есть другие вещи, которые должны быть рассмотрены и обсуждаются, что является целью жизни, как это или нет акции цены и продажи конкретного продукта являются мерами успеха они могут быть мерами краткосрочного или долгосрочного успеха я думаю, в ms случае они являются хорошей мерой их долгосрочного успеха исходный пост упоминал, как это кажется на этой группе, что есть большое количество людей, атакующих ms и не готовы принять что-либо положительное о msi пытался сделать то, что атаки слишком подчеркнуто и смотреть на продажи ms продуктов они определенно рассказывают другую историю я также думаю, что большое количество нападающих или дебатов, как вы называете, они являются высоко техническим взглядом вокруг в реальном мире люди не хотят греп и скук и ls l они просто хотят нажать кнопки и сделать свою работу']\n",
      "75\n"
     ]
    },
    {
     "name": "stderr",
     "output_type": "stream",
     "text": [
      "\r",
      " 76%|█████████████████████████████████████████████████████████████▌                   | 76/100 [05:25<01:41,  4.25s/it]"
     ]
    },
    {
     "name": "stdout",
     "output_type": "stream",
     "text": [
      "['11im сказал, что я могу заменить красочные окна логотип, который появляется, как windows вызывает с графикой моего выбора challange это то, что изображение должно быть в rle формате у меня есть gifs, фотографии, jpgs, tifs, и т.д., но rleswhats лучший путь к преобразованию этих вещей? какую программу я должен загрузить, и откуда? кто-то еще сделал это, и у вас есть шаги доступны? спасибо email to ivoryepisyrgecom или ivorycom предпочтительно']\n",
      "76\n"
     ]
    },
    {
     "name": "stderr",
     "output_type": "stream",
     "text": [
      "\r",
      " 77%|██████████████████████████████████████████████████████████████▎                  | 77/100 [05:28<01:32,  4.01s/it]"
     ]
    },
    {
     "name": "stdout",
     "output_type": "stream",
     "text": [
      "['21hello nettersi recenlty aquired достаточно денег, чтобы купить лазерный принтеро дня, я купил компьютер покупатель mag я смотрел через раздел обзора принтера и заметила winprinter800 машина невероятно низкой цены на все функции, которые она имеет 800 dpi8meg rampostscript compatableenvelope печатьМой вопрос является ли кто-то имеет один из них или знать, почему цена является дешёвой?']\n",
      "77\n"
     ]
    },
    {
     "name": "stderr",
     "output_type": "stream",
     "text": [
      "\r",
      " 78%|███████████████████████████████████████████████████████████████▏                 | 78/100 [05:32<01:28,  4.01s/it]"
     ]
    },
    {
     "name": "stdout",
     "output_type": "stream",
     "text": [
      "['17in article <1993apr2720065111520newshoststanfordedu herrodstanfordedu stephen herrod writesDoes anyone know a program that will record keyboard sequences that I do in a windowed dos box? i would like to have something that starts atelnet program and then logs me into my accounts windows recorder doesntseem to be able to record the key sequencesthanks, stevei think you would need a dos macro program superkey by borland?comes to mind i dont think windows is capable of sendingkeystrokes to a dos windowwhat you want to do sounds like a security problem for me, thoughtompaladinstdcom']\n",
      "78\n"
     ]
    },
    {
     "name": "stderr",
     "output_type": "stream",
     "text": [
      "\r",
      " 79%|███████████████████████████████████████████████████████████████▉                 | 79/100 [05:38<01:34,  4.49s/it]"
     ]
    },
    {
     "name": "stdout",
     "output_type": "stream",
     "text": [
      "['36Я использую финал из Coda некоторое время, но вдруг он прекратил использовать мои шрифты у меня есть 386 pc с большим количеством дискового пространства и памяти, постскрипт лазер, win31, финал 201 и я недавно установил atm 20 Я играл вокруг с установкой Windows на некоторое время, и когда я должен был сделать некоторые работы с финалом вещи не печатать должным образом это может быть и это может не иметь ничего общего с установкой atm от 1something до 20, но я не имеют старый atm лежит вокруг anomore наибольшей раздражающей проблемой было то, что petrucci шрифт не печатать, что является довольно важным шрифтом я удалось получить прямое печать для работы, если я включил ownps0 в [finale] раздел Winini, но компиляция списка постскриптов все еще не работает; и его те eps файлы я нуждаюсь, когда я']\n",
      "79\n"
     ]
    },
    {
     "name": "stderr",
     "output_type": "stream",
     "text": [
      "\r",
      " 80%|████████████████████████████████████████████████████████████████▊                | 80/100 [05:42<01:30,  4.54s/it]"
     ]
    },
    {
     "name": "stdout",
     "output_type": "stream",
     "text": [
      "['22pwbcanberraeduau Paul Blackman writesin article <1rl9b6$h3cdeakinozau russozau russ sharp writeswe are using pkzip v204 and I am interested to hear frompeople who have used one of the many windows programs thatcall thesewhich ones are available and does any one stand out amongthe rest?is there a full windows version that does not call the dos pkzippkunzip commands?yes russ, there is quinzip is a windows version but i dont think it handlesall the functions available in the dos versionthe problem is that quinzip is very very slow so i think that winzip 40is still the best choice to use pkzip in windowsdenis simard, montrealsimarddeumontrealca']\n",
      "80\n"
     ]
    },
    {
     "name": "stderr",
     "output_type": "stream",
     "text": [
      "\r",
      " 81%|█████████████████████████████████████████████████████████████████▌               | 81/100 [05:48<01:31,  4.80s/it]"
     ]
    },
    {
     "name": "stdout",
     "output_type": "stream",
     "text": [
      "['25organization telecom researchin article <1993apr231401235018com rlistercom russell lister writesfrom rlistercom russell listersubject re Why is my mouse so jumpy? ms mousedate Fri, 23 Apr 1993 140123 gmtecktonsbyuedu sean eckton writesi у меня есть Microsoft серийный мышь и я использую mousecom 800 использую 820 я думаю, но переключился на 800, чтобы увидеть, если это было лучше вертикальное движение прекрасно и гладко, но горизонтальное движение так плохо я иногда не могу на что-то щелкнуть, потому что мой мышь прыгает вокруг я могу перемещать мышь справа с относительно равномерным движением и мышь будет двигаться гладко на некоторое время, затем прыгать направо, затем перемещаться гладко на некоторое время, а затем прыгать снова, возможно']\n",
      "81\n"
     ]
    },
    {
     "name": "stderr",
     "output_type": "stream",
     "text": [
      "\r",
      " 82%|██████████████████████████████████████████████████████████████████▍              | 82/100 [05:53<01:29,  5.00s/it]"
     ]
    },
    {
     "name": "stdout",
     "output_type": "stream",
     "text": [
      "['22в недавнем статье rcaldrnmiamiedu richard calderon writesi только получил ворота 48633 с окнами и доз 60 я запустил его несколько раз без каких-либо очевидных проблем я решил дать двойное пространство попытку после сжатия диска, без проблем, я решил загрузить окна он занял 1 минуту 45 секунд загрузить после dblspace, 17 секунд до dblspace я немного трушил с машиной и заметил сообщение об ошибке, говоря smartdrive 40 не может работать с dblspace ^^^^^^^^^^^^^^не необоснованно, так как smartdrv упакован с доз 6 версия 41убедитесь, что все ваши драйверы himem, emm386, smartdrv выполняются из доз каталогаloss of the cache provided by smartdrv could be your problem; if not,i dont know what might cause the startup delay my test']\n",
      "82\n"
     ]
    },
    {
     "name": "stderr",
     "output_type": "stream",
     "text": [
      "\r",
      " 83%|███████████████████████████████████████████████████████████████████▏             | 83/100 [05:55<01:08,  4.03s/it]"
     ]
    },
    {
     "name": "stdout",
     "output_type": "stream",
     "text": [
      "['15jg после этого падения, я думаю, ibm больше не имеет никаких прав наjg просмотр microsoft кода после этого, единственный способ поддерживатьjg какой-то вид совместимости является  reverseengineer Wouldjg вы хотите  reverseengineer ole2 приложения?']\n",
      "83\n"
     ]
    },
    {
     "name": "stderr",
     "output_type": "stream",
     "text": [
      "\r",
      " 84%|████████████████████████████████████████████████████████████████████             | 84/100 [06:00<01:09,  4.33s/it]"
     ]
    },
    {
     "name": "stdout",
     "output_type": "stream",
     "text": [
      "['20используя драйвер windows 31 принтера, я хотел бы напечатать в файл, безput в качестве файла Postscript позже, я хотел бы взять этот файл Postscript в машину с прикрепленным 4м лазерным принтером, и напечатать документ на 600 точек на дюйм resolutioni хотел бы использовать этот метод для печати от wordperfect для Windows, и от программы обработки изображений, которая может вывести изображения в Postscriptheres проблема windows Postscript драйвера принтера pscriptdrvdoesnt позволяет мне указать 600 dpi в самом деле, диалог настройки для этого драйвераdoes имеют вытащить меню для разрешения, но единственный выбор, предоставленный в меню 300 не действительно полезный менюany ideas?david arnsteinarnsteinsuncominternational imaging systemsmilpitas, california']\n",
      "84\n"
     ]
    },
    {
     "name": "stderr",
     "output_type": "stream",
     "text": [
      "\r",
      " 85%|████████████████████████████████████████████████████████████████████▊            | 85/100 [06:04<01:03,  4.23s/it]"
     ]
    },
    {
     "name": "stdout",
     "output_type": "stream",
     "text": [
      "['9реplyto hstarkeenggtefsdcom Hal starkenntppostinghost hstarkeenggtefsdcom я только что удалив ide диск и реформировал два scsi диска, чтобы использовать как загрузочный диск в системе, которая работала окна хорошо в 386 улучшенный режим его dx50 с 8 мега-RAM, и adaptec 1542b с биос включенной системы работает хорошо и работает окна в стандартном режиме хорошо, но это возвращается к доз prompt при попытке работать 386 режим я пытался emmexclude и sysrombreakpoint что дает??????Благодарим заранее, halmy взгляды мои собственные']\n",
      "85\n"
     ]
    },
    {
     "name": "stderr",
     "output_type": "stream",
     "text": [
      "\r",
      " 86%|█████████████████████████████████████████████████████████████████████▋           | 86/100 [06:07<00:56,  4.01s/it]"
     ]
    },
    {
     "name": "stdout",
     "output_type": "stream",
     "text": [
      "['18ajayshahuscedu ajay shah writesthe preferred applications development platformaccording to 432 of the fortune 1000 corporationssurvey by sentry market research survey 19921993unix 18 28mainframe35 22dos msw24 18development of what? inhouse apps? maybe, but certainly not appsto be sold on an open market statistics like that are laughable,because they may simply mean that there are not enough shrinkwrappedusable apps for unix and they have to be developed disproportionatelyoften as compared to the installed unix baset']\n",
      "86\n"
     ]
    },
    {
     "name": "stderr",
     "output_type": "stream",
     "text": [
      "\r",
      " 87%|██████████████████████████████████████████████████████████████████████▍          | 87/100 [06:12<00:54,  4.17s/it]"
     ]
    },
    {
     "name": "stdout",
     "output_type": "stream",
     "text": [
      "[\"14nntppostinghost accessdigexnetgelcsmcgillca gilles khouzam writesmacseezip on ftpcicaindianaedu supposed to read and write mac disks Ive never tried it, though good lucki just tried it, but I cant say that it works, because it doesnt read 800kdisks, it only reads 144mb if there a program that does read 800k disks, please let me knowthe easiest way to do this is if you can send the files across the network this is much easier going from a mac to a pc because you don't have to worryabout losing the resource fork of the file, often a problem when sending binaryfiles from a pc to a mac\"]\n",
      "87\n"
     ]
    },
    {
     "name": "stderr",
     "output_type": "stream",
     "text": [
      "\r",
      " 88%|███████████████████████████████████████████████████████████████████████▎         | 88/100 [06:15<00:45,  3.81s/it]"
     ]
    },
    {
     "name": "stdout",
     "output_type": "stream",
     "text": [
      "['10в связи с ужасными историями о dos6doubledisk и stacker 2?killing жесткий дискsi был удивлен, если до 6 зеркальное командование работает на двойной диск информации, а также нормальной жирной таблицы и таблицы разделов, если он записывает жизненно важное двойной диск информации, то использовать его ежедневно должен идти долгий путь к защите себя от типа катастрофического отказа обсуждается, если это не так, то стыдно на Майкрософт']\n",
      "88\n"
     ]
    },
    {
     "name": "stderr",
     "output_type": "stream",
     "text": [
      "\r",
      " 89%|████████████████████████████████████████████████████████████████████████         | 89/100 [06:21<00:49,  4.51s/it]"
     ]
    },
    {
     "name": "stdout",
     "output_type": "stream",
     "text": [
      "['66в статье <1srg8c$i54hyperioncom, автор пишет, что я устанавливаю свой DOSunix-бокс на 116м ide и 412м scsi диске и задался вопросом о применении msdos 50 join-команды мне нравится, как она устанавливает вещи, так как я не буду придерживаться c d e клопота, что DOS навязывает мне нравится, как она напоминает пункты установки UNIX файловых систем я слышал, что были проблемы с его использованием, или по крайней мере в более старых версиях DOS пожалуйста telli использовали join-команду уже много лет, в основном с хорошим успехом в дублировании unixstyle файлов монтов вы будете слышать много людей проклятие join, потому что они путают его с dos append-commanda действительно тупой hack, но не верьте им вы также будете слышать людей']\n",
      "89\n"
     ]
    },
    {
     "name": "stderr",
     "output_type": "stream",
     "text": [
      "\r",
      " 90%|████████████████████████████████████████████████████████████████████████▉        | 90/100 [06:27<00:48,  4.80s/it]"
     ]
    },
    {
     "name": "stdout",
     "output_type": "stream",
     "text": [
      "['15Replyto bswancnsmuskingumedudisclaimer это сообщение представляет взгляды на плакаты, не обязательно те, которые ibmnntppostinghost campbersbocaratonibmcomorganization ibm boca ratonhey larry, как вы можете быть комп sci майор и никогда не разбить дьявола компьютерачто ваши cs department учит вас или вы только что хороший программист, что ни один из ваших программ сборки никогда не downed вашей защиты от машинного краха это такой маркетинговый трюк, это не смешно из 4 месяцев использования окон на моей новой машине я только имел это крах один раз, и я не знаю, как работает установка Millwhy вы беспокоиться, чтобы поставить такие глупые Postsor вы что ignorantbob campbellclarkson университет, potsdam ny campbersclarksonedu']\n",
      "90\n"
     ]
    },
    {
     "name": "stderr",
     "output_type": "stream",
     "text": [
      "\r",
      " 91%|█████████████████████████████████████████████████████████████████████████▋       | 91/100 [06:32<00:45,  5.04s/it]"
     ]
    },
    {
     "name": "stdout",
     "output_type": "stream",
     "text": [
      "['15после слушания бесконечной дискуссии прочитать название о том, какие os лучше, dosand windows или os2 и в конечном итоге иметь достаточноt резоноров, чтобы играть с несколькими различными операционными системами, я решил поставить два продукта вперед, чтобы головной тест, как так много соратников новостных постеров предложили мне, однако, нет никакого желания вообще использовать версию os2, которая не будет действительно делать то, что он говорит, т.е. запустить windows apps os2 2021 не будет запускать windowsapps в 386 улучшенный режим, что-то, что большинство крупных windows apps требуют, но os2 22, который должен быть в бета-тест, должен я слышал, что os2 22 бета-тест доступен через ftp, и я был удивлен, если кто-то знает, где получить копию я хотел бы оценить любую информацию, как я хотел бы']\n",
      "91\n"
     ]
    },
    {
     "name": "stderr",
     "output_type": "stream",
     "text": [
      "\r",
      " 92%|██████████████████████████████████████████████████████████████████████████▌      | 92/100 [06:33<00:31,  3.88s/it]"
     ]
    },
    {
     "name": "stdout",
     "output_type": "stream",
     "text": [
      "['12I хотел бы предотвратить наших пользователей Windows от использованияctlaltdel из окна я знаю, что должно быть способ сделать это, может кто-то указать мне в правильном направлении?']\n",
      "92\n"
     ]
    },
    {
     "name": "stderr",
     "output_type": "stream",
     "text": [
      "\r",
      " 93%|███████████████████████████████████████████████████████████████████████████▎     | 93/100 [06:39<00:30,  4.41s/it]"
     ]
    },
    {
     "name": "stdout",
     "output_type": "stream",
     "text": [
      "['47in article <c71c1k2ykrichbnrca bjgrierca brian grier writesi think most of the people posting are forgetting that most usersof ms products do not even know about internet, and unix is thatvery unfriendly place where bizzare abreviations replace the rathercomfortable abreviations they know and the abreviations have subtledifferences between the different vendors while pc users tend tocustomize any windowing setup, they can not do much with their command lineyou can customize a command line interface? where have you been? ican change the prompt, I can make aliases so someone like me who is used to say, ls, can type it on my dos machine and still get adirectory listing, and under unix, if I dont like the command lineinterface, I throw it out and get a different one csh, bash, ksh,']\n",
      "93\n"
     ]
    },
    {
     "name": "stderr",
     "output_type": "stream",
     "text": [
      "\r",
      " 94%|████████████████████████████████████████████████████████████████████████████▏    | 94/100 [06:42<00:23,  3.88s/it]"
     ]
    },
    {
     "name": "stdout",
     "output_type": "stream",
     "text": [
      "['13Dear netters, мой друг привезли S3801 карты с 2mb ram Есть ли новый драйвер для карты доступны на ftp cites? Что является новейшей версией? Она очень заинтересована в иметь драйвер для 1024x768 с Hicolor и 800x600 истинного цветаno такой драйвер приходят с картойkwmokkwmokemail h8714031hkuhkdept химии, университет Гонконга']\n",
      "94\n"
     ]
    },
    {
     "name": "stderr",
     "output_type": "stream",
     "text": [
      "\r",
      " 95%|████████████████████████████████████████████████████████████████████████████▉    | 95/100 [06:47<00:21,  4.36s/it]"
     ]
    },
    {
     "name": "stdout",
     "output_type": "stream",
     "text": [
      "['34in article <1993apr301803175618gwuedu louraygwuedu michael panayiotakis writesin article <c6aw83h7vorg richardfcsnorg iriemon writesdmittlemanbpaarizonaedu daniel mittleman writes I am running win 31 with ndw 22 on a 486sx with 8 meg of memory and a 6 meg perm swap file and am getting exceedingly frustrated that my applications are not giving back system resources when I close themive noticed this also the way it was explained to me is that windowsdoes not clear the upper memory blocks after a program is done anyoneout there know if this is why? there was a post about something similar a while back it seems windowsdoes not take it upon itself to free up any sys resources anapplllication is using when that application is done that job is leftenti']\n",
      "95\n"
     ]
    },
    {
     "name": "stderr",
     "output_type": "stream",
     "text": [
      "\r",
      " 96%|█████████████████████████████████████████████████████████████████████████████▊   | 96/100 [06:52<00:17,  4.44s/it]"
     ]
    },
    {
     "name": "stdout",
     "output_type": "stream",
     "text": [
      "['14distribution worldnntppostinghost whalestusmeduin article <3160180uupcbcom scottlynncom scott lynn пишет хорошо, я делаю много графического дизайна работы, и я оставаюсь верным до windows вместо macs мой колледж не является, хотя, и я могу только сканировать изображения на macintosh знает кто-то о программе, которая может читать mac диски обмен яблуковыми файлами на Nac, что пишет до дисков, вероятно, оставляет меня заметно старше во время каждой сессии я хочу сделать передачу в windows вместо macseezip на ftpcicaindianaedu предполагается читать и писать mac диски я никогда не пробовал его, хотя удачиcjcallisonstusmedu']\n",
      "96\n"
     ]
    },
    {
     "name": "stderr",
     "output_type": "stream",
     "text": [
      "\r",
      " 97%|██████████████████████████████████████████████████████████████████████████████▌  | 97/100 [06:54<00:11,  3.68s/it]"
     ]
    },
    {
     "name": "stdout",
     "output_type": "stream",
     "text": [
      "['8распределение worldnntppostinghost dec6wuwienacatin факт, я ищу возможность подключить различные миры информации, как в Windows системы помощи и нет, я не хочу программировать такую систему самостоятельно необходимое усилие иafford должен быть как можно меньшеthanx заранее,thomas']\n",
      "97\n"
     ]
    },
    {
     "name": "stderr",
     "output_type": "stream",
     "text": [
      "\r",
      " 98%|███████████████████████████████████████████████████████████████████████████████▍ | 98/100 [06:59<00:08,  4.23s/it]"
     ]
    },
    {
     "name": "stdout",
     "output_type": "stream",
     "text": [
      "['38in article <1993apr2814174328994unitno eliza elisabeth bull writesfrom eliza elisabeth bullsubject re why im not using dos 6 anymoredate wed, 28 apr 93 141743 gmtmark woodruff cda90038bitnet wrote this morning at 4 am while I was working on my research paper, I had to reboot a hung dos program that did no disk io from within windows 31 when my machine finished rebooting, I found my windows directory and about two thirds of my other directories were irreversibly corrupted stuff deletedthis sounds like what happened to my hd a month ago my hd was stackedwith stacker v20 i run dos5 suddenly everything hung up, and most ofthe hd got corrupted directories changed into unreadable files withfunny names in other words it is probably just the doubledisk part ofdos6 that']\n",
      "98\n"
     ]
    },
    {
     "name": "stderr",
     "output_type": "stream",
     "text": [
      "\r",
      " 99%|████████████████████████████████████████████████████████████████████████████████▏| 99/100 [07:00<00:03,  3.34s/it]"
     ]
    },
    {
     "name": "stdout",
     "output_type": "stream",
     "text": [
      "['3i работаю с 24 bit rgb bmp файлов и нужно конвертировать их в 15 и 16 bit изображений, как конвертировать 24 bit изображений в 15 и 16 bit rgb изображений? спасибо']\n",
      "99\n"
     ]
    },
    {
     "name": "stderr",
     "output_type": "stream",
     "text": [
      "100%|████████████████████████████████████████████████████████████████████████████████| 100/100 [07:02<00:00,  4.23s/it]"
     ]
    },
    {
     "name": "stdout",
     "output_type": "stream",
     "text": [
      "['9 Есть ли какие-либо оффлайн почтовых читателей для netnews? в формате qwk? было бы действительно полезно быть в состоянии скачать netnews из vax ormainframe и читать его offlineadam hodgearhodgeacsmuohioedu']\n"
     ]
    },
    {
     "name": "stderr",
     "output_type": "stream",
     "text": [
      "\n"
     ]
    },
    {
     "data": {
      "text/plain": [
       "[['12i загрузили windows онлайн обзор shareware издание toftpcicaindianaedu как pubpcwin3uploadswolrs7zipit онлайн журнал, который содержит обзоры некоторых sharewareproductsi захватил его из windows онлайн bbsgreg reinacker 303 2235100 x9289ncr микроэлектронные продукты дивизионvoiceplus 46492892001 danfield courtgreLajmckerncrcomfort collins, co 80525'],\n",
       " ['44from article <c68ubgk2wstdcom, by cfwstdcom christopher f wroten у меня есть eisa машина и я просто не понимаю, почему большинство eisa видеокарты только совпадают в производительности их isa коллег, например, eisa orchid про дизайнер iise только примерно так же быстро, как isa diamond speedstar плюс, что не то, что я бы назвал бы быстро я не понимаю, почему eisa видеокарты аrent, как группа, на том же уровне производительности, как местные карты автобуса, учитывая, что eisa видеокарты имеют 32-битный автобус для перемещения данных вокруг, вместо isas 8 бит хороший вопросanswer eisa автобус перемещает 32-битные вместо isas 816? но он все еще перемещает его примерно в скорости, как isa bus я думаю, что либо 8 или 10 mhz местные'],\n",
       " ['7реplyto bswancnsmuskingumedudisclaimer это сообщение представляет взгляды на плакаты, не обязательно те, которые ibmnntppostinghost campbersbocaratonibmcomorganization clarkson universityyamanari,hey это не смешно, как жуки имеют баги в нихheydo мне милость и не ставить глупых постовbobclarkson university, potsdam ny campbersclarksonedu'],\n",
       " ['13in article <14822dukeedu kdbmcdukeedu kurt bollacker writesi agree no one ever definitively met my challenge only batted aroundsemantics oh well, I guess things did turn out as I expectedhmmm I gave two examples which matched your objective criteria, and yourresponse was some subjective claptrap about them being lame you neverdid counter the fact that those examples fit your objective criteriaone wonders whos playing semantic games, here rick schautuucpuunet uwbeavermicrosoftrichsmicrosoft doesnt speak for me, and i dont speak for microsoft'],\n",
       " ['17распределение usanntppostinghost mr_slatecisudeleduhello, в последнее время я заметил, что есть каталог под названием diskimage в моем диске я не заметил его раньше и мне интересно, если при установке приложения изображение диска было создано, или если win31 автоматически создал резервную копию его файлов я не мог найти любую документацию на diskimage утилиты; имея изображение диска занимает много дискового пространства знает кто-то, если это только что люди, которые установили win31 сделал или это механизм резервного копирования?'],\n",
       " ['13Hello все это мое понимание, что все truetype шрифты в windows загружаются вприор к запуску windows это делает попадание в windows довольно медленно, если у вас есть сотни из них, как я делаю в первую очередь, я правильно в этой мысли второе, если это дело можно получить windows игнорировать их на загрузке и может быть сделать что-то вроде файла pif загрузить их только когда вы входите в приложения, которые нуждаются в шрифтах? какие-либо идеи?chris происхождение chrisdoellen106z1fidonetorg 1106333326'],\n",
       " ['15nntppostinghost aisun1aiugaeduкто знает о хорошем программном пакете, который позволит нам следить за тем, кто печатает что и когда? Есть ли какой-либо способ получить менеджера печати, чтобы сохранить журнал? Есть ли замена менеджера печати, который сделает это? Как же о пакете, который позволит только доступ к системе для людей в файле паролей? Я посмотрел на чистоту, но он позволит вам войти без пароля, и не держит вкладки о том, кто получился и когда любая помощь будет очень ценится@@@@mark juric ai programsmjuricugaedu university of georgiaathens, georgia 30602 @@@@'],\n",
       " ['23Я новый в мире mswindows, и хотя довольно компетентныйsparcnextstep программист, я не знаю, какие разработки kitto купить я слышали хорошие вещи о borland c++ сapplication frameworks и microsofts визуальный c++ с sdk?что я хотел бы, это комментарии людей о том, какие пакеты или наборы инструментов они считают полезными или продуктивными и почему есть множество других комплектов, таких как gui toolkits доступные и удивительно, какие из них являются лучшими в плане надежности, plugand go операции типа, считываемости и так далее id заинтересованы в комментариях по этим или что-либо другое вы можете найти полезнымi будет содержать в сети, если есть достаточно интересзамечания,veenuvrrattcom'],\n",
       " ['29Replyto mikedibmcom mike dahmusdisclaimer This post represents the posters views, not necessarily those of ibmnntppostinghost schleppobocaratonibmcomorganization penpm development, psp, ibm boca ratonomin <1993may1706450313114com cliffgacom clifford garrett writesyes, a lot of what os2 20 has in common with os2 1x was written by youguys however, many of the things that made os2 20 so much more successfulwinos2, workplace shell than previous versions were ibm workyes, certainly it was ibm that wrote the windows codecliff, do you know the difference between windows and winos2? heresa helpful hintrunning windows under os2 20 is only possible in real mode, in a dosbox of course, this is only possible with windows 30'],\n",
       " ['11distribution usanntppostinghost donaldccutexasedusummary help with wfwghelpi я пытаюсь найти программное обеспечение, которое позволит перенаправление COM порта под окнами для рабочих групп может кто-то сделать предложение или рекомендоватьчто-то я действительно ненавижу, чтобы написать драйвер для серийного порта, который будет поддерживать сеть, но это мой следующий шагблагодарения в advancebkv'],\n",
       " ['41frompwisemanusdedu clifforganizationuniversity of south dakotasubject romanbmp 0114in response to the requests for coolbitmaps I am posting onedate0427 0350 pm_______________________________________________________due to the resolution and size it is in 14 partsthis is a uuencoded bitmap 960x600 256 colorsthe picture is a marbled gazebo on a desert with blue sky backgroundthe size is just right for centered wallpaper on a 1024x768 displaybecause it leaves a border at the bottom just big enough for iconsto fit in without being on top of the picture reguarding imagequality and resolution i have not seen much betterplease do not do thisi dont know how the rest of you read news, but heres how I do it isubscribe to an outernet system which allows me to dial up via modem anddownload email and news articles automatically when someone'],\n",
       " ['4I получить картинку, я просто считаю юморным, что запуск windows 31 приложений 30 для 20 это то, что делает os2 более заслуживает доверияcliff'],\n",
       " ['15ifrom ccastcogatechedu costas malamassubject re windows zipunzipdate 28 apr 93 223155 gmtin article <1rl9b6$h3cdeakinozau russozau russ sharp writeswe are using pkzip v204 and I am interested to hear frompeople who have used one of the many windows programs thatcall theseis there a full windows version that does not call the dos pkzippkunzip commands?russ sharp russeduau ph 05227 1141 fax 05227 2015 there is wunarchive, the replacement of wunzip it only extracts, but it ssupports pkzip 204 it does not require pkzunzip in order to work, and ccosts only $10 to register'],\n",
       " ['36распределение usanntppostinghost eecaeeemsuedujenkcom jen kilmer пишет[много bs удалены для краткости]вновь, моя точка зрения была, что не все microsofties здесь, чтобы продать читателей на наших продуктах, которые будут противоречить с философией noads Usenet, а также мы не обязательно имеют доступ к информации, что другие имеютit определенно smacks, что вспомнить опрос, который вы цитировали говоря, что вы видели 95% пользователей удовлетворены доз 60? заботиться, чтобы вспомнить, какunbiased набор образца был?'],\n",
       " ['30distribution compnntppostinghost colossuscsrpiedui am trying to define my own class derived from the object class so that I may insert them into a hashtable a class provided by thecontainer class libraryi have defined all of the pure virtual functions of object, but istill get an error when i try to allocate a hashentry object cannot create instance of abstract class hashentryhas anyone derived from class object before? what have I left out?here are the virtual functions that I defined from objectvirtual classtypeisaconst return hashentryclass; virtual pchar nameofconst return hashentry; virtual hashvaluetype hashvalue const return hashvaluehwindow; note hwindow is defined in hashentryvirtual intisequal const object _far obj const return this hashentry obj; virtual void'],\n",
       " ['508inreplyto robertsatcdies message of tu, 27 apr 1993 14 4804 gmtnntppostinghost tje12issutokyoacjpin article <robertsa735922084tcdie robertsatcdie andrew l roberts writeswhat exactly does the windows bitmap format look like? i mean, how isthe data stored width, height, no of colours, bitmap data? i couldntfind anything in ths user manual, is there any other reference materialwhich would give me this information?from thomaskodakcom thomas kinsmannewsgroups composmswindowsprogrammermisc,altbinariespicturesutilitiessubject dibbmp creation guide, as requestedkeywords dib bmp bitmaps file formatsmessageid <1992dec2321443218764kodakcomdate 23 dec 92 214432 gm'],\n",
       " ['22in article <c6eval520portalcom claebaurportalcom tony s annese writesin article <93122134439zhaoamericanedu <zhaoamericanedu writesi am looking for a printer utility which stay in window 31 as an icon andlet you drag a file to it to issue the printingyou have one minimize the print manager and drag a file to it and it willprint it you need to associate file extensions with such things as thenotepad for it to do this thoughtony anneseclaebaurportalcomor claebaurportalcomthis may work, but wont it involve invoking the applications, eg if youdrag a bmp or txt file to the min print manager icon, wont it runnotepad and paintbrush before printing? if you just want to drag a filetxt or bmp to a print server icon, with stay at'],\n",
       " ['18in article <c6ezhnjlqnet tedmnet ted matsumura writesin article <c6eval520portalcom claebaurportalcom tony s annese writesyou have one minimize the print manager and drag a file to it and it willprint it you need to associate file extensions with such things as thenotepad for it to do this thoughthis may work, but wont it involve invoking the applications, eg if youdrag a bmp or txt file to the min print manager icon, wont it runnotepad and paintbrush before printing? if you just want to drag a filetxt or bmp to a print server icon, with stay at front attributes, youneed an intelligent print manager drag and drop client like amish print 20yes it invokes the associated application that takes but 10 seconds? tony anneseclaebaurportalcomor'],\n",
       " ['24Вчера, мой друг получил новый водитель для своей карты, что более чем удвоил скорость естественным образом, кроме того, что немного ревнивая одна машина разные карты, это заставило меня думать, что если я использую медленного водителя? не было бы это _страшно_? так netlanders, я нуждаюсь в образцах вашего коллективного опыта sic вы гордитесь владельцами треугольника 8900cвидео карты w 1mb vram испытал более одного водителя fro ms выиграть 31which? Which является самым быстрым? не быть эгоистичным, и дать вам мотив для ответа, я обещаю, что я собираюсь собрать все ответы, и фактические водители предоставлены u дать мне сайт, чтобы получить его от или uuencodemailget winmarks с помощью компьютерных журналов winbench и опубликовать результаты здесьI am interested in svga drivers'],\n",
       " ['12in article <93122134439zhaoamericanedu <zhaoamericanedu writesi am looking for a printer utility which stay in window 31 as an icon andlet you drag a file to it to issue the printingyou have one minimize the print manager and drag a file to it and it willprint it you need to associate file extensions with such things as thenotepad for it to do this thoughtony anneseclaebaurportalcomor claebaurportalcom'],\n",
       " ['15а моя подруга использует windows 31 для большей части своей работы, к сожалению, у нее очень плохое зрение, и мы не смогли понять, как изменить по умолчанию шрифт, используемый системой и меню приложений, или шрифт, используемый помощью программы, что использовать гипертекст, если вы не можете прочитать его? сделать его читаемым для нее, если кто-то знает, как увеличить размер этих шрифтов, из любого программного пакета, который делает окна более доступными для людей с ограниченными возможностями зрения, пожалуйста, дайте мне знать, спасибо, Dan'],\n",
       " ['15I недавно установил windows 31 на моей 486dx33 vlb системы, и я не заметил до прошлой ночи, что у меня нет 386 иконки в моем панели управления я не помню окна настройки спрашивает меня о 386 enhancedmode, хочу ли я его или нет теперь я получил программу, что я только что купил aldus freehand 31 что говорит мне, что я должен Berunning окна в улучшенном режиме выглядит, как я работает в стандартном режиме как можно перейти в улучшенном режиме без небольшой иконки thingie? Есть ли какие-то проблемы, связанные с vesa lb систем, которые вызывают windowsto не хотите дать вам улучшен режим? спасибо за любой helpdavid victor'],\n",
       " ['26xnewsreader tin 11 pl4i имеют вопрос о автоматических чекбоксах в windowsis это возможность позволить коробкам иметь несколько различных цветов в то же время?frode kvam _______________________________________________________________ _________ ___ ___ _____ _ _ _ _ _ _ __ ___ ___ _ _ ______ _ _ _ _ ___ _ _ _ _____ ___ _____ c_______________________________________________________________________________ namefrode kvam univuniversity of Sandefjord, dept of informatics email frodeunitno snailmaillademoens Nørgenalle 8 7042 Hørgen voice + 47 7 50 45 06_______________________________________________________________________________ beware of programmers who carry screwdrivers _______________________________________________________________'],\n",
       " ['14nntppostinghost dukebarmcdukeeduxnewsreader tin [version 11 pl9] Майкрософт является крупнейшей программной компанией на планете, но я не могу думать даже о одной концепции вычислительной техники, что они инновационно и принесли на рынок до любого другого xeroxparcapple, osborne, следующий, gnu и другие были pioniers и ведут путь к будущему вычислительной техники, что Майкрософт сделал, чтобы быть технологическим лидером?'],\n",
       " ['32in article <messinac6b7zlihocom messinacom tony porczyk writesajayshahuscedu ajay shah writesthe preferred applications development platformaccording to 432 of the fortune 1000 corporationssurvey by sentry market research survey 19921993unix 18 28mainframe35 22dos msw24 18development of what? inhouse apps? maybe, but certainly not appsto be sold on an open market statistics like that are laughable,because they may simply mean that there are not enough shrinkwrappedusable apps for unix and they have to be developed disproportionatelyoften as compared to the installed unix basetactually, you might be surprised to find that not everyone who developmainstream dos and windows apps develops them under dos or windows pcweek recently printed a rumor that microsofts excel development groupdoes its development under os2'],\n",
       " ['15hi,ive получил старый 38625 материнской платы старый, как в, использует контроллер клавиатуры 1988 года, и использует память интерleaving, а не Cachingit разработала проблему, где пытаясь копировать файлы из дискеты, что приводит машина к заблокировке reset кнопки требуется, но только тогда, когда в 386улучшенный режим это происходит в norton desktop, файловый менеджер, и когда пытаясь установить программное обеспечение работает Win 31 в стандартном режиме работает хорошоhas кто-то работает в этом? какие-либо идеи? большое спасибо appreciateddavidyonstdcom'],\n",
       " ['14nntppostinghost kralizeczetaorgausummary do we need sdk as well as ddk?keywords sdk, windowsthe microsoft windows device driver kit ddk documentation blurbstates that the user must separately acquire the microsoft windowssoftware development kit sdk, which contains the windows toolsto build the drivers if we are using borland c++ with applicationframeworks, is this necessary? we also have a copy of the microsoftpress programmers reference library books which normally comeswith the sdk, and microsoft macro assembler 60 why is the sdkneccessary for development of virtual device drivers? steven murray posted on behalf of brian davies'],\n",
       " ['33nntppostinghost mailszrzzrztuberlindehi everybody out there,i just got the third beta release disk march 93 of windowsntand still am not able to boot up that system the final stepachieved is the display of ioerror 0x0069 but, since this isthe beta release of the sdk for nt and not of nt, microsoft doesnot include a manual on the os itself, explaining what thiserror means of what i can do to get rid of my configurationis mainboard hauppauge 486025, rev a7 a 486 with socket for i860 28megs of memory 512k36,1m36,2m36ami eisa scsi controller 15series, latest bios, 16mb cachest41200n hard disk syquest 555 removable disk toshiba 3301 cd rom driveproaudio spectrum plus 16longshine ether'],\n",
       " ['12nntppostinghost deltaengumdeduin article <syshtg735844032gsuedu syshtggsuedu Tom Gillman writescheongtechnetsg scstech admin writessometime ago there are some discussions on gaining compuserve access thruthe internet but I seem to misplace those articles can someone pleaserefresh me where which site I can telnet to gain accessto send a message to a compuserve user via internet email enter themail mode and address your receiver as follows 723123313comthe number is the receivers compuserve id number if the users numbercontains a comma or anything other than a period, change it to a period'],\n",
       " ['25У меня есть eisa машина и я просто не понимаю, почему mosteisa видеокарт только совпадают с производительностью их isacounterparts, например, eisa orchid про дизайнер iise только примерно так быстро, как isa diamond speedstar плюс, что не то, что я бы назвал fasti не понимаю, почему eisa видеокарты нет, как группа, на том же уровне производительности, как местные карты автобуса, учитывая, что eisa видеокарты имеют 32-битный автобус перемещать данные вокруг, вместо isas 8 битssince они не являются, почему кто-то из меня включить платить более высокую цену за eisa видеокарты, когда ее производительность не лучше и часто хуже, чем гораздо дешевле isa видеокарты, такие как adiamond speedstar 24x? из компьютерных журналов я думаю, недавний отчет, я знаю, что ati делает довольно быстры'],\n",
       " ['18видим с типографической точки зрения, я использую Postscript fontsis лучше, чем Truetype; механизм подсказки, встроенный в ps isgorgeousmultilingual пользователи могут видеть предел возможных различных символов ina ps шрифта как проблематично; они могут иметь лучшее использование unicodefeatures tt шрифтов в windows ntive видел много действительно красивых и напечатаемыхinsmallsize ps шрифтов; я не видел, что как tt шрифтов большинство из них делают довольно неточно в небольших размерах, esp как экранные шрифтыпросто сравнить timesnewroman как ps шрифта с tt шрифта; первый взгляд лучше я надеюсь, что будет atmntclaudius mokleremail moklerinberlinde'],\n",
       " ['15i только что обновили с треугольник tvga9000 на ati графики ультра старый чип mach8 я вполне доволен производительности до сих пор, но есть одна проблема при использовании Windows в 800x600, я заметил, что плитки и рулонные панели значительно больше, чем они были, когда iwas с помощью треугольник карты есть настройка в моих ini файлах, что я могу изменить, чтобы сделать эти меньше? я не мог найти FAQ для этого спискаmikemdtancsauwaterlooca'],\n",
       " ['35dmittlemanbpaarizonaedu daniel mittleman пишет, что это может быть faq, если так, пожалуйста, направляйте меня к известному ответу, но я получаю разочарование и в поисках помощи я запускаю Win 31 с ndw 22 на 486sx с 8 мегабайт памяти и 6 мегабайт файл обмена perm и получаю чрезмерно разочарование, что мои приложения не дают обратно системные ресурсы, когда я закрываю их <большие строки удалены dannydaniel david mittleman dannyedu 602 6212932dannywhile работая на моей панели инструментов shareware, я нашел себя съесть ресурсы, и очень мудрая личность указала мне на sdk, и в частности, деbugkernel, как только у вас есть все sdk вещи установлены, это также поставляется сvc++, вы запустите n2d,'],\n",
       " ['26У меня есть проблема с обоями на моем рабочем столе, в 1024x768x256 режиме для файлов bitmap больше, чем около 512k немного меньше иногда в зависимости от точных размеров, дисплей обоев плохо поврежден остальная часть рабочего стола хорошо для обоев bitmaps меньше, чем это, у меня нет проблем у меня есть друг, который имеет 800k bitmap, с которым он не имеет проблем, так что это возможно, это также возможно, чтобы отображать этиbitmaps с помощью cshow в 1024x768x256 режиме без проблем, так что видеокарта не на faulthow can I remedy this?my system 386dx40, 4mb ram dos 60, windows 31 Oak 1mb 077 видеокарта, 1024x768x256 режим, с помощью поставщиков драйверов windows имеет постоянный 11,288kb обмен файлпожалуйста ответ через e-mail, и'],\n",
       " ['13dmittlemanbpaarizonaedu daniel mittleman пишет, что это может быть faq, если так, пожалуйста, направляйте меня к известному ответу, но я получаю разочарование и в поисках помощи я запускаю Win 31 с ndw 22 на 486sx с 8 мега памяти и 6 мега файл обмена Perm и получаю чрезмерно разочарование, что мои приложения не дают обратно системные ресурсы, когда я закрываю themive заметил это также так, как это было объяснено мне, что windowsdoes не очистить верхние блоки памяти после программы сделана кто-то там знает, если это почему?'],\n",
       " ['57xnewsreader tin [version 11 pl8]phang, philadelphia area nextstep user group, will hold a public sneak preview of nextstep for intel processorswhere david rittenhouse labs room a1 33rd and walnut, southeast corner, philadelphia pawhen wednesday, May 5th 7 pm to 9 pm nextstep is the 32 bit unix based operating environment which has, until now,only been available on motorolabased next computers in the May 11th issueof pc magazine called nextstep a hot prospect now, next is nearing releaseof a version of nextstep which will run on 486based pcs, yet is identical tothe 68040 version in fact, nextstep 31 includes the ability to easily compile a program into a single binary which will run on both intel andmotorola hardwarenextstep 31 for intel processors'],\n",
       " ['12i просто интересно, если кто-то новый, как я могу получить бета-версию windowsnt, и быть частью бета-программыthanksgelcsmcgillcaps пожалуйста, ответьте по электронной почте'],\n",
       " ['21I действительно думаю, что вы сравнивают яблоки и помаранчеви никто не спорит, что os2 имеет больше больших os функций вопрос заключается в том, есть ли индивидуальная потребность в мощности продаж windows против os2 ответ на этот вопрос следующий вопрос даже если я хотел, чтобы запустить os2и я имел этот большой монстр машины, чтобы запустить его, есть различные набор приложений, чтобы запустить на нем, которые позволяют мне производитьviely делать мою работу идти в свой локальный компьютер магазин ответить на это oneI думаю, что сравнение, которое вам нужно делать это nt против os221 это где новые линии сражения будут с drawn windows 31 выигралаシングル пользовательский компьютер войны следующий будет клиент сервер войны и записи nt, os221, UNIX и Netware 40granted эти oss будут в конечном итоге уменьшаться до beattractive к single user pc и что, вероятно, будет фаза iiof'],\n",
       " ['17в статье <23712couk я написала, я пытаюсь захватить некоторые 256цветные скриншоты из окон в настоящее время я пытаюсь нажать печатный экран, чтобы скопировать экран в буфер обмена, а затем вставить буфер обмена в окно пакет красок много спасибо за ответы я получил на это пару людейsuggested, как я мог бы получить пакет красок работать должным образом, но в конце я взял совет другого, чтобы попробовать paintshop Pro fromcicaindianaedu спасибо сноваphilip практики случайной доброты и бессмысленных действий красоты'],\n",
       " ['47<c6b79g28yecnpurdueeduunntppostinghost andrewcmueduinreplyto <c6b79g28yecnpurdueedu [в самом деле, когда вы приходите к нему кто заботится я просто надеюсь, что ms продолжает делать то, что они делают лучше, получая полезное производственное программное обеспечение для масс-летов увидеть, какие ms продукты не имеют крупных ошибок в них?'],\n",
       " ['50distribution usa<c6z0f52c3ucedunntppostinghost po3andrewcmueduinreplyto <c6z0f52c3ucedubferrelloccucedu brett ferrell writes in article <1993may1301540724313com jenkcom jen kilm er writes found there were actually two surveys one of randomly selected^^^^^^^^^^^^^^ resellers, one of randomly selected users from the 6 upgrade ^^^^^^^^^^^^^^ registered user database both surveys showed a 93% positive rating jenif jd power and associates did the survey, I would like an anonymous ftp site to pick it up at only a sucker believesan ms released survey results about a ms product okassumethat the results of the survey, whatever they are, are 100%honest if the results indicated extreme dissatisfaction with'],\n",
       " ['23в статье <735952415aa01739454fidonetorg c doelle writesbrad, что это процедура, используемая для специального сжатия файла bmp? я хотел бы использовать некоторые из моих файлов bmp я создал в качестве логотипа экран thankschris происхождения chrisdoellen106z1fidonetorg 1106333326я не знаю специфики алгоритма сжатия, но я использовала программуshareware, paintshop, чтобы конвертировать между двумя вы можете скачать его из ftpcicaindianaedu, но я не знаю, что файл называется или какой каталог это в вы можете начать, глядя в pubpcwin3 или пытаясь сканировать индексные файлы, чтобы конвертировать файл bmp в файл rle, вы просто загрузить файл bmp и сделать asave как выберите окно bitmap и сжатый или это rle?'],\n",
       " ['30Есть ситуация в доме, у меня есть ms word для windows, но нет принтера на работе, у меня есть windows + Postscript принтер, но не ms word так, я настройка моего компьютера в доме, чтобы использовать Postscript принтер, и использовать Print to File опцию, которая производит хороший Postscript файл, который я затем принести к работемое вопрос, как я печатать этот Postscript файл через Printmanager на работе? Если, например, я выберу Print из Filemanager, он относится Postscript как текстовый файл, и дает meseveral страниц Postscript gibberishi знают, что я могу открыть DOS окно и делать копию Fileps com1, который работает, но кажется, не мультизадачей очень хорошо другие приложенияrun довольно медленно и часто паузы на 10 секундthere должен быть способ передачи Postscript файла в Printmanager, но если есть, я не могу найти упоминания о нем'],\n",
       " ['26thomasdfellrath1eduedu wrote size is another factor the bj200 is much smaller, but the hp is built like a tank I bet the bj200 would get damaged firstyou bet your bippy its built like a tank and not just mechanically eitherthis weekend we had a nasty thunderstorm and the impossible ^%happened I got a direct lightning strike on my house and to the secondfloor outlet box into which my faithful deskjet 500c was connected therewas a 303bulletsized hole in the aluminum siding with some solidifiedaluminum slag dripping from it you could actually see the electrical boxthrough the hole the outlet itself was fried and im still amazed thewhole damn house didnt burn downi lost 2 electric garage door openers, 2 vcrs, 2 telephones all of whichwere on the opposite side of the house, a zyxel u1496e'],\n",
       " [\"62in article <1993apr27152233906eecsuicedu you writecahraincom chris huey writesjamie scuglia jamieapanaorgau wrote thanks to all those people who recommended workspace managers for windows 31 I found 3 shareware workspace managers, from australias mswindows archive monu6ccmonasheduau, which mirrors some sites in the us the three I found were 1 workspaces 110 wspacezip[ review deleted ] 2 workshift 16 wrksft16zip[ review deleted ] 3 bigdesk 230 and backmenu backdeskzip[ review deleted ]I really appreciate this information however, given that I don't havedirect internet access which means I don't have archie access I mustresort to using ftpmail this means that I need the site name and the directory where these workspace managers are locatedbackdeskzip\"],\n",
       " ['27в статье <57981004uupcbcom lestomcom les Tom пишет maw ying yuan написал из yuanenghawaiiedu maw ying yuansubject замены для программного менеджера и файлового менеджера?messageid <c68g1gjujhawaiiedudate thu, 29 apr 1993 064404 gmзамена для Win31s программного менеджера и файлового менеджера?yuanenghawaiieduhi,ive были использовать плагин планета мастеров для программного менеджераbest one я видел цео, с помощью Sloop программного обеспечения они имеют asharware версии, но розничная версия составляет только $4050 это невероятно завершено, подкачки на любой уровень, выбрать любой значок, горячие клавиши, Drop down меню, кнопки бары, и т.д. не нашли ничего, что он не пытается посылать 72540144comfor'],\n",
       " ['13распределение worldnntppostinghost trampccutexasedui использовали winqvtnet 281 под win31 доз 50 в течение некоторого времени без каких-либо проблем я недавно установил доз 60 на мой 38640 pcand я не могу работать winqvtnet больше я не получаю пакет получил недействительный портрет отправленные сообщения на консольное окно я не могу получить больше, чем 1 telnet окно и не могу использовать ftpany предложения будут очень благодарныthanks,george kontoravdiscondorccutexasedu'],\n",
       " ['58in article <1993apr2816191017062gwuedu louraygwuedu michael panayiotakis writesin article <735952415aa01739454fidonetorg cdoellef3333n106z1fidonetorg c doelle writeshello bradmonday 26 апреля 1993 1724, brad smalling wrote to crosspost 1 all bs copy b wincnf+vgalogolgo+vgalogorle wincom unnecessary bs i grabbed this from _supercharging windows_ by judd robbinsgreat book bs this is also how you can put your own logo into the windows startupmight do it, too much trouble brad,bmp will convert to rle i know for a fact that paintshopshareware from cica; desktop, i think, filename psvvvzip i think,where vvv is the'],\n",
       " ['31в статье <1t8fl2$ehsuncaedu, kepleyphysuncaedu пишет в статье <1993May161437224555oituncedu diladminuncedu dave laudicina пишет вопрос следующий вопрос, даже если я хотел бы запустить os2 и я имел этот большой монстр машины, чтобы работать на нем, есть ли разнообразный ^^^^^^^^^^^^^^^^^^^^^^^^^^^^^^^^^^^^^^^^^^^^^ я думаю, что вы намеренно преувеличивая требования для os2 учитывая, что os2 является многопоточной истинной мультиtasking os и занимает место до и окна и многое другое, я действительно думаю, что требования для os2 очень приветственны я также думаю, что любой, использующий windows 31 без 8 мегабайт ram, a 38640, и 200 мегабайт места на жестком диске, бьет головой против стены,'],\n",
       " ['28<1993May115470710177clemsonedunntppostinghost andrewcmueduinreplyto <1993May115470710177clemsoneduludesclemsonedu larry ludes ludwig writes [недоступная ссылка] bferrelloccucedu brett ferrell writes if you think that windows is useable, you must not use it much windows version of crash protection is wearing a helmet while computing the arir air bag is a expensive addon brett you must of reading too many os2 advertisements crash protection is such a marketing gimick, it isnt funny out of 4 months of using windows on my new machine ive only had it crash once, and i dont have a run of the mill configurationwow, what did you use it for? singletasked word processing?i have 8 files loaded right now and a 29mb virtual machine 12mb ofram'],\n",
       " ['39Есть интересная таблица, показывающая, сколько ресурсов приложенияиспользует и сколько он дает обратно при отключении это взять отwindows пользователь может 1993 выпускapplicationmin ресурсов пользователяsource не вернулсяgdiusergdiuserwinsleuth золото v303106214word для windows v20b10050lotus 123 v1113332arts и Liters v3127731powerpoint v309130corel рисунок v3010630micro designer v3110220crosstalk v200000excel v40a11800hijacck v102200imagein color pro3200picture publisher v3121800powerleads executive ed v1030500adobe type manager v2510nanaskylight v201000 цифры в процентах и в порядке уменьшенияwhat does this table tells you, if you frequently start and exit aprogram that doesnt give back all its resources, then you'],\n",
       " ['11im ищет способ, чтобы получить наш логотип компании на документы и вычислить самый простой способ, чтобы поставить его в шрифте Есть ли какие-либо программы publicdomain, которые могут сделать это? Есть ли какие-либо shareware, которые сделают это?'],\n",
       " ['4cicaindianaedu pcdrivers текущая версия 20?'],\n",
       " ['48 в статье <sundaram737186206 sundarammsuedu wrote jenkcom jen kilmer writes [большие bs удалены для краткости] снова, моя точка зрения была, что не все microsofties здесь, чтобы продать читателей на наших продуктах, которые будут противоречить с философией noads Usenet или мы обязательно имеют доступ к информации, что другие имеют это, конечно, smacks из того, что вспомнить опрос, который выцитировали, говоря, что вы видели 95% пользователей удовлетворены доз 60? заботиться, чтобы вспомнить, насколько непредвзятый набор образца был? что пост, конечно, выглядел, как фид и приходит из microsoftie хорошо, это, конечно, казалось, что что что-то не на уровнеit пришел из опроса продавцов пропаганды хорошо, но распространение фид, чтобы защищать ваш любимый os очень неэтично, особенно'],\n",
       " ['8да, многое из того, что os2 20 имеет в общих чертах с os2 1x было написано youguys однако, многие из вещей, которые сделали os2 20 так много более успешнымwinos2,shell на рабочем месте, чем предыдущие версии были ibm workyes, конечно, это был ibm, который написал кодик windows'],\n",
       " ['30 в статье <1993May121174125086umdedu rsrodgerumdedu yamanariwritesin article <c6d61625mucedu bferrelloccucedu brett ferrellwritesin article <1993May115470710177clemsonedu ludesclemsonedularry ludes ludwig пишет и не может адресовать свой память лучше, чем DOS,не уверен, что вы имеете в виду здесь os2 видит 16 мегабайт, использует 5 или шесть из них для собственного использования больше, если вы хотите подсчитать winos2 windows видит 16 мегабайт, использует 3 или 4 больше, как 5, если вы подсчитаете дисковый накопитель, как я для os2 для себя, если эффективность памяти была большой проблемой, PC geos будет текущим королём Intel Desktopi предполагал, что он ссылается на os2s 32-битный плоский модель адресации'],\n",
       " ['8 Есть ли способ использовать мышь при запуске программы dos windowed inwin 31? когда вы окна программы dos в улучшенном режиме, я могу видеть, где мышь курсор был, но это не работает никакой помощи, которая будет очень ценится спасибоhansang baehbaeunomahaedu'],\n",
       " ['24in article <mekenkamp6737653432wileidenunivnl mekenkampwileidenunivnl leo mekenkamp writesexcuse me? are you one of those people who enjoy working wwin? come talk to a housemate of mine and tell him how productive his life is when he encountered yet another sudden appearance of the dosprompt while cutting and pasting in win or a empty win screen without any tasks running ie^esc brings up a empty list, progman has done it againsighdont know what your roomate is doing but it must be something wrongare there people who enjoy using windows? yes ill admit to it givena choice between a mac and windows i choose windows every time to start another flame thread 9iskandar taibthe only thing worse than peach alainternet ntaibucsindianaedu frog is frog ala peachbitnetntaib'],\n",
       " ['65Я хотел бы обратиться к сетям nt волшебников для небольшого советаперво общее описание машины, как следует motherboard utron 33 mhz опти чипсет, 20 мега памяти, 256kb cachesoon я надеюсь, чтобы поместить в него dx2 чип fahrenheit 1280 видео 1 мега, 1024x768x256 проаудио спектр 16 звуковой панели первичный диск коннор cp30174 на Caching ide контроллер вторичный диск коннер cp30174 как раб на том же контроллер Tertiary disk fujitsu??? 650 мега на Superstore esdi контроллер запланированные будущие диски включают scsi hd и cd rom на pas16 scsi порт ленты привод colorado jumbo 250 на диске дискового контроллера будущий ленты привод может быть дата на интерфейсе scsi другое оборудование включает modemfax, серийные'],\n",
       " ['11ive получил старый супер vga карточки производства Сампо из Тайваня и ищут драйвер windows 31 для него его на основе cirrus logicclgd510a32pcb чип я связался с поставщиками здесь в Новой Зеландии и они говорят, что только windows 2 дайверы были когда-либо написаны производителем, так что если есть драйвер v31 для этого комплекта чипов id хотел бы знать предпочтительно по электронной почте в rjwjamesacnzthanks является advanceross James'],\n",
       " ['9andrew l roberts robertsatcdie написал, как именно выглядит формат Windows bitmap? я имею в виду, как данные хранятся ширина, высота, нет цветов, bitmap данные? я не мог найти ничего в ths пользовательского руководства, есть ли еще какой-либо другой справочник, который даст мне эту информацию? спасибо, andrewtry Windows мультимедийный kit, он имеет большинство форматов файлов определены'],\n",
       " ['3hii нуждается в кодабаре шрифта для win tt или другиеthanks'],\n",
       " [\"25in article <c6y2mzdnpclaremontedu tlilleyclaremontedu ted writesin article <timbolc6y1b47n0com timbolcom mike timbol writesanyway, how about this I give you my word, without naming sources, that ibmpaid companies to write applications for os2 satisfied?not really query what do you mean by paid? are you implying that helped tooffset development costs, or paid for the entire cost of producing the producti mean they paid the companies that developed the applications ie wellgive you x million dollars if you port application y to os2 i supposethe company in question could use the x million dollars for whatever theywantwould you like to post figures?for ms as well, i supposetedno, id rather not first of all, I don't have exact figures, and I don't want to disclose\"],\n",
       " ['12В последнее время, окна начали давать мне ошибку звук Blaster требует более новой версии windows 31 она работала правильно долгое время, и не знаю, что проблема может быть благодаря Jeff kaz kaczmarek kazeduthe future is long past forgotten, when youre on the road to madnessgeoff tate queensryche'],\n",
       " ['12helloi имеют windows 31 и я был удивлен, что необходимо изменить по умолчанию системный шрифт на что-то другое я только что получил mscc++ 70 withsdk, так что я действительно хочу, чтобы мои ноги насыщены, делая мою первую программу windows изменить системный шрифтtx, William F maton646379uottawaca mercedesbenz convertibleu646379uottawaca unicycle'],\n",
       " ['29в статье <10377seasuclaedu victorfseasuclaedu victor friedman пишет, может кто-то сказать мне, что именно windows 31 делает для ком-портов??? Почему я не могу работать единую коммуникационную программу под windows? у меня procomm+, Quicklink, commo ни один из них не реагирует на команды модема после того, как соединение в конечном итоге было установлено, хотя я все еще способен управлять vick victorfuclaeduэто одна из самых сложных проблем w Win 31 лично я runtelix 32 для дозов под windows просто хорошо и ve ждали Winversion froever, но я должен признать, что я являюсь исключением rulei пытались установить различные дозы ком-прог на друзей машины, наиболее часто в больших проблемах некоторые из вещей, которые вы должны искать 1 всегда работать prog через pif, никогда не вызывая его exe, 2 в pi'],\n",
       " ['15bjgrierca brian grier writesthis has gone on too long people get a lifeif you havent converted anyone to your way of thinking yetyou probably will not convert anyone just let this subjectdie a quiet, though painful deathif this keeps up ill start believing the self righteousnessshould be capital offenseyoull have to kill off half the net maybe that isnt such a bad idea pete gontier ec technology gurglecom'],\n",
       " ['24in article <1993May111417065878iitedu vaxtoolsacciitedu falke bruinsma wildthing writeshiyaim using word for windows and I am quite satisfied with it, except the equation editor screws up all the time when I try to insert an equation itwill give me two errors fence font not found and meta font not found thereal problem is that it will not display or print out the integral sign does anyone else have this problem? and how do I solve it?im using a zsport 486 laptop with a panasonic 1124p printer, running msdos 50 and windows 31thanks, falkewe all had that problem, you need to expand the fonts manually, the programdecomp is on disk 1 the equations fonts are on disk 3have fungel'],\n",
       " ['17ctwomeyeurokomie столбца twomey комментарии наконец, rhiannoncom rhia упомянул, что мех шрифт включен в casady greene плавные лазерные шрифты 2 пакета очень похоже на то, что я описывал я факс casady greene для информации, но не получил ответаcasady greene кажется, что очень медленно в ответе, ассивно слышали от других, кто связался с ними они могут не ответитьvia факс, но через змея почты дать им время, или снова связаться с ними rhialet радость и невиновность превосходят от фильма игрушки'],\n",
       " ['11организация jhuaplxnewsreader ftpnuz dos v10'],\n",
       " ['38distribution worldnntppostinghost dialin1411externucsdeduin article <twalls02vodemoncouk twallsdemoncouk tim walls writesfrom twallsdemoncouk tim wallssubject re re re challenge to microsoft supportersdate Mon, 10 May 1993 192326 +0000in article <9May9320570058clarkuedu rmohnsclarkuedu writesbut i dont want to have to run blasted windows every time i want to deletea tree it is absolutely ludicrous to load a hog like that just to deletesome files it would be like requiring a crane to change the tyre on a caryou dont, and never had to thats what enhanced shells are for remember 4dos and ndos? i mean, come on, you cant expect dos to cover everything from r10 microsoft has other projects to work on'],\n",
       " ['35diladminuncedu dave laudicina когда-то написал microsoft является крупнейшей программной компанией на планете, но я не могу думать даже о одной концепции вычислительной техники, что они изобретали и принесли на рынок прежде чем кто-либо другой xeroxparcapple, osborne, следующий, gnu и другие были pioniers и ведут путь к будущему вычислительной техники, что microsoft сделал, чтобы быть технологическим лидером? я опубликовал этот вопрос раньше, но я получил naive ответ я делаю вызов теперь всем, кто может прийти с чем-то особенно microsoft сотрудников я не получаю ответа на этот раз, я думаю, что это pretty much assures me that there is nonewhich is what I suspect anyway really when you come down to it who cares I just hope ms keeps doing what they do best getting usable productive software to the masses'],\n",
       " ['22nntppostinghost photonphysuncaeduin article <1993may1716545612652edu msbendtsedu michael scott bendtsen writesim ждать июня, прежде чем повернуть вокруг, когда я могу тогда получить мои руки на pcsolarisunix для интеллекта чип я знаю, что есть много других возможностей UNIX там, но это включает в себя wabi windows api binary interfacei думаю, что технология, которая wilrun windows приложения прямо из коробки это, конечно, поможет, чтобы быть в состоянии запустить windows и dos приложений, но единственный способ, что solaris или os2 или любой другой схемы собирается бросать вызов Майкрософт, если они могут каким-то образом получить цены на SOlarisor os2 или какие-либо приложения, до до до уровня до конкурентного уровня каждый хотел бы работать solaris приложения на solaris системы и os2 приложения наan os2 системы'],\n",
       " ['14a друг и я имеют ati графический ультра дисплей адаптеры, и они были разумно хороши исполнители, но мы оба имели раздражающие проблемы совместимости с драйверами ati и готовы изменить на что-то быстрее и более совместимые с окнами я слышал rumblings, что новая карта orchid9000 очень быстро кто-то имеет опыт с этой картой? что в настоящее время доступно, что быстро, совместимые, делает 1280x1024x256 не interlaced и стоит ниже $500?ken keirnan ken keirnan Pacific bell kjkeirnpacbellcom san ramon, california'],\n",
       " ['26это часть, которая обычно получает меня, пока я готов зарабатывать деньги, обычно есть другие вещи, которые должны быть рассмотрены и обсуждаются, что является целью жизни, как это или нет акции цены и продажи конкретного продукта являются мерами успеха они могут быть мерами краткосрочного или долгосрочного успеха я думаю, в ms случае они являются хорошей мерой их долгосрочного успеха исходный пост упоминал, как это кажется на этой группе, что есть большое количество людей, атакующих ms и не готовы принять что-либо положительное о msi пытался сделать то, что атаки слишком подчеркнуто и смотреть на продажи ms продуктов они определенно рассказывают другую историю я также думаю, что большое количество нападающих или дебатов, как вы называете, они являются высоко техническим взглядом вокруг в реальном мире люди не хотят греп и скук и ls l они просто хотят нажать кнопки и сделать свою работу'],\n",
       " ['11im сказал, что я могу заменить красочные окна логотип, который появляется, как windows вызывает с графикой моего выбора challange это то, что изображение должно быть в rle формате у меня есть gifs, фотографии, jpgs, tifs, и т.д., но rleswhats лучший путь к преобразованию этих вещей? какую программу я должен загрузить, и откуда? кто-то еще сделал это, и у вас есть шаги доступны? спасибо email to ivoryepisyrgecom или ivorycom предпочтительно'],\n",
       " ['21hello nettersi recenlty aquired достаточно денег, чтобы купить лазерный принтеро дня, я купил компьютер покупатель mag я смотрел через раздел обзора принтера и заметила winprinter800 машина невероятно низкой цены на все функции, которые она имеет 800 dpi8meg rampostscript compatableenvelope печатьМой вопрос является ли кто-то имеет один из них или знать, почему цена является дешёвой?'],\n",
       " ['17in article <1993apr2720065111520newshoststanfordedu herrodstanfordedu stephen herrod writesDoes anyone know a program that will record keyboard sequences that I do in a windowed dos box? i would like to have something that starts atelnet program and then logs me into my accounts windows recorder doesntseem to be able to record the key sequencesthanks, stevei think you would need a dos macro program superkey by borland?comes to mind i dont think windows is capable of sendingkeystrokes to a dos windowwhat you want to do sounds like a security problem for me, thoughtompaladinstdcom'],\n",
       " ['36Я использую финал из Coda некоторое время, но вдруг он прекратил использовать мои шрифты у меня есть 386 pc с большим количеством дискового пространства и памяти, постскрипт лазер, win31, финал 201 и я недавно установил atm 20 Я играл вокруг с установкой Windows на некоторое время, и когда я должен был сделать некоторые работы с финалом вещи не печатать должным образом это может быть и это может не иметь ничего общего с установкой atm от 1something до 20, но я не имеют старый atm лежит вокруг anomore наибольшей раздражающей проблемой было то, что petrucci шрифт не печатать, что является довольно важным шрифтом я удалось получить прямое печать для работы, если я включил ownps0 в [finale] раздел Winini, но компиляция списка постскриптов все еще не работает; и его те eps файлы я нуждаюсь, когда я'],\n",
       " ['22pwbcanberraeduau Paul Blackman writesin article <1rl9b6$h3cdeakinozau russozau russ sharp writeswe are using pkzip v204 and I am interested to hear frompeople who have used one of the many windows programs thatcall thesewhich ones are available and does any one stand out amongthe rest?is there a full windows version that does not call the dos pkzippkunzip commands?yes russ, there is quinzip is a windows version but i dont think it handlesall the functions available in the dos versionthe problem is that quinzip is very very slow so i think that winzip 40is still the best choice to use pkzip in windowsdenis simard, montrealsimarddeumontrealca'],\n",
       " ['25organization telecom researchin article <1993apr231401235018com rlistercom russell lister writesfrom rlistercom russell listersubject re Why is my mouse so jumpy? ms mousedate Fri, 23 Apr 1993 140123 gmtecktonsbyuedu sean eckton writesi у меня есть Microsoft серийный мышь и я использую mousecom 800 использую 820 я думаю, но переключился на 800, чтобы увидеть, если это было лучше вертикальное движение прекрасно и гладко, но горизонтальное движение так плохо я иногда не могу на что-то щелкнуть, потому что мой мышь прыгает вокруг я могу перемещать мышь справа с относительно равномерным движением и мышь будет двигаться гладко на некоторое время, затем прыгать направо, затем перемещаться гладко на некоторое время, а затем прыгать снова, возможно'],\n",
       " ['22в недавнем статье rcaldrnmiamiedu richard calderon writesi только получил ворота 48633 с окнами и доз 60 я запустил его несколько раз без каких-либо очевидных проблем я решил дать двойное пространство попытку после сжатия диска, без проблем, я решил загрузить окна он занял 1 минуту 45 секунд загрузить после dblspace, 17 секунд до dblspace я немного трушил с машиной и заметил сообщение об ошибке, говоря smartdrive 40 не может работать с dblspace ^^^^^^^^^^^^^^не необоснованно, так как smartdrv упакован с доз 6 версия 41убедитесь, что все ваши драйверы himem, emm386, smartdrv выполняются из доз каталогаloss of the cache provided by smartdrv could be your problem; if not,i dont know what might cause the startup delay my test'],\n",
       " ['15jg после этого падения, я думаю, ibm больше не имеет никаких прав наjg просмотр microsoft кода после этого, единственный способ поддерживатьjg какой-то вид совместимости является  reverseengineer Wouldjg вы хотите  reverseengineer ole2 приложения?'],\n",
       " ['20используя драйвер windows 31 принтера, я хотел бы напечатать в файл, безput в качестве файла Postscript позже, я хотел бы взять этот файл Postscript в машину с прикрепленным 4м лазерным принтером, и напечатать документ на 600 точек на дюйм resolutioni хотел бы использовать этот метод для печати от wordperfect для Windows, и от программы обработки изображений, которая может вывести изображения в Postscriptheres проблема windows Postscript драйвера принтера pscriptdrvdoesnt позволяет мне указать 600 dpi в самом деле, диалог настройки для этого драйвераdoes имеют вытащить меню для разрешения, но единственный выбор, предоставленный в меню 300 не действительно полезный менюany ideas?david arnsteinarnsteinsuncominternational imaging systemsmilpitas, california'],\n",
       " ['9реplyto hstarkeenggtefsdcom Hal starkenntppostinghost hstarkeenggtefsdcom я только что удалив ide диск и реформировал два scsi диска, чтобы использовать как загрузочный диск в системе, которая работала окна хорошо в 386 улучшенный режим его dx50 с 8 мега-RAM, и adaptec 1542b с биос включенной системы работает хорошо и работает окна в стандартном режиме хорошо, но это возвращается к доз prompt при попытке работать 386 режим я пытался emmexclude и sysrombreakpoint что дает??????Благодарим заранее, halmy взгляды мои собственные'],\n",
       " ['18ajayshahuscedu ajay shah writesthe preferred applications development platformaccording to 432 of the fortune 1000 corporationssurvey by sentry market research survey 19921993unix 18 28mainframe35 22dos msw24 18development of what? inhouse apps? maybe, but certainly not appsto be sold on an open market statistics like that are laughable,because they may simply mean that there are not enough shrinkwrappedusable apps for unix and they have to be developed disproportionatelyoften as compared to the installed unix baset'],\n",
       " [\"14nntppostinghost accessdigexnetgelcsmcgillca gilles khouzam writesmacseezip on ftpcicaindianaedu supposed to read and write mac disks Ive never tried it, though good lucki just tried it, but I cant say that it works, because it doesnt read 800kdisks, it only reads 144mb if there a program that does read 800k disks, please let me knowthe easiest way to do this is if you can send the files across the network this is much easier going from a mac to a pc because you don't have to worryabout losing the resource fork of the file, often a problem when sending binaryfiles from a pc to a mac\"],\n",
       " ['10в связи с ужасными историями о dos6doubledisk и stacker 2?killing жесткий дискsi был удивлен, если до 6 зеркальное командование работает на двойной диск информации, а также нормальной жирной таблицы и таблицы разделов, если он записывает жизненно важное двойной диск информации, то использовать его ежедневно должен идти долгий путь к защите себя от типа катастрофического отказа обсуждается, если это не так, то стыдно на Майкрософт'],\n",
       " ['66в статье <1srg8c$i54hyperioncom, автор пишет, что я устанавливаю свой DOSunix-бокс на 116м ide и 412м scsi диске и задался вопросом о применении msdos 50 join-команды мне нравится, как она устанавливает вещи, так как я не буду придерживаться c d e клопота, что DOS навязывает мне нравится, как она напоминает пункты установки UNIX файловых систем я слышал, что были проблемы с его использованием, или по крайней мере в более старых версиях DOS пожалуйста telli использовали join-команду уже много лет, в основном с хорошим успехом в дублировании unixstyle файлов монтов вы будете слышать много людей проклятие join, потому что они путают его с dos append-commanda действительно тупой hack, но не верьте им вы также будете слышать людей'],\n",
       " ['15Replyto bswancnsmuskingumedudisclaimer это сообщение представляет взгляды на плакаты, не обязательно те, которые ibmnntppostinghost campbersbocaratonibmcomorganization ibm boca ratonhey larry, как вы можете быть комп sci майор и никогда не разбить дьявола компьютерачто ваши cs department учит вас или вы только что хороший программист, что ни один из ваших программ сборки никогда не downed вашей защиты от машинного краха это такой маркетинговый трюк, это не смешно из 4 месяцев использования окон на моей новой машине я только имел это крах один раз, и я не знаю, как работает установка Millwhy вы беспокоиться, чтобы поставить такие глупые Postsor вы что ignorantbob campbellclarkson университет, potsdam ny campbersclarksonedu'],\n",
       " ['15после слушания бесконечной дискуссии прочитать название о том, какие os лучше, dosand windows или os2 и в конечном итоге иметь достаточноt резоноров, чтобы играть с несколькими различными операционными системами, я решил поставить два продукта вперед, чтобы головной тест, как так много соратников новостных постеров предложили мне, однако, нет никакого желания вообще использовать версию os2, которая не будет действительно делать то, что он говорит, т.е. запустить windows apps os2 2021 не будет запускать windowsapps в 386 улучшенный режим, что-то, что большинство крупных windows apps требуют, но os2 22, который должен быть в бета-тест, должен я слышал, что os2 22 бета-тест доступен через ftp, и я был удивлен, если кто-то знает, где получить копию я хотел бы оценить любую информацию, как я хотел бы'],\n",
       " ['12I хотел бы предотвратить наших пользователей Windows от использованияctlaltdel из окна я знаю, что должно быть способ сделать это, может кто-то указать мне в правильном направлении?'],\n",
       " ['47in article <c71c1k2ykrichbnrca bjgrierca brian grier writesi think most of the people posting are forgetting that most usersof ms products do not even know about internet, and unix is thatvery unfriendly place where bizzare abreviations replace the rathercomfortable abreviations they know and the abreviations have subtledifferences between the different vendors while pc users tend tocustomize any windowing setup, they can not do much with their command lineyou can customize a command line interface? where have you been? ican change the prompt, I can make aliases so someone like me who is used to say, ls, can type it on my dos machine and still get adirectory listing, and under unix, if I dont like the command lineinterface, I throw it out and get a different one csh, bash, ksh,'],\n",
       " ['13Dear netters, мой друг привезли S3801 карты с 2mb ram Есть ли новый драйвер для карты доступны на ftp cites? Что является новейшей версией? Она очень заинтересована в иметь драйвер для 1024x768 с Hicolor и 800x600 истинного цветаno такой драйвер приходят с картойkwmokkwmokemail h8714031hkuhkdept химии, университет Гонконга'],\n",
       " ['34in article <1993apr301803175618gwuedu louraygwuedu michael panayiotakis writesin article <c6aw83h7vorg richardfcsnorg iriemon writesdmittlemanbpaarizonaedu daniel mittleman writes I am running win 31 with ndw 22 on a 486sx with 8 meg of memory and a 6 meg perm swap file and am getting exceedingly frustrated that my applications are not giving back system resources when I close themive noticed this also the way it was explained to me is that windowsdoes not clear the upper memory blocks after a program is done anyoneout there know if this is why? there was a post about something similar a while back it seems windowsdoes not take it upon itself to free up any sys resources anapplllication is using when that application is done that job is leftenti'],\n",
       " ['14distribution worldnntppostinghost whalestusmeduin article <3160180uupcbcom scottlynncom scott lynn пишет хорошо, я делаю много графического дизайна работы, и я оставаюсь верным до windows вместо macs мой колледж не является, хотя, и я могу только сканировать изображения на macintosh знает кто-то о программе, которая может читать mac диски обмен яблуковыми файлами на Nac, что пишет до дисков, вероятно, оставляет меня заметно старше во время каждой сессии я хочу сделать передачу в windows вместо macseezip на ftpcicaindianaedu предполагается читать и писать mac диски я никогда не пробовал его, хотя удачиcjcallisonstusmedu'],\n",
       " ['8распределение worldnntppostinghost dec6wuwienacatin факт, я ищу возможность подключить различные миры информации, как в Windows системы помощи и нет, я не хочу программировать такую систему самостоятельно необходимое усилие иafford должен быть как можно меньшеthanx заранее,thomas'],\n",
       " ['38in article <1993apr2814174328994unitno eliza elisabeth bull writesfrom eliza elisabeth bullsubject re why im not using dos 6 anymoredate wed, 28 apr 93 141743 gmtmark woodruff cda90038bitnet wrote this morning at 4 am while I was working on my research paper, I had to reboot a hung dos program that did no disk io from within windows 31 when my machine finished rebooting, I found my windows directory and about two thirds of my other directories were irreversibly corrupted stuff deletedthis sounds like what happened to my hd a month ago my hd was stackedwith stacker v20 i run dos5 suddenly everything hung up, and most ofthe hd got corrupted directories changed into unreadable files withfunny names in other words it is probably just the doubledisk part ofdos6 that'],\n",
       " ['3i работаю с 24 bit rgb bmp файлов и нужно конвертировать их в 15 и 16 bit изображений, как конвертировать 24 bit изображений в 15 и 16 bit rgb изображений? спасибо'],\n",
       " ['9 Есть ли какие-либо оффлайн почтовых читателей для netnews? в формате qwk? было бы действительно полезно быть в состоянии скачать netnews из vax ormainframe и читать его offlineadam hodgearhodgeacsmuohioedu']]"
      ]
     },
     "execution_count": 14,
     "metadata": {},
     "output_type": "execute_result"
    }
   ],
   "source": [
    "lst = []\n",
    "tokenizer, model = load_tokenizer_and_model(\"facebook/mbart-large-50-many-to-many-mmt\")\n",
    "for i in tqdm(range(100)):\n",
    "    \n",
    "    print(i)\n",
    "    translated = translate(test['cleaned'][i], model, tokenizer)\n",
    "    \n",
    "    lst.append(translated)   \n",
    "    \n",
    "    torch.cuda.empty_cache()\n",
    "lst    \n",
    "    "
   ]
  },
  {
   "cell_type": "code",
   "execution_count": 15,
   "metadata": {
    "scrolled": false
   },
   "outputs": [
    {
     "data": {
      "text/plain": [
       "[['12i загрузили windows онлайн обзор shareware издание toftpcicaindianaedu как pubpcwin3uploadswolrs7zipit онлайн журнал, который содержит обзоры некоторых sharewareproductsi захватил его из windows онлайн bbsgreg reinacker 303 2235100 x9289ncr микроэлектронные продукты дивизионvoiceplus 46492892001 danfield courtgreLajmckerncrcomfort collins, co 80525'],\n",
       " ['44from article <c68ubgk2wstdcom, by cfwstdcom christopher f wroten у меня есть eisa машина и я просто не понимаю, почему большинство eisa видеокарты только совпадают в производительности их isa коллег, например, eisa orchid про дизайнер iise только примерно так же быстро, как isa diamond speedstar плюс, что не то, что я бы назвал бы быстро я не понимаю, почему eisa видеокарты аrent, как группа, на том же уровне производительности, как местные карты автобуса, учитывая, что eisa видеокарты имеют 32-битный автобус для перемещения данных вокруг, вместо isas 8 бит хороший вопросanswer eisa автобус перемещает 32-битные вместо isas 816? но он все еще перемещает его примерно в скорости, как isa bus я думаю, что либо 8 или 10 mhz местные'],\n",
       " ['7реplyto bswancnsmuskingumedudisclaimer это сообщение представляет взгляды на плакаты, не обязательно те, которые ibmnntppostinghost campbersbocaratonibmcomorganization clarkson universityyamanari,hey это не смешно, как жуки имеют баги в нихheydo мне милость и не ставить глупых постовbobclarkson university, potsdam ny campbersclarksonedu'],\n",
       " ['13in article <14822dukeedu kdbmcdukeedu kurt bollacker writesi agree no one ever definitively met my challenge only batted aroundsemantics oh well, I guess things did turn out as I expectedhmmm I gave two examples which matched your objective criteria, and yourresponse was some subjective claptrap about them being lame you neverdid counter the fact that those examples fit your objective criteriaone wonders whos playing semantic games, here rick schautuucpuunet uwbeavermicrosoftrichsmicrosoft doesnt speak for me, and i dont speak for microsoft'],\n",
       " ['17распределение usanntppostinghost mr_slatecisudeleduhello, в последнее время я заметил, что есть каталог под названием diskimage в моем диске я не заметил его раньше и мне интересно, если при установке приложения изображение диска было создано, или если win31 автоматически создал резервную копию его файлов я не мог найти любую документацию на diskimage утилиты; имея изображение диска занимает много дискового пространства знает кто-то, если это только что люди, которые установили win31 сделал или это механизм резервного копирования?'],\n",
       " ['13Hello все это мое понимание, что все truetype шрифты в windows загружаются вприор к запуску windows это делает попадание в windows довольно медленно, если у вас есть сотни из них, как я делаю в первую очередь, я правильно в этой мысли второе, если это дело можно получить windows игнорировать их на загрузке и может быть сделать что-то вроде файла pif загрузить их только когда вы входите в приложения, которые нуждаются в шрифтах? какие-либо идеи?chris происхождение chrisdoellen106z1fidonetorg 1106333326'],\n",
       " ['15nntppostinghost aisun1aiugaeduкто знает о хорошем программном пакете, который позволит нам следить за тем, кто печатает что и когда? Есть ли какой-либо способ получить менеджера печати, чтобы сохранить журнал? Есть ли замена менеджера печати, который сделает это? Как же о пакете, который позволит только доступ к системе для людей в файле паролей? Я посмотрел на чистоту, но он позволит вам войти без пароля, и не держит вкладки о том, кто получился и когда любая помощь будет очень ценится@@@@mark juric ai programsmjuricugaedu university of georgiaathens, georgia 30602 @@@@'],\n",
       " ['23Я новый в мире mswindows, и хотя довольно компетентныйsparcnextstep программист, я не знаю, какие разработки kitto купить я слышали хорошие вещи о borland c++ сapplication frameworks и microsofts визуальный c++ с sdk?что я хотел бы, это комментарии людей о том, какие пакеты или наборы инструментов они считают полезными или продуктивными и почему есть множество других комплектов, таких как gui toolkits доступные и удивительно, какие из них являются лучшими в плане надежности, plugand go операции типа, считываемости и так далее id заинтересованы в комментариях по этим или что-либо другое вы можете найти полезнымi будет содержать в сети, если есть достаточно интересзамечания,veenuvrrattcom'],\n",
       " ['29Replyto mikedibmcom mike dahmusdisclaimer This post represents the posters views, not necessarily those of ibmnntppostinghost schleppobocaratonibmcomorganization penpm development, psp, ibm boca ratonomin <1993may1706450313114com cliffgacom clifford garrett writesyes, a lot of what os2 20 has in common with os2 1x was written by youguys however, many of the things that made os2 20 so much more successfulwinos2, workplace shell than previous versions were ibm workyes, certainly it was ibm that wrote the windows codecliff, do you know the difference between windows and winos2? heresa helpful hintrunning windows under os2 20 is only possible in real mode, in a dosbox of course, this is only possible with windows 30'],\n",
       " ['11distribution usanntppostinghost donaldccutexasedusummary help with wfwghelpi я пытаюсь найти программное обеспечение, которое позволит перенаправление COM порта под окнами для рабочих групп может кто-то сделать предложение или рекомендоватьчто-то я действительно ненавижу, чтобы написать драйвер для серийного порта, который будет поддерживать сеть, но это мой следующий шагблагодарения в advancebkv'],\n",
       " ['41frompwisemanusdedu clifforganizationuniversity of south dakotasubject romanbmp 0114in response to the requests for coolbitmaps I am posting onedate0427 0350 pm_______________________________________________________due to the resolution and size it is in 14 partsthis is a uuencoded bitmap 960x600 256 colorsthe picture is a marbled gazebo on a desert with blue sky backgroundthe size is just right for centered wallpaper on a 1024x768 displaybecause it leaves a border at the bottom just big enough for iconsto fit in without being on top of the picture reguarding imagequality and resolution i have not seen much betterplease do not do thisi dont know how the rest of you read news, but heres how I do it isubscribe to an outernet system which allows me to dial up via modem anddownload email and news articles automatically when someone'],\n",
       " ['4I получить картинку, я просто считаю юморным, что запуск windows 31 приложений 30 для 20 это то, что делает os2 более заслуживает доверияcliff'],\n",
       " ['15ifrom ccastcogatechedu costas malamassubject re windows zipunzipdate 28 apr 93 223155 gmtin article <1rl9b6$h3cdeakinozau russozau russ sharp writeswe are using pkzip v204 and I am interested to hear frompeople who have used one of the many windows programs thatcall theseis there a full windows version that does not call the dos pkzippkunzip commands?russ sharp russeduau ph 05227 1141 fax 05227 2015 there is wunarchive, the replacement of wunzip it only extracts, but it ssupports pkzip 204 it does not require pkzunzip in order to work, and ccosts only $10 to register'],\n",
       " ['36распределение usanntppostinghost eecaeeemsuedujenkcom jen kilmer пишет[много bs удалены для краткости]вновь, моя точка зрения была, что не все microsofties здесь, чтобы продать читателей на наших продуктах, которые будут противоречить с философией noads Usenet, а также мы не обязательно имеют доступ к информации, что другие имеютit определенно smacks, что вспомнить опрос, который вы цитировали говоря, что вы видели 95% пользователей удовлетворены доз 60? заботиться, чтобы вспомнить, какunbiased набор образца был?'],\n",
       " ['30distribution compnntppostinghost colossuscsrpiedui am trying to define my own class derived from the object class so that I may insert them into a hashtable a class provided by thecontainer class libraryi have defined all of the pure virtual functions of object, but istill get an error when i try to allocate a hashentry object cannot create instance of abstract class hashentryhas anyone derived from class object before? what have I left out?here are the virtual functions that I defined from objectvirtual classtypeisaconst return hashentryclass; virtual pchar nameofconst return hashentry; virtual hashvaluetype hashvalue const return hashvaluehwindow; note hwindow is defined in hashentryvirtual intisequal const object _far obj const return this hashentry obj; virtual void'],\n",
       " ['508inreplyto robertsatcdies message of tu, 27 apr 1993 14 4804 gmtnntppostinghost tje12issutokyoacjpin article <robertsa735922084tcdie robertsatcdie andrew l roberts writeswhat exactly does the windows bitmap format look like? i mean, how isthe data stored width, height, no of colours, bitmap data? i couldntfind anything in ths user manual, is there any other reference materialwhich would give me this information?from thomaskodakcom thomas kinsmannewsgroups composmswindowsprogrammermisc,altbinariespicturesutilitiessubject dibbmp creation guide, as requestedkeywords dib bmp bitmaps file formatsmessageid <1992dec2321443218764kodakcomdate 23 dec 92 214432 gm'],\n",
       " ['22in article <c6eval520portalcom claebaurportalcom tony s annese writesin article <93122134439zhaoamericanedu <zhaoamericanedu writesi am looking for a printer utility which stay in window 31 as an icon andlet you drag a file to it to issue the printingyou have one minimize the print manager and drag a file to it and it willprint it you need to associate file extensions with such things as thenotepad for it to do this thoughtony anneseclaebaurportalcomor claebaurportalcomthis may work, but wont it involve invoking the applications, eg if youdrag a bmp or txt file to the min print manager icon, wont it runnotepad and paintbrush before printing? if you just want to drag a filetxt or bmp to a print server icon, with stay at'],\n",
       " ['18in article <c6ezhnjlqnet tedmnet ted matsumura writesin article <c6eval520portalcom claebaurportalcom tony s annese writesyou have one minimize the print manager and drag a file to it and it willprint it you need to associate file extensions with such things as thenotepad for it to do this thoughthis may work, but wont it involve invoking the applications, eg if youdrag a bmp or txt file to the min print manager icon, wont it runnotepad and paintbrush before printing? if you just want to drag a filetxt or bmp to a print server icon, with stay at front attributes, youneed an intelligent print manager drag and drop client like amish print 20yes it invokes the associated application that takes but 10 seconds? tony anneseclaebaurportalcomor'],\n",
       " ['24Вчера, мой друг получил новый водитель для своей карты, что более чем удвоил скорость естественным образом, кроме того, что немного ревнивая одна машина разные карты, это заставило меня думать, что если я использую медленного водителя? не было бы это _страшно_? так netlanders, я нуждаюсь в образцах вашего коллективного опыта sic вы гордитесь владельцами треугольника 8900cвидео карты w 1mb vram испытал более одного водителя fro ms выиграть 31which? Which является самым быстрым? не быть эгоистичным, и дать вам мотив для ответа, я обещаю, что я собираюсь собрать все ответы, и фактические водители предоставлены u дать мне сайт, чтобы получить его от или uuencodemailget winmarks с помощью компьютерных журналов winbench и опубликовать результаты здесьI am interested in svga drivers'],\n",
       " ['12in article <93122134439zhaoamericanedu <zhaoamericanedu writesi am looking for a printer utility which stay in window 31 as an icon andlet you drag a file to it to issue the printingyou have one minimize the print manager and drag a file to it and it willprint it you need to associate file extensions with such things as thenotepad for it to do this thoughtony anneseclaebaurportalcomor claebaurportalcom'],\n",
       " ['15а моя подруга использует windows 31 для большей части своей работы, к сожалению, у нее очень плохое зрение, и мы не смогли понять, как изменить по умолчанию шрифт, используемый системой и меню приложений, или шрифт, используемый помощью программы, что использовать гипертекст, если вы не можете прочитать его? сделать его читаемым для нее, если кто-то знает, как увеличить размер этих шрифтов, из любого программного пакета, который делает окна более доступными для людей с ограниченными возможностями зрения, пожалуйста, дайте мне знать, спасибо, Dan'],\n",
       " ['15I недавно установил windows 31 на моей 486dx33 vlb системы, и я не заметил до прошлой ночи, что у меня нет 386 иконки в моем панели управления я не помню окна настройки спрашивает меня о 386 enhancedmode, хочу ли я его или нет теперь я получил программу, что я только что купил aldus freehand 31 что говорит мне, что я должен Berunning окна в улучшенном режиме выглядит, как я работает в стандартном режиме как можно перейти в улучшенном режиме без небольшой иконки thingie? Есть ли какие-то проблемы, связанные с vesa lb систем, которые вызывают windowsto не хотите дать вам улучшен режим? спасибо за любой helpdavid victor'],\n",
       " ['26xnewsreader tin 11 pl4i имеют вопрос о автоматических чекбоксах в windowsis это возможность позволить коробкам иметь несколько различных цветов в то же время?frode kvam _______________________________________________________________ _________ ___ ___ _____ _ _ _ _ _ _ __ ___ ___ _ _ ______ _ _ _ _ ___ _ _ _ _____ ___ _____ c_______________________________________________________________________________ namefrode kvam univuniversity of Sandefjord, dept of informatics email frodeunitno snailmaillademoens Nørgenalle 8 7042 Hørgen voice + 47 7 50 45 06_______________________________________________________________________________ beware of programmers who carry screwdrivers _______________________________________________________________'],\n",
       " ['14nntppostinghost dukebarmcdukeeduxnewsreader tin [version 11 pl9] Майкрософт является крупнейшей программной компанией на планете, но я не могу думать даже о одной концепции вычислительной техники, что они инновационно и принесли на рынок до любого другого xeroxparcapple, osborne, следующий, gnu и другие были pioniers и ведут путь к будущему вычислительной техники, что Майкрософт сделал, чтобы быть технологическим лидером?'],\n",
       " ['32in article <messinac6b7zlihocom messinacom tony porczyk writesajayshahuscedu ajay shah writesthe preferred applications development platformaccording to 432 of the fortune 1000 corporationssurvey by sentry market research survey 19921993unix 18 28mainframe35 22dos msw24 18development of what? inhouse apps? maybe, but certainly not appsto be sold on an open market statistics like that are laughable,because they may simply mean that there are not enough shrinkwrappedusable apps for unix and they have to be developed disproportionatelyoften as compared to the installed unix basetactually, you might be surprised to find that not everyone who developmainstream dos and windows apps develops them under dos or windows pcweek recently printed a rumor that microsofts excel development groupdoes its development under os2'],\n",
       " ['15hi,ive получил старый 38625 материнской платы старый, как в, использует контроллер клавиатуры 1988 года, и использует память интерleaving, а не Cachingit разработала проблему, где пытаясь копировать файлы из дискеты, что приводит машина к заблокировке reset кнопки требуется, но только тогда, когда в 386улучшенный режим это происходит в norton desktop, файловый менеджер, и когда пытаясь установить программное обеспечение работает Win 31 в стандартном режиме работает хорошоhas кто-то работает в этом? какие-либо идеи? большое спасибо appreciateddavidyonstdcom'],\n",
       " ['14nntppostinghost kralizeczetaorgausummary do we need sdk as well as ddk?keywords sdk, windowsthe microsoft windows device driver kit ddk documentation blurbstates that the user must separately acquire the microsoft windowssoftware development kit sdk, which contains the windows toolsto build the drivers if we are using borland c++ with applicationframeworks, is this necessary? we also have a copy of the microsoftpress programmers reference library books which normally comeswith the sdk, and microsoft macro assembler 60 why is the sdkneccessary for development of virtual device drivers? steven murray posted on behalf of brian davies'],\n",
       " ['33nntppostinghost mailszrzzrztuberlindehi everybody out there,i just got the third beta release disk march 93 of windowsntand still am not able to boot up that system the final stepachieved is the display of ioerror 0x0069 but, since this isthe beta release of the sdk for nt and not of nt, microsoft doesnot include a manual on the os itself, explaining what thiserror means of what i can do to get rid of my configurationis mainboard hauppauge 486025, rev a7 a 486 with socket for i860 28megs of memory 512k36,1m36,2m36ami eisa scsi controller 15series, latest bios, 16mb cachest41200n hard disk syquest 555 removable disk toshiba 3301 cd rom driveproaudio spectrum plus 16longshine ether'],\n",
       " ['12nntppostinghost deltaengumdeduin article <syshtg735844032gsuedu syshtggsuedu Tom Gillman writescheongtechnetsg scstech admin writessometime ago there are some discussions on gaining compuserve access thruthe internet but I seem to misplace those articles can someone pleaserefresh me where which site I can telnet to gain accessto send a message to a compuserve user via internet email enter themail mode and address your receiver as follows 723123313comthe number is the receivers compuserve id number if the users numbercontains a comma or anything other than a period, change it to a period'],\n",
       " ['25У меня есть eisa машина и я просто не понимаю, почему mosteisa видеокарт только совпадают с производительностью их isacounterparts, например, eisa orchid про дизайнер iise только примерно так быстро, как isa diamond speedstar плюс, что не то, что я бы назвал fasti не понимаю, почему eisa видеокарты нет, как группа, на том же уровне производительности, как местные карты автобуса, учитывая, что eisa видеокарты имеют 32-битный автобус перемещать данные вокруг, вместо isas 8 битssince они не являются, почему кто-то из меня включить платить более высокую цену за eisa видеокарты, когда ее производительность не лучше и часто хуже, чем гораздо дешевле isa видеокарты, такие как adiamond speedstar 24x? из компьютерных журналов я думаю, недавний отчет, я знаю, что ati делает довольно быстры'],\n",
       " ['18видим с типографической точки зрения, я использую Postscript fontsis лучше, чем Truetype; механизм подсказки, встроенный в ps isgorgeousmultilingual пользователи могут видеть предел возможных различных символов ina ps шрифта как проблематично; они могут иметь лучшее использование unicodefeatures tt шрифтов в windows ntive видел много действительно красивых и напечатаемыхinsmallsize ps шрифтов; я не видел, что как tt шрифтов большинство из них делают довольно неточно в небольших размерах, esp как экранные шрифтыпросто сравнить timesnewroman как ps шрифта с tt шрифта; первый взгляд лучше я надеюсь, что будет atmntclaudius mokleremail moklerinberlinde'],\n",
       " ['15i только что обновили с треугольник tvga9000 на ati графики ультра старый чип mach8 я вполне доволен производительности до сих пор, но есть одна проблема при использовании Windows в 800x600, я заметил, что плитки и рулонные панели значительно больше, чем они были, когда iwas с помощью треугольник карты есть настройка в моих ini файлах, что я могу изменить, чтобы сделать эти меньше? я не мог найти FAQ для этого спискаmikemdtancsauwaterlooca'],\n",
       " ['35dmittlemanbpaarizonaedu daniel mittleman пишет, что это может быть faq, если так, пожалуйста, направляйте меня к известному ответу, но я получаю разочарование и в поисках помощи я запускаю Win 31 с ndw 22 на 486sx с 8 мегабайт памяти и 6 мегабайт файл обмена perm и получаю чрезмерно разочарование, что мои приложения не дают обратно системные ресурсы, когда я закрываю их <большие строки удалены dannydaniel david mittleman dannyedu 602 6212932dannywhile работая на моей панели инструментов shareware, я нашел себя съесть ресурсы, и очень мудрая личность указала мне на sdk, и в частности, деbugkernel, как только у вас есть все sdk вещи установлены, это также поставляется сvc++, вы запустите n2d,'],\n",
       " ['26У меня есть проблема с обоями на моем рабочем столе, в 1024x768x256 режиме для файлов bitmap больше, чем около 512k немного меньше иногда в зависимости от точных размеров, дисплей обоев плохо поврежден остальная часть рабочего стола хорошо для обоев bitmaps меньше, чем это, у меня нет проблем у меня есть друг, который имеет 800k bitmap, с которым он не имеет проблем, так что это возможно, это также возможно, чтобы отображать этиbitmaps с помощью cshow в 1024x768x256 режиме без проблем, так что видеокарта не на faulthow can I remedy this?my system 386dx40, 4mb ram dos 60, windows 31 Oak 1mb 077 видеокарта, 1024x768x256 режим, с помощью поставщиков драйверов windows имеет постоянный 11,288kb обмен файлпожалуйста ответ через e-mail, и'],\n",
       " ['13dmittlemanbpaarizonaedu daniel mittleman пишет, что это может быть faq, если так, пожалуйста, направляйте меня к известному ответу, но я получаю разочарование и в поисках помощи я запускаю Win 31 с ndw 22 на 486sx с 8 мега памяти и 6 мега файл обмена Perm и получаю чрезмерно разочарование, что мои приложения не дают обратно системные ресурсы, когда я закрываю themive заметил это также так, как это было объяснено мне, что windowsdoes не очистить верхние блоки памяти после программы сделана кто-то там знает, если это почему?'],\n",
       " ['57xnewsreader tin [version 11 pl8]phang, philadelphia area nextstep user group, will hold a public sneak preview of nextstep for intel processorswhere david rittenhouse labs room a1 33rd and walnut, southeast corner, philadelphia pawhen wednesday, May 5th 7 pm to 9 pm nextstep is the 32 bit unix based operating environment which has, until now,only been available on motorolabased next computers in the May 11th issueof pc magazine called nextstep a hot prospect now, next is nearing releaseof a version of nextstep which will run on 486based pcs, yet is identical tothe 68040 version in fact, nextstep 31 includes the ability to easily compile a program into a single binary which will run on both intel andmotorola hardwarenextstep 31 for intel processors'],\n",
       " ['12i просто интересно, если кто-то новый, как я могу получить бета-версию windowsnt, и быть частью бета-программыthanksgelcsmcgillcaps пожалуйста, ответьте по электронной почте'],\n",
       " ['21I действительно думаю, что вы сравнивают яблоки и помаранчеви никто не спорит, что os2 имеет больше больших os функций вопрос заключается в том, есть ли индивидуальная потребность в мощности продаж windows против os2 ответ на этот вопрос следующий вопрос даже если я хотел, чтобы запустить os2и я имел этот большой монстр машины, чтобы запустить его, есть различные набор приложений, чтобы запустить на нем, которые позволяют мне производитьviely делать мою работу идти в свой локальный компьютер магазин ответить на это oneI думаю, что сравнение, которое вам нужно делать это nt против os221 это где новые линии сражения будут с drawn windows 31 выигралаシングル пользовательский компьютер войны следующий будет клиент сервер войны и записи nt, os221, UNIX и Netware 40granted эти oss будут в конечном итоге уменьшаться до beattractive к single user pc и что, вероятно, будет фаза iiof'],\n",
       " ['17в статье <23712couk я написала, я пытаюсь захватить некоторые 256цветные скриншоты из окон в настоящее время я пытаюсь нажать печатный экран, чтобы скопировать экран в буфер обмена, а затем вставить буфер обмена в окно пакет красок много спасибо за ответы я получил на это пару людейsuggested, как я мог бы получить пакет красок работать должным образом, но в конце я взял совет другого, чтобы попробовать paintshop Pro fromcicaindianaedu спасибо сноваphilip практики случайной доброты и бессмысленных действий красоты'],\n",
       " ['47<c6b79g28yecnpurdueeduunntppostinghost andrewcmueduinreplyto <c6b79g28yecnpurdueedu [в самом деле, когда вы приходите к нему кто заботится я просто надеюсь, что ms продолжает делать то, что они делают лучше, получая полезное производственное программное обеспечение для масс-летов увидеть, какие ms продукты не имеют крупных ошибок в них?'],\n",
       " ['50distribution usa<c6z0f52c3ucedunntppostinghost po3andrewcmueduinreplyto <c6z0f52c3ucedubferrelloccucedu brett ferrell writes in article <1993may1301540724313com jenkcom jen kilm er writes found there were actually two surveys one of randomly selected^^^^^^^^^^^^^^ resellers, one of randomly selected users from the 6 upgrade ^^^^^^^^^^^^^^ registered user database both surveys showed a 93% positive rating jenif jd power and associates did the survey, I would like an anonymous ftp site to pick it up at only a sucker believesan ms released survey results about a ms product okassumethat the results of the survey, whatever they are, are 100%honest if the results indicated extreme dissatisfaction with'],\n",
       " ['23в статье <735952415aa01739454fidonetorg c doelle writesbrad, что это процедура, используемая для специального сжатия файла bmp? я хотел бы использовать некоторые из моих файлов bmp я создал в качестве логотипа экран thankschris происхождения chrisdoellen106z1fidonetorg 1106333326я не знаю специфики алгоритма сжатия, но я использовала программуshareware, paintshop, чтобы конвертировать между двумя вы можете скачать его из ftpcicaindianaedu, но я не знаю, что файл называется или какой каталог это в вы можете начать, глядя в pubpcwin3 или пытаясь сканировать индексные файлы, чтобы конвертировать файл bmp в файл rle, вы просто загрузить файл bmp и сделать asave как выберите окно bitmap и сжатый или это rle?'],\n",
       " ['30Есть ситуация в доме, у меня есть ms word для windows, но нет принтера на работе, у меня есть windows + Postscript принтер, но не ms word так, я настройка моего компьютера в доме, чтобы использовать Postscript принтер, и использовать Print to File опцию, которая производит хороший Postscript файл, который я затем принести к работемое вопрос, как я печатать этот Postscript файл через Printmanager на работе? Если, например, я выберу Print из Filemanager, он относится Postscript как текстовый файл, и дает meseveral страниц Postscript gibberishi знают, что я могу открыть DOS окно и делать копию Fileps com1, который работает, но кажется, не мультизадачей очень хорошо другие приложенияrun довольно медленно и часто паузы на 10 секундthere должен быть способ передачи Postscript файла в Printmanager, но если есть, я не могу найти упоминания о нем'],\n",
       " ['26thomasdfellrath1eduedu wrote size is another factor the bj200 is much smaller, but the hp is built like a tank I bet the bj200 would get damaged firstyou bet your bippy its built like a tank and not just mechanically eitherthis weekend we had a nasty thunderstorm and the impossible ^%happened I got a direct lightning strike on my house and to the secondfloor outlet box into which my faithful deskjet 500c was connected therewas a 303bulletsized hole in the aluminum siding with some solidifiedaluminum slag dripping from it you could actually see the electrical boxthrough the hole the outlet itself was fried and im still amazed thewhole damn house didnt burn downi lost 2 electric garage door openers, 2 vcrs, 2 telephones all of whichwere on the opposite side of the house, a zyxel u1496e'],\n",
       " [\"62in article <1993apr27152233906eecsuicedu you writecahraincom chris huey writesjamie scuglia jamieapanaorgau wrote thanks to all those people who recommended workspace managers for windows 31 I found 3 shareware workspace managers, from australias mswindows archive monu6ccmonasheduau, which mirrors some sites in the us the three I found were 1 workspaces 110 wspacezip[ review deleted ] 2 workshift 16 wrksft16zip[ review deleted ] 3 bigdesk 230 and backmenu backdeskzip[ review deleted ]I really appreciate this information however, given that I don't havedirect internet access which means I don't have archie access I mustresort to using ftpmail this means that I need the site name and the directory where these workspace managers are locatedbackdeskzip\"],\n",
       " ['27в статье <57981004uupcbcom lestomcom les Tom пишет maw ying yuan написал из yuanenghawaiiedu maw ying yuansubject замены для программного менеджера и файлового менеджера?messageid <c68g1gjujhawaiiedudate thu, 29 apr 1993 064404 gmзамена для Win31s программного менеджера и файлового менеджера?yuanenghawaiieduhi,ive были использовать плагин планета мастеров для программного менеджераbest one я видел цео, с помощью Sloop программного обеспечения они имеют asharware версии, но розничная версия составляет только $4050 это невероятно завершено, подкачки на любой уровень, выбрать любой значок, горячие клавиши, Drop down меню, кнопки бары, и т.д. не нашли ничего, что он не пытается посылать 72540144comfor'],\n",
       " ['13распределение worldnntppostinghost trampccutexasedui использовали winqvtnet 281 под win31 доз 50 в течение некоторого времени без каких-либо проблем я недавно установил доз 60 на мой 38640 pcand я не могу работать winqvtnet больше я не получаю пакет получил недействительный портрет отправленные сообщения на консольное окно я не могу получить больше, чем 1 telnet окно и не могу использовать ftpany предложения будут очень благодарныthanks,george kontoravdiscondorccutexasedu'],\n",
       " ['58in article <1993apr2816191017062gwuedu louraygwuedu michael panayiotakis writesin article <735952415aa01739454fidonetorg cdoellef3333n106z1fidonetorg c doelle writeshello bradmonday 26 апреля 1993 1724, brad smalling wrote to crosspost 1 all bs copy b wincnf+vgalogolgo+vgalogorle wincom unnecessary bs i grabbed this from _supercharging windows_ by judd robbinsgreat book bs this is also how you can put your own logo into the windows startupmight do it, too much trouble brad,bmp will convert to rle i know for a fact that paintshopshareware from cica; desktop, i think, filename psvvvzip i think,where vvv is the'],\n",
       " ['31в статье <1t8fl2$ehsuncaedu, kepleyphysuncaedu пишет в статье <1993May161437224555oituncedu diladminuncedu dave laudicina пишет вопрос следующий вопрос, даже если я хотел бы запустить os2 и я имел этот большой монстр машины, чтобы работать на нем, есть ли разнообразный ^^^^^^^^^^^^^^^^^^^^^^^^^^^^^^^^^^^^^^^^^^^^^ я думаю, что вы намеренно преувеличивая требования для os2 учитывая, что os2 является многопоточной истинной мультиtasking os и занимает место до и окна и многое другое, я действительно думаю, что требования для os2 очень приветственны я также думаю, что любой, использующий windows 31 без 8 мегабайт ram, a 38640, и 200 мегабайт места на жестком диске, бьет головой против стены,'],\n",
       " ['28<1993May115470710177clemsonedunntppostinghost andrewcmueduinreplyto <1993May115470710177clemsoneduludesclemsonedu larry ludes ludwig writes [недоступная ссылка] bferrelloccucedu brett ferrell writes if you think that windows is useable, you must not use it much windows version of crash protection is wearing a helmet while computing the arir air bag is a expensive addon brett you must of reading too many os2 advertisements crash protection is such a marketing gimick, it isnt funny out of 4 months of using windows on my new machine ive only had it crash once, and i dont have a run of the mill configurationwow, what did you use it for? singletasked word processing?i have 8 files loaded right now and a 29mb virtual machine 12mb ofram'],\n",
       " ['39Есть интересная таблица, показывающая, сколько ресурсов приложенияиспользует и сколько он дает обратно при отключении это взять отwindows пользователь может 1993 выпускapplicationmin ресурсов пользователяsource не вернулсяgdiusergdiuserwinsleuth золото v303106214word для windows v20b10050lotus 123 v1113332arts и Liters v3127731powerpoint v309130corel рисунок v3010630micro designer v3110220crosstalk v200000excel v40a11800hijacck v102200imagein color pro3200picture publisher v3121800powerleads executive ed v1030500adobe type manager v2510nanaskylight v201000 цифры в процентах и в порядке уменьшенияwhat does this table tells you, if you frequently start and exit aprogram that doesnt give back all its resources, then you'],\n",
       " ['11im ищет способ, чтобы получить наш логотип компании на документы и вычислить самый простой способ, чтобы поставить его в шрифте Есть ли какие-либо программы publicdomain, которые могут сделать это? Есть ли какие-либо shareware, которые сделают это?'],\n",
       " ['4cicaindianaedu pcdrivers текущая версия 20?'],\n",
       " ['48 в статье <sundaram737186206 sundarammsuedu wrote jenkcom jen kilmer writes [большие bs удалены для краткости] снова, моя точка зрения была, что не все microsofties здесь, чтобы продать читателей на наших продуктах, которые будут противоречить с философией noads Usenet или мы обязательно имеют доступ к информации, что другие имеют это, конечно, smacks из того, что вспомнить опрос, который выцитировали, говоря, что вы видели 95% пользователей удовлетворены доз 60? заботиться, чтобы вспомнить, насколько непредвзятый набор образца был? что пост, конечно, выглядел, как фид и приходит из microsoftie хорошо, это, конечно, казалось, что что что-то не на уровнеit пришел из опроса продавцов пропаганды хорошо, но распространение фид, чтобы защищать ваш любимый os очень неэтично, особенно'],\n",
       " ['8да, многое из того, что os2 20 имеет в общих чертах с os2 1x было написано youguys однако, многие из вещей, которые сделали os2 20 так много более успешнымwinos2,shell на рабочем месте, чем предыдущие версии были ibm workyes, конечно, это был ibm, который написал кодик windows'],\n",
       " ['30 в статье <1993May121174125086umdedu rsrodgerumdedu yamanariwritesin article <c6d61625mucedu bferrelloccucedu brett ferrellwritesin article <1993May115470710177clemsonedu ludesclemsonedularry ludes ludwig пишет и не может адресовать свой память лучше, чем DOS,не уверен, что вы имеете в виду здесь os2 видит 16 мегабайт, использует 5 или шесть из них для собственного использования больше, если вы хотите подсчитать winos2 windows видит 16 мегабайт, использует 3 или 4 больше, как 5, если вы подсчитаете дисковый накопитель, как я для os2 для себя, если эффективность памяти была большой проблемой, PC geos будет текущим королём Intel Desktopi предполагал, что он ссылается на os2s 32-битный плоский модель адресации'],\n",
       " ['8 Есть ли способ использовать мышь при запуске программы dos windowed inwin 31? когда вы окна программы dos в улучшенном режиме, я могу видеть, где мышь курсор был, но это не работает никакой помощи, которая будет очень ценится спасибоhansang baehbaeunomahaedu'],\n",
       " ['24in article <mekenkamp6737653432wileidenunivnl mekenkampwileidenunivnl leo mekenkamp writesexcuse me? are you one of those people who enjoy working wwin? come talk to a housemate of mine and tell him how productive his life is when he encountered yet another sudden appearance of the dosprompt while cutting and pasting in win or a empty win screen without any tasks running ie^esc brings up a empty list, progman has done it againsighdont know what your roomate is doing but it must be something wrongare there people who enjoy using windows? yes ill admit to it givena choice between a mac and windows i choose windows every time to start another flame thread 9iskandar taibthe only thing worse than peach alainternet ntaibucsindianaedu frog is frog ala peachbitnetntaib'],\n",
       " ['65Я хотел бы обратиться к сетям nt волшебников для небольшого советаперво общее описание машины, как следует motherboard utron 33 mhz опти чипсет, 20 мега памяти, 256kb cachesoon я надеюсь, чтобы поместить в него dx2 чип fahrenheit 1280 видео 1 мега, 1024x768x256 проаудио спектр 16 звуковой панели первичный диск коннор cp30174 на Caching ide контроллер вторичный диск коннер cp30174 как раб на том же контроллер Tertiary disk fujitsu??? 650 мега на Superstore esdi контроллер запланированные будущие диски включают scsi hd и cd rom на pas16 scsi порт ленты привод colorado jumbo 250 на диске дискового контроллера будущий ленты привод может быть дата на интерфейсе scsi другое оборудование включает modemfax, серийные'],\n",
       " ['11ive получил старый супер vga карточки производства Сампо из Тайваня и ищут драйвер windows 31 для него его на основе cirrus logicclgd510a32pcb чип я связался с поставщиками здесь в Новой Зеландии и они говорят, что только windows 2 дайверы были когда-либо написаны производителем, так что если есть драйвер v31 для этого комплекта чипов id хотел бы знать предпочтительно по электронной почте в rjwjamesacnzthanks является advanceross James'],\n",
       " ['9andrew l roberts robertsatcdie написал, как именно выглядит формат Windows bitmap? я имею в виду, как данные хранятся ширина, высота, нет цветов, bitmap данные? я не мог найти ничего в ths пользовательского руководства, есть ли еще какой-либо другой справочник, который даст мне эту информацию? спасибо, andrewtry Windows мультимедийный kit, он имеет большинство форматов файлов определены'],\n",
       " ['3hii нуждается в кодабаре шрифта для win tt или другиеthanks'],\n",
       " [\"25in article <c6y2mzdnpclaremontedu tlilleyclaremontedu ted writesin article <timbolc6y1b47n0com timbolcom mike timbol writesanyway, how about this I give you my word, without naming sources, that ibmpaid companies to write applications for os2 satisfied?not really query what do you mean by paid? are you implying that helped tooffset development costs, or paid for the entire cost of producing the producti mean they paid the companies that developed the applications ie wellgive you x million dollars if you port application y to os2 i supposethe company in question could use the x million dollars for whatever theywantwould you like to post figures?for ms as well, i supposetedno, id rather not first of all, I don't have exact figures, and I don't want to disclose\"],\n",
       " ['12В последнее время, окна начали давать мне ошибку звук Blaster требует более новой версии windows 31 она работала правильно долгое время, и не знаю, что проблема может быть благодаря Jeff kaz kaczmarek kazeduthe future is long past forgotten, when youre on the road to madnessgeoff tate queensryche'],\n",
       " ['12helloi имеют windows 31 и я был удивлен, что необходимо изменить по умолчанию системный шрифт на что-то другое я только что получил mscc++ 70 withsdk, так что я действительно хочу, чтобы мои ноги насыщены, делая мою первую программу windows изменить системный шрифтtx, William F maton646379uottawaca mercedesbenz convertibleu646379uottawaca unicycle'],\n",
       " ['29в статье <10377seasuclaedu victorfseasuclaedu victor friedman пишет, может кто-то сказать мне, что именно windows 31 делает для ком-портов??? Почему я не могу работать единую коммуникационную программу под windows? у меня procomm+, Quicklink, commo ни один из них не реагирует на команды модема после того, как соединение в конечном итоге было установлено, хотя я все еще способен управлять vick victorfuclaeduэто одна из самых сложных проблем w Win 31 лично я runtelix 32 для дозов под windows просто хорошо и ve ждали Winversion froever, но я должен признать, что я являюсь исключением rulei пытались установить различные дозы ком-прог на друзей машины, наиболее часто в больших проблемах некоторые из вещей, которые вы должны искать 1 всегда работать prog через pif, никогда не вызывая его exe, 2 в pi'],\n",
       " ['15bjgrierca brian grier writesthis has gone on too long people get a lifeif you havent converted anyone to your way of thinking yetyou probably will not convert anyone just let this subjectdie a quiet, though painful deathif this keeps up ill start believing the self righteousnessshould be capital offenseyoull have to kill off half the net maybe that isnt such a bad idea pete gontier ec technology gurglecom'],\n",
       " ['24in article <1993May111417065878iitedu vaxtoolsacciitedu falke bruinsma wildthing writeshiyaim using word for windows and I am quite satisfied with it, except the equation editor screws up all the time when I try to insert an equation itwill give me two errors fence font not found and meta font not found thereal problem is that it will not display or print out the integral sign does anyone else have this problem? and how do I solve it?im using a zsport 486 laptop with a panasonic 1124p printer, running msdos 50 and windows 31thanks, falkewe all had that problem, you need to expand the fonts manually, the programdecomp is on disk 1 the equations fonts are on disk 3have fungel'],\n",
       " ['17ctwomeyeurokomie столбца twomey комментарии наконец, rhiannoncom rhia упомянул, что мех шрифт включен в casady greene плавные лазерные шрифты 2 пакета очень похоже на то, что я описывал я факс casady greene для информации, но не получил ответаcasady greene кажется, что очень медленно в ответе, ассивно слышали от других, кто связался с ними они могут не ответитьvia факс, но через змея почты дать им время, или снова связаться с ними rhialet радость и невиновность превосходят от фильма игрушки'],\n",
       " ['11организация jhuaplxnewsreader ftpnuz dos v10'],\n",
       " ['38distribution worldnntppostinghost dialin1411externucsdeduin article <twalls02vodemoncouk twallsdemoncouk tim walls writesfrom twallsdemoncouk tim wallssubject re re re challenge to microsoft supportersdate Mon, 10 May 1993 192326 +0000in article <9May9320570058clarkuedu rmohnsclarkuedu writesbut i dont want to have to run blasted windows every time i want to deletea tree it is absolutely ludicrous to load a hog like that just to deletesome files it would be like requiring a crane to change the tyre on a caryou dont, and never had to thats what enhanced shells are for remember 4dos and ndos? i mean, come on, you cant expect dos to cover everything from r10 microsoft has other projects to work on'],\n",
       " ['35diladminuncedu dave laudicina когда-то написал microsoft является крупнейшей программной компанией на планете, но я не могу думать даже о одной концепции вычислительной техники, что они изобретали и принесли на рынок прежде чем кто-либо другой xeroxparcapple, osborne, следующий, gnu и другие были pioniers и ведут путь к будущему вычислительной техники, что microsoft сделал, чтобы быть технологическим лидером? я опубликовал этот вопрос раньше, но я получил naive ответ я делаю вызов теперь всем, кто может прийти с чем-то особенно microsoft сотрудников я не получаю ответа на этот раз, я думаю, что это pretty much assures me that there is nonewhich is what I suspect anyway really when you come down to it who cares I just hope ms keeps doing what they do best getting usable productive software to the masses'],\n",
       " ['22nntppostinghost photonphysuncaeduin article <1993may1716545612652edu msbendtsedu michael scott bendtsen writesim ждать июня, прежде чем повернуть вокруг, когда я могу тогда получить мои руки на pcsolarisunix для интеллекта чип я знаю, что есть много других возможностей UNIX там, но это включает в себя wabi windows api binary interfacei думаю, что технология, которая wilrun windows приложения прямо из коробки это, конечно, поможет, чтобы быть в состоянии запустить windows и dos приложений, но единственный способ, что solaris или os2 или любой другой схемы собирается бросать вызов Майкрософт, если они могут каким-то образом получить цены на SOlarisor os2 или какие-либо приложения, до до до уровня до конкурентного уровня каждый хотел бы работать solaris приложения на solaris системы и os2 приложения наan os2 системы'],\n",
       " ['14a друг и я имеют ati графический ультра дисплей адаптеры, и они были разумно хороши исполнители, но мы оба имели раздражающие проблемы совместимости с драйверами ati и готовы изменить на что-то быстрее и более совместимые с окнами я слышал rumblings, что новая карта orchid9000 очень быстро кто-то имеет опыт с этой картой? что в настоящее время доступно, что быстро, совместимые, делает 1280x1024x256 не interlaced и стоит ниже $500?ken keirnan ken keirnan Pacific bell kjkeirnpacbellcom san ramon, california'],\n",
       " ['26это часть, которая обычно получает меня, пока я готов зарабатывать деньги, обычно есть другие вещи, которые должны быть рассмотрены и обсуждаются, что является целью жизни, как это или нет акции цены и продажи конкретного продукта являются мерами успеха они могут быть мерами краткосрочного или долгосрочного успеха я думаю, в ms случае они являются хорошей мерой их долгосрочного успеха исходный пост упоминал, как это кажется на этой группе, что есть большое количество людей, атакующих ms и не готовы принять что-либо положительное о msi пытался сделать то, что атаки слишком подчеркнуто и смотреть на продажи ms продуктов они определенно рассказывают другую историю я также думаю, что большое количество нападающих или дебатов, как вы называете, они являются высоко техническим взглядом вокруг в реальном мире люди не хотят греп и скук и ls l они просто хотят нажать кнопки и сделать свою работу'],\n",
       " ['11im сказал, что я могу заменить красочные окна логотип, который появляется, как windows вызывает с графикой моего выбора challange это то, что изображение должно быть в rle формате у меня есть gifs, фотографии, jpgs, tifs, и т.д., но rleswhats лучший путь к преобразованию этих вещей? какую программу я должен загрузить, и откуда? кто-то еще сделал это, и у вас есть шаги доступны? спасибо email to ivoryepisyrgecom или ivorycom предпочтительно'],\n",
       " ['21hello nettersi recenlty aquired достаточно денег, чтобы купить лазерный принтеро дня, я купил компьютер покупатель mag я смотрел через раздел обзора принтера и заметила winprinter800 машина невероятно низкой цены на все функции, которые она имеет 800 dpi8meg rampostscript compatableenvelope печатьМой вопрос является ли кто-то имеет один из них или знать, почему цена является дешёвой?'],\n",
       " ['17in article <1993apr2720065111520newshoststanfordedu herrodstanfordedu stephen herrod writesDoes anyone know a program that will record keyboard sequences that I do in a windowed dos box? i would like to have something that starts atelnet program and then logs me into my accounts windows recorder doesntseem to be able to record the key sequencesthanks, stevei think you would need a dos macro program superkey by borland?comes to mind i dont think windows is capable of sendingkeystrokes to a dos windowwhat you want to do sounds like a security problem for me, thoughtompaladinstdcom'],\n",
       " ['36Я использую финал из Coda некоторое время, но вдруг он прекратил использовать мои шрифты у меня есть 386 pc с большим количеством дискового пространства и памяти, постскрипт лазер, win31, финал 201 и я недавно установил atm 20 Я играл вокруг с установкой Windows на некоторое время, и когда я должен был сделать некоторые работы с финалом вещи не печатать должным образом это может быть и это может не иметь ничего общего с установкой atm от 1something до 20, но я не имеют старый atm лежит вокруг anomore наибольшей раздражающей проблемой было то, что petrucci шрифт не печатать, что является довольно важным шрифтом я удалось получить прямое печать для работы, если я включил ownps0 в [finale] раздел Winini, но компиляция списка постскриптов все еще не работает; и его те eps файлы я нуждаюсь, когда я'],\n",
       " ['22pwbcanberraeduau Paul Blackman writesin article <1rl9b6$h3cdeakinozau russozau russ sharp writeswe are using pkzip v204 and I am interested to hear frompeople who have used one of the many windows programs thatcall thesewhich ones are available and does any one stand out amongthe rest?is there a full windows version that does not call the dos pkzippkunzip commands?yes russ, there is quinzip is a windows version but i dont think it handlesall the functions available in the dos versionthe problem is that quinzip is very very slow so i think that winzip 40is still the best choice to use pkzip in windowsdenis simard, montrealsimarddeumontrealca'],\n",
       " ['25organization telecom researchin article <1993apr231401235018com rlistercom russell lister writesfrom rlistercom russell listersubject re Why is my mouse so jumpy? ms mousedate Fri, 23 Apr 1993 140123 gmtecktonsbyuedu sean eckton writesi у меня есть Microsoft серийный мышь и я использую mousecom 800 использую 820 я думаю, но переключился на 800, чтобы увидеть, если это было лучше вертикальное движение прекрасно и гладко, но горизонтальное движение так плохо я иногда не могу на что-то щелкнуть, потому что мой мышь прыгает вокруг я могу перемещать мышь справа с относительно равномерным движением и мышь будет двигаться гладко на некоторое время, затем прыгать направо, затем перемещаться гладко на некоторое время, а затем прыгать снова, возможно'],\n",
       " ['22в недавнем статье rcaldrnmiamiedu richard calderon writesi только получил ворота 48633 с окнами и доз 60 я запустил его несколько раз без каких-либо очевидных проблем я решил дать двойное пространство попытку после сжатия диска, без проблем, я решил загрузить окна он занял 1 минуту 45 секунд загрузить после dblspace, 17 секунд до dblspace я немного трушил с машиной и заметил сообщение об ошибке, говоря smartdrive 40 не может работать с dblspace ^^^^^^^^^^^^^^не необоснованно, так как smartdrv упакован с доз 6 версия 41убедитесь, что все ваши драйверы himem, emm386, smartdrv выполняются из доз каталогаloss of the cache provided by smartdrv could be your problem; if not,i dont know what might cause the startup delay my test'],\n",
       " ['15jg после этого падения, я думаю, ibm больше не имеет никаких прав наjg просмотр microsoft кода после этого, единственный способ поддерживатьjg какой-то вид совместимости является  reverseengineer Wouldjg вы хотите  reverseengineer ole2 приложения?'],\n",
       " ['20используя драйвер windows 31 принтера, я хотел бы напечатать в файл, безput в качестве файла Postscript позже, я хотел бы взять этот файл Postscript в машину с прикрепленным 4м лазерным принтером, и напечатать документ на 600 точек на дюйм resolutioni хотел бы использовать этот метод для печати от wordperfect для Windows, и от программы обработки изображений, которая может вывести изображения в Postscriptheres проблема windows Postscript драйвера принтера pscriptdrvdoesnt позволяет мне указать 600 dpi в самом деле, диалог настройки для этого драйвераdoes имеют вытащить меню для разрешения, но единственный выбор, предоставленный в меню 300 не действительно полезный менюany ideas?david arnsteinarnsteinsuncominternational imaging systemsmilpitas, california'],\n",
       " ['9реplyto hstarkeenggtefsdcom Hal starkenntppostinghost hstarkeenggtefsdcom я только что удалив ide диск и реформировал два scsi диска, чтобы использовать как загрузочный диск в системе, которая работала окна хорошо в 386 улучшенный режим его dx50 с 8 мега-RAM, и adaptec 1542b с биос включенной системы работает хорошо и работает окна в стандартном режиме хорошо, но это возвращается к доз prompt при попытке работать 386 режим я пытался emmexclude и sysrombreakpoint что дает??????Благодарим заранее, halmy взгляды мои собственные'],\n",
       " ['18ajayshahuscedu ajay shah writesthe preferred applications development platformaccording to 432 of the fortune 1000 corporationssurvey by sentry market research survey 19921993unix 18 28mainframe35 22dos msw24 18development of what? inhouse apps? maybe, but certainly not appsto be sold on an open market statistics like that are laughable,because they may simply mean that there are not enough shrinkwrappedusable apps for unix and they have to be developed disproportionatelyoften as compared to the installed unix baset'],\n",
       " [\"14nntppostinghost accessdigexnetgelcsmcgillca gilles khouzam writesmacseezip on ftpcicaindianaedu supposed to read and write mac disks Ive never tried it, though good lucki just tried it, but I cant say that it works, because it doesnt read 800kdisks, it only reads 144mb if there a program that does read 800k disks, please let me knowthe easiest way to do this is if you can send the files across the network this is much easier going from a mac to a pc because you don't have to worryabout losing the resource fork of the file, often a problem when sending binaryfiles from a pc to a mac\"],\n",
       " ['10в связи с ужасными историями о dos6doubledisk и stacker 2?killing жесткий дискsi был удивлен, если до 6 зеркальное командование работает на двойной диск информации, а также нормальной жирной таблицы и таблицы разделов, если он записывает жизненно важное двойной диск информации, то использовать его ежедневно должен идти долгий путь к защите себя от типа катастрофического отказа обсуждается, если это не так, то стыдно на Майкрософт'],\n",
       " ['66в статье <1srg8c$i54hyperioncom, автор пишет, что я устанавливаю свой DOSunix-бокс на 116м ide и 412м scsi диске и задался вопросом о применении msdos 50 join-команды мне нравится, как она устанавливает вещи, так как я не буду придерживаться c d e клопота, что DOS навязывает мне нравится, как она напоминает пункты установки UNIX файловых систем я слышал, что были проблемы с его использованием, или по крайней мере в более старых версиях DOS пожалуйста telli использовали join-команду уже много лет, в основном с хорошим успехом в дублировании unixstyle файлов монтов вы будете слышать много людей проклятие join, потому что они путают его с dos append-commanda действительно тупой hack, но не верьте им вы также будете слышать людей'],\n",
       " ['15Replyto bswancnsmuskingumedudisclaimer это сообщение представляет взгляды на плакаты, не обязательно те, которые ibmnntppostinghost campbersbocaratonibmcomorganization ibm boca ratonhey larry, как вы можете быть комп sci майор и никогда не разбить дьявола компьютерачто ваши cs department учит вас или вы только что хороший программист, что ни один из ваших программ сборки никогда не downed вашей защиты от машинного краха это такой маркетинговый трюк, это не смешно из 4 месяцев использования окон на моей новой машине я только имел это крах один раз, и я не знаю, как работает установка Millwhy вы беспокоиться, чтобы поставить такие глупые Postsor вы что ignorantbob campbellclarkson университет, potsdam ny campbersclarksonedu'],\n",
       " ['15после слушания бесконечной дискуссии прочитать название о том, какие os лучше, dosand windows или os2 и в конечном итоге иметь достаточноt резоноров, чтобы играть с несколькими различными операционными системами, я решил поставить два продукта вперед, чтобы головной тест, как так много соратников новостных постеров предложили мне, однако, нет никакого желания вообще использовать версию os2, которая не будет действительно делать то, что он говорит, т.е. запустить windows apps os2 2021 не будет запускать windowsapps в 386 улучшенный режим, что-то, что большинство крупных windows apps требуют, но os2 22, который должен быть в бета-тест, должен я слышал, что os2 22 бета-тест доступен через ftp, и я был удивлен, если кто-то знает, где получить копию я хотел бы оценить любую информацию, как я хотел бы'],\n",
       " ['12I хотел бы предотвратить наших пользователей Windows от использованияctlaltdel из окна я знаю, что должно быть способ сделать это, может кто-то указать мне в правильном направлении?'],\n",
       " ['47in article <c71c1k2ykrichbnrca bjgrierca brian grier writesi think most of the people posting are forgetting that most usersof ms products do not even know about internet, and unix is thatvery unfriendly place where bizzare abreviations replace the rathercomfortable abreviations they know and the abreviations have subtledifferences between the different vendors while pc users tend tocustomize any windowing setup, they can not do much with their command lineyou can customize a command line interface? where have you been? ican change the prompt, I can make aliases so someone like me who is used to say, ls, can type it on my dos machine and still get adirectory listing, and under unix, if I dont like the command lineinterface, I throw it out and get a different one csh, bash, ksh,'],\n",
       " ['13Dear netters, мой друг привезли S3801 карты с 2mb ram Есть ли новый драйвер для карты доступны на ftp cites? Что является новейшей версией? Она очень заинтересована в иметь драйвер для 1024x768 с Hicolor и 800x600 истинного цветаno такой драйвер приходят с картойkwmokkwmokemail h8714031hkuhkdept химии, университет Гонконга'],\n",
       " ['34in article <1993apr301803175618gwuedu louraygwuedu michael panayiotakis writesin article <c6aw83h7vorg richardfcsnorg iriemon writesdmittlemanbpaarizonaedu daniel mittleman writes I am running win 31 with ndw 22 on a 486sx with 8 meg of memory and a 6 meg perm swap file and am getting exceedingly frustrated that my applications are not giving back system resources when I close themive noticed this also the way it was explained to me is that windowsdoes not clear the upper memory blocks after a program is done anyoneout there know if this is why? there was a post about something similar a while back it seems windowsdoes not take it upon itself to free up any sys resources anapplllication is using when that application is done that job is leftenti'],\n",
       " ['14distribution worldnntppostinghost whalestusmeduin article <3160180uupcbcom scottlynncom scott lynn пишет хорошо, я делаю много графического дизайна работы, и я оставаюсь верным до windows вместо macs мой колледж не является, хотя, и я могу только сканировать изображения на macintosh знает кто-то о программе, которая может читать mac диски обмен яблуковыми файлами на Nac, что пишет до дисков, вероятно, оставляет меня заметно старше во время каждой сессии я хочу сделать передачу в windows вместо macseezip на ftpcicaindianaedu предполагается читать и писать mac диски я никогда не пробовал его, хотя удачиcjcallisonstusmedu'],\n",
       " ['8распределение worldnntppostinghost dec6wuwienacatin факт, я ищу возможность подключить различные миры информации, как в Windows системы помощи и нет, я не хочу программировать такую систему самостоятельно необходимое усилие иafford должен быть как можно меньшеthanx заранее,thomas'],\n",
       " ['38in article <1993apr2814174328994unitno eliza elisabeth bull writesfrom eliza elisabeth bullsubject re why im not using dos 6 anymoredate wed, 28 apr 93 141743 gmtmark woodruff cda90038bitnet wrote this morning at 4 am while I was working on my research paper, I had to reboot a hung dos program that did no disk io from within windows 31 when my machine finished rebooting, I found my windows directory and about two thirds of my other directories were irreversibly corrupted stuff deletedthis sounds like what happened to my hd a month ago my hd was stackedwith stacker v20 i run dos5 suddenly everything hung up, and most ofthe hd got corrupted directories changed into unreadable files withfunny names in other words it is probably just the doubledisk part ofdos6 that'],\n",
       " ['3i работаю с 24 bit rgb bmp файлов и нужно конвертировать их в 15 и 16 bit изображений, как конвертировать 24 bit изображений в 15 и 16 bit rgb изображений? спасибо'],\n",
       " ['9 Есть ли какие-либо оффлайн почтовых читателей для netnews? в формате qwk? было бы действительно полезно быть в состоянии скачать netnews из vax ormainframe и читать его offlineadam hodgearhodgeacsmuohioedu']]"
      ]
     },
     "execution_count": 15,
     "metadata": {},
     "output_type": "execute_result"
    }
   ],
   "source": [
    "lst"
   ]
  },
  {
   "cell_type": "code",
   "execution_count": 16,
   "metadata": {},
   "outputs": [],
   "source": [
    "t = {'trashlated':lst}"
   ]
  },
  {
   "cell_type": "code",
   "execution_count": null,
   "metadata": {
    "scrolled": true
   },
   "outputs": [],
   "source": []
  }
 ],
 "metadata": {
  "kernelspec": {
   "display_name": "Python 3 (ipykernel)",
   "language": "python",
   "name": "python3"
  },
  "language_info": {
   "codemirror_mode": {
    "name": "ipython",
    "version": 3
   },
   "file_extension": ".py",
   "mimetype": "text/x-python",
   "name": "python",
   "nbconvert_exporter": "python",
   "pygments_lexer": "ipython3",
   "version": "3.8.8"
  }
 },
 "nbformat": 4,
 "nbformat_minor": 4
}
