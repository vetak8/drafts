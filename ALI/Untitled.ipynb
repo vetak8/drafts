{
 "cells": [
  {
   "cell_type": "code",
   "execution_count": null,
   "id": "693b6d81",
   "metadata": {},
   "outputs": [],
   "source": []
  },
  {
   "cell_type": "code",
   "execution_count": 1,
   "id": "fd6c7d3b",
   "metadata": {},
   "outputs": [],
   "source": [
    "a = [x for x in range(100000)]\n",
    "b = [x for x in range(0, 300000, 3)]"
   ]
  },
  {
   "cell_type": "code",
   "execution_count": 2,
   "id": "36b353a8",
   "metadata": {},
   "outputs": [],
   "source": [
    "from typing import List\n",
    "from datetime import datetime\n",
    "\n",
    "def can_get_target_sum(    \n",
    "    first_array: List[int],\n",
    "    second_array: List[int],\n",
    "    target_sum: int\n",
    ") -> bool:\n",
    "    start_time = datetime.now()\n",
    "    for current_num in first_array:\n",
    "        search_for = target_sum - current_num\n",
    "        if search_for in second_array:\n",
    "            end_time = datetime.now()\n",
    "            print('Duration: {}'.format(end_time - start_time))\n",
    "            return True\n",
    "    end_time = datetime.now()\n",
    "    print('Время работы: {}'.format(end_time - start_time))\n",
    "    return False"
   ]
  },
  {
   "cell_type": "code",
   "execution_count": 3,
   "id": "dd7883ba",
   "metadata": {},
   "outputs": [
    {
     "name": "stdout",
     "output_type": "stream",
     "text": [
      "Время работы: 0:02:40.293026\n"
     ]
    },
    {
     "data": {
      "text/plain": [
       "False"
      ]
     },
     "execution_count": 3,
     "metadata": {},
     "output_type": "execute_result"
    }
   ],
   "source": [
    "can_get_target_sum(a,b, 1000000)"
   ]
  },
  {
   "cell_type": "code",
   "execution_count": 6,
   "id": "5e19eee0",
   "metadata": {},
   "outputs": [],
   "source": [
    "from typing import List\n",
    "\n",
    "def can_get_target_sum_dicts(\n",
    "    first_array: List[int],\n",
    "    second_array: List[int],\n",
    "    target_sum: int\n",
    ") -> bool:\n",
    "    \n",
    "    start_time = datetime.now()\n",
    "    d_first = {x:None for x in first_array }\n",
    "    d_second = {x:None for x in second_array }\n",
    "    \n",
    "    \n",
    "    for current_num in d_first.keys():\n",
    "        search_for = target_sum - current_num\n",
    "        if search_for in d_second.keys():\n",
    "            \n",
    "            end_time = datetime.now()\n",
    "            print('Время работы: {}'.format(end_time - start_time))\n",
    "            \n",
    "            return True\n",
    "    end_time = datetime.now()\n",
    "    print('Время работы: {}'.format(end_time - start_time))\n",
    "    return False"
   ]
  },
  {
   "cell_type": "code",
   "execution_count": 7,
   "id": "19f40937",
   "metadata": {},
   "outputs": [
    {
     "name": "stdout",
     "output_type": "stream",
     "text": [
      "Время работы: 0:00:00.097006\n"
     ]
    },
    {
     "data": {
      "text/plain": [
       "False"
      ]
     },
     "execution_count": 7,
     "metadata": {},
     "output_type": "execute_result"
    }
   ],
   "source": [
    "can_get_target_sum_dicts(a,b, 1000000)"
   ]
  },
  {
   "cell_type": "code",
   "execution_count": null,
   "id": "84bb5d95",
   "metadata": {},
   "outputs": [],
   "source": []
  },
  {
   "cell_type": "code",
   "execution_count": null,
   "id": "8575ffb4",
   "metadata": {},
   "outputs": [],
   "source": []
  }
 ],
 "metadata": {
  "kernelspec": {
   "display_name": "Python 3",
   "language": "python",
   "name": "python3"
  },
  "language_info": {
   "codemirror_mode": {
    "name": "ipython",
    "version": 3
   },
   "file_extension": ".py",
   "mimetype": "text/x-python",
   "name": "python",
   "nbconvert_exporter": "python",
   "pygments_lexer": "ipython3",
   "version": "3.8.8"
  }
 },
 "nbformat": 4,
 "nbformat_minor": 5
}
