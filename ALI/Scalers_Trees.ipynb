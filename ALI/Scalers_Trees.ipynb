{
 "cells": [
  {
   "cell_type": "code",
   "execution_count": 1,
   "id": "659c93ed",
   "metadata": {},
   "outputs": [],
   "source": [
    "import numpy as np\n",
    "import pandas as pd\n",
    "from sklearn.datasets import load_boston\n",
    "import matplotlib.pyplot as plt\n",
    "from sklearn.ensemble import RandomForestRegressor\n",
    "import lightgbm as lgb\n",
    "from sklearn.model_selection import train_test_split\n",
    "from sklearn.metrics import mean_absolute_error, mean_squared_error\n",
    "from sklearn.preprocessing import MinMaxScaler, StandardScaler, RobustScaler\n",
    "import warnings\n",
    "\n",
    "warnings.filterwarnings('ignore', )"
   ]
  },
  {
   "cell_type": "code",
   "execution_count": 2,
   "id": "4b9ecc68",
   "metadata": {},
   "outputs": [],
   "source": [
    "'''Функция для возвращения таблицы с метриками'''\n",
    "def get_scores(report_df, model, X_test, y_test, name):\n",
    "\n",
    "    report = pd.DataFrame(columns={'MAE'}, data=[0])\n",
    "\n",
    "    report['MAE'] = mean_absolute_error(y_test, model.predict(X_test))\n",
    "    report['MSE'] = mean_squared_error(y_test, model.predict(X_test))\n",
    "    report['RMSE'] = (mean_squared_error(y_test, model.predict(X_test))) ** 0.5\n",
    "\n",
    "\n",
    "    report.index = [name]\n",
    "    report_df = report_df.append(report)\n",
    "    return report_df"
   ]
  },
  {
   "cell_type": "code",
   "execution_count": 3,
   "id": "ce872fbc",
   "metadata": {},
   "outputs": [],
   "source": [
    "SEED = 666"
   ]
  },
  {
   "cell_type": "code",
   "execution_count": 4,
   "id": "dcc0277e",
   "metadata": {
    "scrolled": true
   },
   "outputs": [],
   "source": [
    "boston = load_boston();\n"
   ]
  },
  {
   "cell_type": "code",
   "execution_count": 5,
   "id": "5cef0f81",
   "metadata": {
    "scrolled": true
   },
   "outputs": [],
   "source": [
    "df = pd.DataFrame(data=boston['data'], columns=boston['feature_names'])\n",
    "df['target'] = boston['target']"
   ]
  },
  {
   "cell_type": "code",
   "execution_count": 6,
   "id": "d592174d",
   "metadata": {},
   "outputs": [
    {
     "data": {
      "text/html": [
       "<div>\n",
       "<style scoped>\n",
       "    .dataframe tbody tr th:only-of-type {\n",
       "        vertical-align: middle;\n",
       "    }\n",
       "\n",
       "    .dataframe tbody tr th {\n",
       "        vertical-align: top;\n",
       "    }\n",
       "\n",
       "    .dataframe thead th {\n",
       "        text-align: right;\n",
       "    }\n",
       "</style>\n",
       "<table border=\"1\" class=\"dataframe\">\n",
       "  <thead>\n",
       "    <tr style=\"text-align: right;\">\n",
       "      <th></th>\n",
       "      <th>CRIM</th>\n",
       "      <th>ZN</th>\n",
       "      <th>INDUS</th>\n",
       "      <th>CHAS</th>\n",
       "      <th>NOX</th>\n",
       "      <th>RM</th>\n",
       "      <th>AGE</th>\n",
       "      <th>DIS</th>\n",
       "      <th>RAD</th>\n",
       "      <th>TAX</th>\n",
       "      <th>PTRATIO</th>\n",
       "      <th>B</th>\n",
       "      <th>LSTAT</th>\n",
       "      <th>target</th>\n",
       "    </tr>\n",
       "  </thead>\n",
       "  <tbody>\n",
       "    <tr>\n",
       "      <th>0</th>\n",
       "      <td>0.00632</td>\n",
       "      <td>18.0</td>\n",
       "      <td>2.31</td>\n",
       "      <td>0.0</td>\n",
       "      <td>0.538</td>\n",
       "      <td>6.575</td>\n",
       "      <td>65.2</td>\n",
       "      <td>4.0900</td>\n",
       "      <td>1.0</td>\n",
       "      <td>296.0</td>\n",
       "      <td>15.3</td>\n",
       "      <td>396.90</td>\n",
       "      <td>4.98</td>\n",
       "      <td>24.0</td>\n",
       "    </tr>\n",
       "    <tr>\n",
       "      <th>1</th>\n",
       "      <td>0.02731</td>\n",
       "      <td>0.0</td>\n",
       "      <td>7.07</td>\n",
       "      <td>0.0</td>\n",
       "      <td>0.469</td>\n",
       "      <td>6.421</td>\n",
       "      <td>78.9</td>\n",
       "      <td>4.9671</td>\n",
       "      <td>2.0</td>\n",
       "      <td>242.0</td>\n",
       "      <td>17.8</td>\n",
       "      <td>396.90</td>\n",
       "      <td>9.14</td>\n",
       "      <td>21.6</td>\n",
       "    </tr>\n",
       "    <tr>\n",
       "      <th>2</th>\n",
       "      <td>0.02729</td>\n",
       "      <td>0.0</td>\n",
       "      <td>7.07</td>\n",
       "      <td>0.0</td>\n",
       "      <td>0.469</td>\n",
       "      <td>7.185</td>\n",
       "      <td>61.1</td>\n",
       "      <td>4.9671</td>\n",
       "      <td>2.0</td>\n",
       "      <td>242.0</td>\n",
       "      <td>17.8</td>\n",
       "      <td>392.83</td>\n",
       "      <td>4.03</td>\n",
       "      <td>34.7</td>\n",
       "    </tr>\n",
       "    <tr>\n",
       "      <th>3</th>\n",
       "      <td>0.03237</td>\n",
       "      <td>0.0</td>\n",
       "      <td>2.18</td>\n",
       "      <td>0.0</td>\n",
       "      <td>0.458</td>\n",
       "      <td>6.998</td>\n",
       "      <td>45.8</td>\n",
       "      <td>6.0622</td>\n",
       "      <td>3.0</td>\n",
       "      <td>222.0</td>\n",
       "      <td>18.7</td>\n",
       "      <td>394.63</td>\n",
       "      <td>2.94</td>\n",
       "      <td>33.4</td>\n",
       "    </tr>\n",
       "    <tr>\n",
       "      <th>4</th>\n",
       "      <td>0.06905</td>\n",
       "      <td>0.0</td>\n",
       "      <td>2.18</td>\n",
       "      <td>0.0</td>\n",
       "      <td>0.458</td>\n",
       "      <td>7.147</td>\n",
       "      <td>54.2</td>\n",
       "      <td>6.0622</td>\n",
       "      <td>3.0</td>\n",
       "      <td>222.0</td>\n",
       "      <td>18.7</td>\n",
       "      <td>396.90</td>\n",
       "      <td>5.33</td>\n",
       "      <td>36.2</td>\n",
       "    </tr>\n",
       "    <tr>\n",
       "      <th>...</th>\n",
       "      <td>...</td>\n",
       "      <td>...</td>\n",
       "      <td>...</td>\n",
       "      <td>...</td>\n",
       "      <td>...</td>\n",
       "      <td>...</td>\n",
       "      <td>...</td>\n",
       "      <td>...</td>\n",
       "      <td>...</td>\n",
       "      <td>...</td>\n",
       "      <td>...</td>\n",
       "      <td>...</td>\n",
       "      <td>...</td>\n",
       "      <td>...</td>\n",
       "    </tr>\n",
       "    <tr>\n",
       "      <th>501</th>\n",
       "      <td>0.06263</td>\n",
       "      <td>0.0</td>\n",
       "      <td>11.93</td>\n",
       "      <td>0.0</td>\n",
       "      <td>0.573</td>\n",
       "      <td>6.593</td>\n",
       "      <td>69.1</td>\n",
       "      <td>2.4786</td>\n",
       "      <td>1.0</td>\n",
       "      <td>273.0</td>\n",
       "      <td>21.0</td>\n",
       "      <td>391.99</td>\n",
       "      <td>9.67</td>\n",
       "      <td>22.4</td>\n",
       "    </tr>\n",
       "    <tr>\n",
       "      <th>502</th>\n",
       "      <td>0.04527</td>\n",
       "      <td>0.0</td>\n",
       "      <td>11.93</td>\n",
       "      <td>0.0</td>\n",
       "      <td>0.573</td>\n",
       "      <td>6.120</td>\n",
       "      <td>76.7</td>\n",
       "      <td>2.2875</td>\n",
       "      <td>1.0</td>\n",
       "      <td>273.0</td>\n",
       "      <td>21.0</td>\n",
       "      <td>396.90</td>\n",
       "      <td>9.08</td>\n",
       "      <td>20.6</td>\n",
       "    </tr>\n",
       "    <tr>\n",
       "      <th>503</th>\n",
       "      <td>0.06076</td>\n",
       "      <td>0.0</td>\n",
       "      <td>11.93</td>\n",
       "      <td>0.0</td>\n",
       "      <td>0.573</td>\n",
       "      <td>6.976</td>\n",
       "      <td>91.0</td>\n",
       "      <td>2.1675</td>\n",
       "      <td>1.0</td>\n",
       "      <td>273.0</td>\n",
       "      <td>21.0</td>\n",
       "      <td>396.90</td>\n",
       "      <td>5.64</td>\n",
       "      <td>23.9</td>\n",
       "    </tr>\n",
       "    <tr>\n",
       "      <th>504</th>\n",
       "      <td>0.10959</td>\n",
       "      <td>0.0</td>\n",
       "      <td>11.93</td>\n",
       "      <td>0.0</td>\n",
       "      <td>0.573</td>\n",
       "      <td>6.794</td>\n",
       "      <td>89.3</td>\n",
       "      <td>2.3889</td>\n",
       "      <td>1.0</td>\n",
       "      <td>273.0</td>\n",
       "      <td>21.0</td>\n",
       "      <td>393.45</td>\n",
       "      <td>6.48</td>\n",
       "      <td>22.0</td>\n",
       "    </tr>\n",
       "    <tr>\n",
       "      <th>505</th>\n",
       "      <td>0.04741</td>\n",
       "      <td>0.0</td>\n",
       "      <td>11.93</td>\n",
       "      <td>0.0</td>\n",
       "      <td>0.573</td>\n",
       "      <td>6.030</td>\n",
       "      <td>80.8</td>\n",
       "      <td>2.5050</td>\n",
       "      <td>1.0</td>\n",
       "      <td>273.0</td>\n",
       "      <td>21.0</td>\n",
       "      <td>396.90</td>\n",
       "      <td>7.88</td>\n",
       "      <td>11.9</td>\n",
       "    </tr>\n",
       "  </tbody>\n",
       "</table>\n",
       "<p>506 rows × 14 columns</p>\n",
       "</div>"
      ],
      "text/plain": [
       "        CRIM    ZN  INDUS  CHAS    NOX     RM   AGE     DIS  RAD    TAX  \\\n",
       "0    0.00632  18.0   2.31   0.0  0.538  6.575  65.2  4.0900  1.0  296.0   \n",
       "1    0.02731   0.0   7.07   0.0  0.469  6.421  78.9  4.9671  2.0  242.0   \n",
       "2    0.02729   0.0   7.07   0.0  0.469  7.185  61.1  4.9671  2.0  242.0   \n",
       "3    0.03237   0.0   2.18   0.0  0.458  6.998  45.8  6.0622  3.0  222.0   \n",
       "4    0.06905   0.0   2.18   0.0  0.458  7.147  54.2  6.0622  3.0  222.0   \n",
       "..       ...   ...    ...   ...    ...    ...   ...     ...  ...    ...   \n",
       "501  0.06263   0.0  11.93   0.0  0.573  6.593  69.1  2.4786  1.0  273.0   \n",
       "502  0.04527   0.0  11.93   0.0  0.573  6.120  76.7  2.2875  1.0  273.0   \n",
       "503  0.06076   0.0  11.93   0.0  0.573  6.976  91.0  2.1675  1.0  273.0   \n",
       "504  0.10959   0.0  11.93   0.0  0.573  6.794  89.3  2.3889  1.0  273.0   \n",
       "505  0.04741   0.0  11.93   0.0  0.573  6.030  80.8  2.5050  1.0  273.0   \n",
       "\n",
       "     PTRATIO       B  LSTAT  target  \n",
       "0       15.3  396.90   4.98    24.0  \n",
       "1       17.8  396.90   9.14    21.6  \n",
       "2       17.8  392.83   4.03    34.7  \n",
       "3       18.7  394.63   2.94    33.4  \n",
       "4       18.7  396.90   5.33    36.2  \n",
       "..       ...     ...    ...     ...  \n",
       "501     21.0  391.99   9.67    22.4  \n",
       "502     21.0  396.90   9.08    20.6  \n",
       "503     21.0  396.90   5.64    23.9  \n",
       "504     21.0  393.45   6.48    22.0  \n",
       "505     21.0  396.90   7.88    11.9  \n",
       "\n",
       "[506 rows x 14 columns]"
      ]
     },
     "execution_count": 6,
     "metadata": {},
     "output_type": "execute_result"
    }
   ],
   "source": [
    "df"
   ]
  },
  {
   "cell_type": "code",
   "execution_count": 7,
   "id": "f5b28a79",
   "metadata": {
    "scrolled": true
   },
   "outputs": [
    {
     "data": {
      "image/png": "[encoded data removed]",
      "text/plain": [
       "<Figure size 360x6840 with 1 Axes>"
      ]
     },
     "metadata": {
      "needs_background": "light"
     },
     "output_type": "display_data"
    },
    {
     "data": {
      "image/png": "[encoded data removed]",
      "text/plain": [
       "<Figure size 360x6840 with 1 Axes>"
      ]
     },
     "metadata": {
      "needs_background": "light"
     },
     "output_type": "display_data"
    },
    {
     "data": {
      "image/png": "[encoded data removed]",
      "text/plain": [
       "<Figure size 360x6840 with 1 Axes>"
      ]
     },
     "metadata": {
      "needs_background": "light"
     },
     "output_type": "display_data"
    },
    {
     "data": {
      "image/png": "[encoded data removed]",
      "text/plain": [
       "<Figure size 360x6840 with 1 Axes>"
      ]
     },
     "metadata": {
      "needs_background": "light"
     },
     "output_type": "display_data"
    },
    {
     "data": {
      "image/png": "[encoded data removed]",
      "text/plain": [
       "<Figure size 360x6840 with 1 Axes>"
      ]
     },
     "metadata": {
      "needs_background": "light"
     },
     "output_type": "display_data"
    },
    {
     "data": {
      "image/png": "[encoded data removed]",
      "text/plain": [
       "<Figure size 360x6840 with 1 Axes>"
      ]
     },
     "metadata": {
      "needs_background": "light"
     },
     "output_type": "display_data"
    },
    {
     "data": {
      "image/png": "[encoded data removed]",
      "text/plain": [
       "<Figure size 360x6840 with 1 Axes>"
      ]
     },
     "metadata": {
      "needs_background": "light"
     },
     "output_type": "display_data"
    },
    {
     "data": {
      "image/png": "[encoded data removed]",
      "text/plain": [
       "<Figure size 360x6840 with 1 Axes>"
      ]
     },
     "metadata": {
      "needs_background": "light"
     },
     "output_type": "display_data"
    },
    {
     "data": {
      "image/png": "[encoded data removed]",
      "text/plain": [
       "<Figure size 360x6840 with 1 Axes>"
      ]
     },
     "metadata": {
      "needs_background": "light"
     },
     "output_type": "display_data"
    },
    {
     "data": {
      "image/png": "[encoded data removed]",
      "text/plain": [
       "<Figure size 360x6840 with 1 Axes>"
      ]
     },
     "metadata": {
      "needs_background": "light"
     },
     "output_type": "display_data"
    },
    {
     "data": {
      "image/png": "[encoded data removed]",
      "text/plain": [
       "<Figure size 360x6840 with 1 Axes>"
      ]
     },
     "metadata": {
      "needs_background": "light"
     },
     "output_type": "display_data"
    },
    {
     "data": {
      "image/png": "[encoded data removed]",
      "text/plain": [
       "<Figure size 360x6840 with 1 Axes>"
      ]
     },
     "metadata": {
      "needs_background": "light"
     },
     "output_type": "display_data"
    },
    {
     "data": {
      "image/png": "[encoded data removed]",
      "text/plain": [
       "<Figure size 360x6840 with 1 Axes>"
      ]
     },
     "metadata": {
      "needs_background": "light"
     },
     "output_type": "display_data"
    }
   ],
   "source": [
    "for  n, col  in enumerate(df.columns[:-1], start=1):\n",
    "    plt.figure(figsize=(5,95))\n",
    "    plt.subplot(len(df.columns[:-1]),1 , n)\n",
    "    df[col].plot(kind='hist')\n",
    "    plt.title(col)\n",
    "    plt.show()\n",
    "    "
   ]
  },
  {
   "cell_type": "markdown",
   "id": "7de4241c",
   "metadata": {},
   "source": [
    "### Видим, что не все признаки имеют распределение, похожее на нормальное. "
   ]
  },
  {
   "cell_type": "markdown",
   "id": "a1d41ba2",
   "metadata": {},
   "source": [
    "#### Random forest и Gradient Boosting на нестандартизированных данных."
   ]
  },
  {
   "cell_type": "code",
   "execution_count": 8,
   "id": "0914a5da",
   "metadata": {},
   "outputs": [],
   "source": [
    "X = boston['data']\n",
    "y = boston['target']"
   ]
  },
  {
   "cell_type": "code",
   "execution_count": 9,
   "id": "6c18e265",
   "metadata": {},
   "outputs": [],
   "source": [
    "X_train, X_test, y_train, y_test = train_test_split(X, y, random_state=SEED, shuffle=False, test_size=.2)"
   ]
  },
  {
   "cell_type": "code",
   "execution_count": 10,
   "id": "3d3613c9",
   "metadata": {},
   "outputs": [],
   "source": [
    "#Не будем делать GridSearch для подбора гиперпараметров. Для эксперемента достаточно будет ручного ввода"
   ]
  },
  {
   "cell_type": "markdown",
   "id": "2aede72d",
   "metadata": {},
   "source": [
    "## Random Forest"
   ]
  },
  {
   "cell_type": "code",
   "execution_count": 11,
   "id": "dfb8a877",
   "metadata": {},
   "outputs": [],
   "source": [
    "forest_model = RandomForestRegressor(max_depth=5, random_state=SEED)\n"
   ]
  },
  {
   "cell_type": "code",
   "execution_count": 12,
   "id": "fb98b69e",
   "metadata": {},
   "outputs": [
    {
     "data": {
      "text/plain": [
       "RandomForestRegressor(max_depth=5, random_state=666)"
      ]
     },
     "execution_count": 12,
     "metadata": {},
     "output_type": "execute_result"
    }
   ],
   "source": [
    "forest_model.fit(X_train, y_train)"
   ]
  },
  {
   "cell_type": "code",
   "execution_count": 13,
   "id": "a9523ab6",
   "metadata": {},
   "outputs": [],
   "source": [
    "y_pred = forest_model.predict(X_test)\n"
   ]
  },
  {
   "cell_type": "code",
   "execution_count": 14,
   "id": "eebd64a1",
   "metadata": {},
   "outputs": [],
   "source": [
    "# Создаем таблицу, где будем вести учет результатов\n",
    "df_report = pd.DataFrame(columns={'MAE'}, data=[0])\n",
    "\n",
    "df_report['MAE'] = mean_absolute_error(y_test, y_pred)\n",
    "df_report['MSE'] = mean_squared_error(y_test, y_pred)\n",
    "df_report['RMSE'] = (mean_squared_error(y_test, y_pred)) ** 0.5\n",
    "\n",
    "df_report.index = ['RandomForest']"
   ]
  },
  {
   "cell_type": "code",
   "execution_count": 15,
   "id": "4445c543",
   "metadata": {},
   "outputs": [
    {
     "data": {
      "text/html": [
       "<div>\n",
       "<style scoped>\n",
       "    .dataframe tbody tr th:only-of-type {\n",
       "        vertical-align: middle;\n",
       "    }\n",
       "\n",
       "    .dataframe tbody tr th {\n",
       "        vertical-align: top;\n",
       "    }\n",
       "\n",
       "    .dataframe thead th {\n",
       "        text-align: right;\n",
       "    }\n",
       "</style>\n",
       "<table border=\"1\" class=\"dataframe\">\n",
       "  <thead>\n",
       "    <tr style=\"text-align: right;\">\n",
       "      <th></th>\n",
       "      <th>MAE</th>\n",
       "      <th>MSE</th>\n",
       "      <th>RMSE</th>\n",
       "    </tr>\n",
       "  </thead>\n",
       "  <tbody>\n",
       "    <tr>\n",
       "      <th>RandomForest</th>\n",
       "      <td>3.05673</td>\n",
       "      <td>18.85405</td>\n",
       "      <td>4.342125</td>\n",
       "    </tr>\n",
       "  </tbody>\n",
       "</table>\n",
       "</div>"
      ],
      "text/plain": [
       "                  MAE       MSE      RMSE\n",
       "RandomForest  3.05673  18.85405  4.342125"
      ]
     },
     "execution_count": 15,
     "metadata": {},
     "output_type": "execute_result"
    }
   ],
   "source": [
    "df_report"
   ]
  },
  {
   "cell_type": "markdown",
   "id": "ffadea3f",
   "metadata": {},
   "source": [
    "## Gradient Boosting (Light GBM)"
   ]
  },
  {
   "cell_type": "code",
   "execution_count": 16,
   "id": "76af6de4",
   "metadata": {},
   "outputs": [],
   "source": [
    "grad_model = lgb.LGBMRegressor(max_depth=5, random_state=SEED)"
   ]
  },
  {
   "cell_type": "code",
   "execution_count": 17,
   "id": "676afdbd",
   "metadata": {},
   "outputs": [
    {
     "data": {
      "text/plain": [
       "LGBMRegressor(max_depth=5, random_state=666)"
      ]
     },
     "execution_count": 17,
     "metadata": {},
     "output_type": "execute_result"
    }
   ],
   "source": [
    "grad_model.fit(X_train, y_train)"
   ]
  },
  {
   "cell_type": "code",
   "execution_count": 18,
   "id": "ce246b64",
   "metadata": {},
   "outputs": [],
   "source": [
    "y_pred = grad_model.predict(X_test)\n"
   ]
  },
  {
   "cell_type": "code",
   "execution_count": 19,
   "id": "801ac341",
   "metadata": {},
   "outputs": [],
   "source": [
    "df_report = get_scores(df_report, grad_model, X_test, y_test, 'LGBM')"
   ]
  },
  {
   "cell_type": "markdown",
   "id": "9c7f517f",
   "metadata": {},
   "source": [
    "### Нормализуем, стандартизируем, робустим"
   ]
  },
  {
   "cell_type": "code",
   "execution_count": 20,
   "id": "047e5394",
   "metadata": {},
   "outputs": [],
   "source": [
    "min_max_scaler = MinMaxScaler()\n",
    "std_scaler = StandardScaler()\n",
    "rob_scaler = RobustScaler()"
   ]
  },
  {
   "cell_type": "code",
   "execution_count": 21,
   "id": "8ef939e3",
   "metadata": {},
   "outputs": [],
   "source": [
    "X_train_mm = min_max_scaler.fit_transform(X_train)\n",
    "X_test_mm = min_max_scaler.transform(X_test)\n",
    "\n",
    "X_train_std = std_scaler.fit_transform(X_train)\n",
    "X_test_std = std_scaler.transform(X_test)\n",
    "\n",
    "X_train_rob = rob_scaler.fit_transform(X_train)\n",
    "X_test_rob = rob_scaler.transform(X_test)"
   ]
  },
  {
   "cell_type": "markdown",
   "id": "ed7994e4",
   "metadata": {},
   "source": [
    "### RF"
   ]
  },
  {
   "cell_type": "code",
   "execution_count": 22,
   "id": "d1d17e20",
   "metadata": {},
   "outputs": [],
   "source": [
    "rf_mm = RandomForestRegressor(max_depth=5, random_state=SEED)\n",
    "rf_std = RandomForestRegressor(max_depth=5, random_state=SEED)\n",
    "rf_rob = RandomForestRegressor(max_depth=5, random_state=SEED)\n"
   ]
  },
  {
   "cell_type": "code",
   "execution_count": 23,
   "id": "df43b85c",
   "metadata": {},
   "outputs": [
    {
     "data": {
      "text/plain": [
       "RandomForestRegressor(max_depth=5, random_state=666)"
      ]
     },
     "execution_count": 23,
     "metadata": {},
     "output_type": "execute_result"
    }
   ],
   "source": [
    "rf_mm.fit(X_train_mm, y_train)\n",
    "rf_std.fit(X_train_std, y_train)\n",
    "rf_rob.fit(X_train_rob, y_train)"
   ]
  },
  {
   "cell_type": "code",
   "execution_count": 24,
   "id": "b06f3404",
   "metadata": {},
   "outputs": [],
   "source": [
    "df_report = get_scores(df_report, rf_mm, X_test_mm, y_test, 'RF_min_max')\n",
    "df_report = get_scores(df_report, rf_std, X_test_std, y_test, 'RF_std')\n",
    "df_report = get_scores(df_report, rf_rob, X_test_rob, y_test, 'RF_rob')"
   ]
  },
  {
   "cell_type": "code",
   "execution_count": 25,
   "id": "1a3d9247",
   "metadata": {},
   "outputs": [
    {
     "data": {
      "text/html": [
       "<div>\n",
       "<style scoped>\n",
       "    .dataframe tbody tr th:only-of-type {\n",
       "        vertical-align: middle;\n",
       "    }\n",
       "\n",
       "    .dataframe tbody tr th {\n",
       "        vertical-align: top;\n",
       "    }\n",
       "\n",
       "    .dataframe thead th {\n",
       "        text-align: right;\n",
       "    }\n",
       "</style>\n",
       "<table border=\"1\" class=\"dataframe\">\n",
       "  <thead>\n",
       "    <tr style=\"text-align: right;\">\n",
       "      <th></th>\n",
       "      <th>MAE</th>\n",
       "      <th>MSE</th>\n",
       "      <th>RMSE</th>\n",
       "    </tr>\n",
       "  </thead>\n",
       "  <tbody>\n",
       "    <tr>\n",
       "      <th>RandomForest</th>\n",
       "      <td>3.056730</td>\n",
       "      <td>18.854050</td>\n",
       "      <td>4.342125</td>\n",
       "    </tr>\n",
       "    <tr>\n",
       "      <th>LGBM</th>\n",
       "      <td>4.068169</td>\n",
       "      <td>28.012930</td>\n",
       "      <td>5.292724</td>\n",
       "    </tr>\n",
       "    <tr>\n",
       "      <th>RF_min_max</th>\n",
       "      <td>3.056730</td>\n",
       "      <td>18.854050</td>\n",
       "      <td>4.342125</td>\n",
       "    </tr>\n",
       "    <tr>\n",
       "      <th>RF_std</th>\n",
       "      <td>3.057014</td>\n",
       "      <td>18.855963</td>\n",
       "      <td>4.342345</td>\n",
       "    </tr>\n",
       "    <tr>\n",
       "      <th>RF_rob</th>\n",
       "      <td>3.056935</td>\n",
       "      <td>18.856675</td>\n",
       "      <td>4.342427</td>\n",
       "    </tr>\n",
       "  </tbody>\n",
       "</table>\n",
       "</div>"
      ],
      "text/plain": [
       "                   MAE        MSE      RMSE\n",
       "RandomForest  3.056730  18.854050  4.342125\n",
       "LGBM          4.068169  28.012930  5.292724\n",
       "RF_min_max    3.056730  18.854050  4.342125\n",
       "RF_std        3.057014  18.855963  4.342345\n",
       "RF_rob        3.056935  18.856675  4.342427"
      ]
     },
     "execution_count": 25,
     "metadata": {},
     "output_type": "execute_result"
    }
   ],
   "source": [
    "df_report"
   ]
  },
  {
   "cell_type": "markdown",
   "id": "332cfba2",
   "metadata": {},
   "source": [
    "### LGBM"
   ]
  },
  {
   "cell_type": "code",
   "execution_count": 26,
   "id": "9d64d2c8",
   "metadata": {},
   "outputs": [],
   "source": [
    "lg_mm = lgb.LGBMRegressor(max_depth=5, random_state=SEED)\n",
    "lg_std = lgb.LGBMRegressor(max_depth=5, random_state=SEED)\n",
    "lg_rob = lgb.LGBMRegressor(max_depth=5, random_state=SEED)"
   ]
  },
  {
   "cell_type": "code",
   "execution_count": 27,
   "id": "037106eb",
   "metadata": {},
   "outputs": [
    {
     "data": {
      "text/plain": [
       "LGBMRegressor(max_depth=5, random_state=666)"
      ]
     },
     "execution_count": 27,
     "metadata": {},
     "output_type": "execute_result"
    }
   ],
   "source": [
    "lg_mm.fit(X_train_mm, y_train)\n",
    "lg_std.fit(X_train_std, y_train)\n",
    "lg_rob.fit(X_train_rob, y_train)"
   ]
  },
  {
   "cell_type": "code",
   "execution_count": 28,
   "id": "75cceb55",
   "metadata": {},
   "outputs": [],
   "source": [
    "df_report = get_scores(df_report, lg_mm, X_test_mm, y_test, 'LGBM_min_max')\n",
    "df_report = get_scores(df_report, lg_std, X_test_std, y_test, 'LGMB_std')\n",
    "df_report = get_scores(df_report, lg_rob, X_test_rob, y_test, 'LGBM_rob')"
   ]
  },
  {
   "cell_type": "code",
   "execution_count": 29,
   "id": "b59911a8",
   "metadata": {},
   "outputs": [
    {
     "data": {
      "text/html": [
       "<div>\n",
       "<style scoped>\n",
       "    .dataframe tbody tr th:only-of-type {\n",
       "        vertical-align: middle;\n",
       "    }\n",
       "\n",
       "    .dataframe tbody tr th {\n",
       "        vertical-align: top;\n",
       "    }\n",
       "\n",
       "    .dataframe thead th {\n",
       "        text-align: right;\n",
       "    }\n",
       "</style>\n",
       "<table border=\"1\" class=\"dataframe\">\n",
       "  <thead>\n",
       "    <tr style=\"text-align: right;\">\n",
       "      <th></th>\n",
       "      <th>MAE</th>\n",
       "      <th>MSE</th>\n",
       "      <th>RMSE</th>\n",
       "    </tr>\n",
       "  </thead>\n",
       "  <tbody>\n",
       "    <tr>\n",
       "      <th>RandomForest</th>\n",
       "      <td>3.056730</td>\n",
       "      <td>18.854050</td>\n",
       "      <td>4.342125</td>\n",
       "    </tr>\n",
       "    <tr>\n",
       "      <th>LGBM</th>\n",
       "      <td>4.068169</td>\n",
       "      <td>28.012930</td>\n",
       "      <td>5.292724</td>\n",
       "    </tr>\n",
       "    <tr>\n",
       "      <th>RF_min_max</th>\n",
       "      <td>3.056730</td>\n",
       "      <td>18.854050</td>\n",
       "      <td>4.342125</td>\n",
       "    </tr>\n",
       "    <tr>\n",
       "      <th>RF_std</th>\n",
       "      <td>3.057014</td>\n",
       "      <td>18.855963</td>\n",
       "      <td>4.342345</td>\n",
       "    </tr>\n",
       "    <tr>\n",
       "      <th>RF_rob</th>\n",
       "      <td>3.056935</td>\n",
       "      <td>18.856675</td>\n",
       "      <td>4.342427</td>\n",
       "    </tr>\n",
       "    <tr>\n",
       "      <th>LGBM_min_max</th>\n",
       "      <td>4.054314</td>\n",
       "      <td>27.794953</td>\n",
       "      <td>5.272092</td>\n",
       "    </tr>\n",
       "    <tr>\n",
       "      <th>LGMB_std</th>\n",
       "      <td>4.089340</td>\n",
       "      <td>27.330085</td>\n",
       "      <td>5.227818</td>\n",
       "    </tr>\n",
       "    <tr>\n",
       "      <th>LGBM_rob</th>\n",
       "      <td>4.056895</td>\n",
       "      <td>27.027013</td>\n",
       "      <td>5.198751</td>\n",
       "    </tr>\n",
       "  </tbody>\n",
       "</table>\n",
       "</div>"
      ],
      "text/plain": [
       "                   MAE        MSE      RMSE\n",
       "RandomForest  3.056730  18.854050  4.342125\n",
       "LGBM          4.068169  28.012930  5.292724\n",
       "RF_min_max    3.056730  18.854050  4.342125\n",
       "RF_std        3.057014  18.855963  4.342345\n",
       "RF_rob        3.056935  18.856675  4.342427\n",
       "LGBM_min_max  4.054314  27.794953  5.272092\n",
       "LGMB_std      4.089340  27.330085  5.227818\n",
       "LGBM_rob      4.056895  27.027013  5.198751"
      ]
     },
     "execution_count": 29,
     "metadata": {},
     "output_type": "execute_result"
    }
   ],
   "source": [
    "df_report"
   ]
  },
  {
   "cell_type": "markdown",
   "id": "bff15b06",
   "metadata": {},
   "source": [
    "### Вывод\n",
    "\n",
    "У нас стояла задача выяснить как нормализация и стандартизация принаков влияет на результат работы cлучайных деревьев и uрадиентного бустинга (выбрали LGBM). Мы не избавлялись от выбросов и не работали с таргетом. В ходе эксперимента выяснилось, что такая предобработка признаков, для моделей, основанных на деревьях изменяет метрики незначительно.\n",
    "\n",
    "Для RF они стали немного хуже.(MAE 3.0567 против MAE_std 3.0570, MAE_rob 3.0569)\n",
    "\n",
    "Для LGBM они стали немного лучше кроме StandarScaler(MAE 4.0681 против MAE_min_max 4.0543, MAE_rob 4.0568)"
   ]
  },
  {
   "cell_type": "code",
   "execution_count": null,
   "id": "dc248b17",
   "metadata": {},
   "outputs": [],
   "source": []
  }
 ],
 "metadata": {
  "kernelspec": {
   "display_name": "Python 3",
   "language": "python",
   "name": "python3"
  },
  "language_info": {
   "codemirror_mode": {
    "name": "ipython",
    "version": 3
   },
   "file_extension": ".py",
   "mimetype": "text/x-python",
   "name": "python",
   "nbconvert_exporter": "python",
   "pygments_lexer": "ipython3",
   "version": "3.8.8"
  }
 },
 "nbformat": 4,
 "nbformat_minor": 5
}
