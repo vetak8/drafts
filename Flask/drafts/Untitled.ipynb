{
 "cells": [
  {
   "cell_type": "code",
   "execution_count": 1,
   "id": "a325091d",
   "metadata": {},
   "outputs": [],
   "source": [
    "from flask import Flask"
   ]
  },
  {
   "cell_type": "code",
   "execution_count": 2,
   "id": "260bcde2",
   "metadata": {},
   "outputs": [],
   "source": [
    "app = Flask(__name__)"
   ]
  },
  {
   "cell_type": "code",
   "execution_count": 3,
   "id": "06e56182",
   "metadata": {},
   "outputs": [],
   "source": [
    "@app.route('/hello')\n",
    "def hello_func():\n",
    "    return 'hello_pidorg'"
   ]
  },
  {
   "cell_type": "code",
   "execution_count": 4,
   "id": "b8f39b20",
   "metadata": {},
   "outputs": [
    {
     "name": "stdout",
     "output_type": "stream",
     "text": [
      " * Serving Flask app \"__main__\" (lazy loading)\n",
      " * Environment: production\n",
      "   WARNING: This is a development server. Do not use it in a production deployment.\n",
      "   Use a production WSGI server instead.\n",
      " * Debug mode: off\n"
     ]
    },
    {
     "name": "stderr",
     "output_type": "stream",
     "text": [
      " * Running on http://localhost:5000/ (Press CTRL+C to quit)\n",
      "127.0.0.1 - - [03/Jul/2021 08:13:51] \"\u001b[37mGET /hello HTTP/1.1\u001b[0m\" 200 -\n",
      "127.0.0.1 - - [03/Jul/2021 08:13:51] \"\u001b[33mGET /favicon.ico HTTP/1.1\u001b[0m\" 404 -\n"
     ]
    }
   ],
   "source": [
    "if __name__ == '__main__':\n",
    "    app.run('localhost', 5000)"
   ]
  },
  {
   "cell_type": "code",
   "execution_count": null,
   "id": "9d277175",
   "metadata": {},
   "outputs": [],
   "source": []
  },
  {
   "cell_type": "code",
   "execution_count": 6,
   "id": "78c39177",
   "metadata": {},
   "outputs": [],
   "source": [
    "from sklearn.linear_model import LinearRegression\n",
    "from sklearn.datasets import load_diabetes\n",
    "import numpy as np\n",
    "import pickle"
   ]
  },
  {
   "cell_type": "code",
   "execution_count": 8,
   "id": "b4f5a203",
   "metadata": {},
   "outputs": [
    {
     "data": {
      "text/plain": [
       "LinearRegression()"
      ]
     },
     "execution_count": 8,
     "metadata": {},
     "output_type": "execute_result"
    }
   ],
   "source": [
    "X, y = load_diabetes(return_X_y=True)\n",
    "X = X[:, 0].reshape(-1,1)\n",
    "model = LinearRegression()\n",
    "model.fit(X, y)"
   ]
  },
  {
   "cell_type": "code",
   "execution_count": 13,
   "id": "a7fb13b8",
   "metadata": {},
   "outputs": [
    {
     "data": {
      "text/plain": [
       "array([152.13348416])"
      ]
     },
     "execution_count": 13,
     "metadata": {},
     "output_type": "execute_result"
    }
   ],
   "source": [
    "val_to_pred = np.array([0]).reshape(-1, 1)\n",
    "model.predict(val_to_pred)"
   ]
  },
  {
   "cell_type": "code",
   "execution_count": 14,
   "id": "9dd2f11c",
   "metadata": {},
   "outputs": [],
   "source": [
    "with open('myfile.pkl', 'wb') as output:\n",
    "    pickle.dump(model, output)"
   ]
  },
  {
   "cell_type": "code",
   "execution_count": 15,
   "id": "66c01460",
   "metadata": {},
   "outputs": [],
   "source": [
    "with open('myfile.pkl', 'rb') as pkl_file:\n",
    "    model_from_file = pickle.load(pkl_file)"
   ]
  },
  {
   "cell_type": "code",
   "execution_count": 16,
   "id": "0fbce6ad",
   "metadata": {},
   "outputs": [
    {
     "data": {
      "text/plain": [
       "array([152.13348416])"
      ]
     },
     "execution_count": 16,
     "metadata": {},
     "output_type": "execute_result"
    }
   ],
   "source": [
    "model_from_file.predict(val_to_pred)"
   ]
  },
  {
   "cell_type": "code",
   "execution_count": null,
   "id": "f4b11a31",
   "metadata": {},
   "outputs": [],
   "source": []
  }
 ],
 "metadata": {
  "kernelspec": {
   "display_name": "Python 3",
   "language": "python",
   "name": "python3"
  },
  "language_info": {
   "codemirror_mode": {
    "name": "ipython",
    "version": 3
   },
   "file_extension": ".py",
   "mimetype": "text/x-python",
   "name": "python",
   "nbconvert_exporter": "python",
   "pygments_lexer": "ipython3",
   "version": "3.8.8"
  }
 },
 "nbformat": 4,
 "nbformat_minor": 5
}
