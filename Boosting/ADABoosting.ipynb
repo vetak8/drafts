{
 "cells": [
  {
   "cell_type": "code",
   "execution_count": null,
   "id": "57971c1c",
   "metadata": {},
   "outputs": [],
   "source": [
    "import pandas as pd\n",
    "import numpy as np\n",
    "from sklearn.model_selection import train_test_split\n",
    "from sklearn.ensemble import GradientBoostingClassifier\n",
    "from sklearn.metrics import accuracy_score\n",
    "from sklearn.tree import DecisionTreeClassifier\n",
    "import seaborn as sns\n",
    "from sklearn.model_selection import GridSearchCV\n",
    "import matplotlib.pyplot as plt"
   ]
  },
  {
   "cell_type": "code",
   "execution_count": null,
   "id": "8778bb96",
   "metadata": {},
   "outputs": [],
   "source": [
    "df = pd.read_csv('spam7.csv')"
   ]
  },
  {
   "cell_type": "code",
   "execution_count": null,
   "id": "4e127cb0",
   "metadata": {},
   "outputs": [],
   "source": [
    "df"
   ]
  },
  {
   "cell_type": "code",
   "execution_count": null,
   "id": "8c8d2275",
   "metadata": {},
   "outputs": [],
   "source": [
    "df['spam'] = df['yesno'].apply(lambda x:1 if x=='y' else 0)\n",
    "df = df.drop(['Unnamed: 0','yesno'], axis=1)"
   ]
  },
  {
   "cell_type": "code",
   "execution_count": null,
   "id": "552dbf40",
   "metadata": {},
   "outputs": [],
   "source": [
    "X = df.drop('spam', axis=1)\n",
    "y = df[['spam']]"
   ]
  },
  {
   "cell_type": "code",
   "execution_count": null,
   "id": "0c9fb220",
   "metadata": {},
   "outputs": [],
   "source": [
    "cols = X.columns.to_list()"
   ]
  },
  {
   "cell_type": "code",
   "execution_count": null,
   "id": "e4643ba5",
   "metadata": {},
   "outputs": [],
   "source": [
    "for num,col_1 in enumerate(cols):          \n",
    "    for col_2 in cols[num:]:\n",
    "        if col_1 == col_2:\n",
    "            continue\n",
    "        else:            \n",
    "            X[col_1+'_'+col_2] = X[col_1]*X[col_2]\n",
    "    \n",
    "    "
   ]
  },
  {
   "cell_type": "code",
   "execution_count": null,
   "id": "4bda4511",
   "metadata": {},
   "outputs": [],
   "source": [
    "X_train, X_test, y_train, y_test = train_test_split(X,y, test_size=0.2,random_state=42)"
   ]
  },
  {
   "cell_type": "code",
   "execution_count": null,
   "id": "2f9b688d",
   "metadata": {},
   "outputs": [],
   "source": [
    "boost = GradientBoostingClassifier(learning_rate=0.1, n_estimators=100,max_depth=3, min_samples_split=2, min_samples_leaf=1, subsample=1,max_features=None)"
   ]
  },
  {
   "cell_type": "code",
   "execution_count": null,
   "id": "90b71565",
   "metadata": {},
   "outputs": [],
   "source": [
    "boost.fit(X_train, y_train)\n"
   ]
  },
  {
   "cell_type": "code",
   "execution_count": null,
   "id": "daac8459",
   "metadata": {},
   "outputs": [],
   "source": [
    "score = accuracy_score(y_test, boost.predict(X_test))"
   ]
  },
  {
   "cell_type": "code",
   "execution_count": null,
   "id": "abdbc25a",
   "metadata": {},
   "outputs": [],
   "source": [
    "round(score,3)"
   ]
  },
  {
   "cell_type": "code",
   "execution_count": null,
   "id": "a27c682f",
   "metadata": {},
   "outputs": [],
   "source": [
    "importances = boost.feature_importances_"
   ]
  },
  {
   "cell_type": "code",
   "execution_count": null,
   "id": "ae4aabe3",
   "metadata": {},
   "outputs": [],
   "source": [
    "plt.figure(figsize=[30, 9])\n",
    "sns.barplot(X.columns, importances,)"
   ]
  },
  {
   "cell_type": "code",
   "execution_count": null,
   "id": "0579cc68",
   "metadata": {},
   "outputs": [],
   "source": [
    "param_grid = {'learning_rate':[0.00001, 0.0001, 0.001, 0.01, 0.1, 1], \n",
    "              'n_estimators':[100, 250, 500, 750, 1000, 1250, 1500, 1750]}"
   ]
  },
  {
   "cell_type": "code",
   "execution_count": null,
   "id": "4cd8fc1a",
   "metadata": {},
   "outputs": [],
   "source": [
    "grid = GridSearchCV(estimator=boost, param_grid=param_grid,scoring='accuracy', n_jobs=-1,cv=5)"
   ]
  },
  {
   "cell_type": "code",
   "execution_count": null,
   "id": "9c8964c7",
   "metadata": {},
   "outputs": [],
   "source": [
    "grid.fit(X_train, y_train)\n",
    "# accuracy_score(y_test, grid.predict(X_test))"
   ]
  },
  {
   "cell_type": "code",
   "execution_count": null,
   "id": "ccb3e6fe",
   "metadata": {},
   "outputs": [],
   "source": [
    "grid.best_params_"
   ]
  },
  {
   "cell_type": "code",
   "execution_count": null,
   "id": "e4b0b12e",
   "metadata": {},
   "outputs": [],
   "source": []
  },
  {
   "cell_type": "code",
   "execution_count": null,
   "id": "9c0b7858",
   "metadata": {},
   "outputs": [],
   "source": [
    "param_grid = {'max_depth':[x for x in range(5,16)]}"
   ]
  },
  {
   "cell_type": "code",
   "execution_count": null,
   "id": "144f6837",
   "metadata": {},
   "outputs": [],
   "source": [
    "grid = GridSearchCV(estimator=boost, param_grid=param_grid,scoring='accuracy', n_jobs=-1,cv=5)"
   ]
  },
  {
   "cell_type": "code",
   "execution_count": null,
   "id": "6542138d",
   "metadata": {},
   "outputs": [],
   "source": [
    "grid.fit(X_train, y_train)"
   ]
  },
  {
   "cell_type": "code",
   "execution_count": null,
   "id": "fb10dcab",
   "metadata": {},
   "outputs": [],
   "source": [
    "grid.best_params_"
   ]
  },
  {
   "cell_type": "code",
   "execution_count": null,
   "id": "b2e7054c",
   "metadata": {},
   "outputs": [],
   "source": [
    "X"
   ]
  },
  {
   "cell_type": "code",
   "execution_count": null,
   "id": "21bfcd18",
   "metadata": {},
   "outputs": [],
   "source": [
    "def AdaBoost_scratch(X, y, M=10, learning_rate=1):\n",
    "    # инициалиазция служебных переменных\n",
    "    N = len(y)\n",
    "    estimator_list, y_predict_list, estimator_error_list, estimator_weight_list, sample_weight_list = [], [], [], [], []\n",
    "    \n",
    "    # инициализация весов\n",
    "    sample_weight = np.ones(N)/N\n",
    "    sample_weight_list.append(sample_weight.copy())\n",
    "    # цикл по длине М\n",
    "    \n",
    "    for m in range(M):\n",
    "        # обучим базовую модель и получим предсказание\n",
    "        estimator = DecisionTreeClassifier(max_depth=1,max_leaf_nodes=2)\n",
    "        estimator.fit(X,y,sample_weight=sample_weight)\n",
    "        y_predict = estimator.predict(X)\n",
    "        \n",
    "        # Маска для ошибок классификации\n",
    "        incorrect = (y_predict != y)  \n",
    "        # Оцениваем ошибку\n",
    "        estimator_error = np.sum(sample_weight*incorrect)\n",
    "        \n",
    "        # Вычисляем вес нового алгоритма\n",
    "        estimator_weight =  learning_rate * np.log((1-estimator_error)/estimator_error)\n",
    "        #Получаем новые веса объектов\n",
    "        sample_weight *= np.exp(estimator_weight * incorrect *((sample_weight>0) | (estimator_weight<0))) \n",
    "        \n",
    "        # Сохраяем результаты данной итерации\n",
    "        estimator_list.append(estimator)\n",
    "        y_predict_list.append(y_predict.copy())\n",
    "        estimator_error_list.append(estimator_error.copy())\n",
    "        estimator_weight_list.append(estimator_weight.copy())\n",
    "        sample_weight_list.append(sample_weight.copy())\n",
    "    \n",
    "        # Для удобства переведем в numpy.array   \n",
    "    estimator_list = np.asarray(estimator_list)\n",
    "    y_predict_list = np.asarray(y_predict_list)\n",
    "    estimator_error_list = np.asarray(estimator_error_list)\n",
    "    estimator_weight_list = np.asarray(estimator_weight_list)\n",
    "    sample_weight_list = np.asarray(sample_weight_list)\n",
    "\n",
    "    # Получим предсказания\n",
    "    preds = (np.array([np.sign((y_predict_list[:,point] * estimator_weight_list).sum()) for point in range(N)]))\n",
    "    print('Accuracy = ', (preds == y).sum() / N) \n",
    "    \n",
    "    return estimator_list, estimator_weight_list, sample_weight_list"
   ]
  },
  {
   "cell_type": "code",
   "execution_count": null,
   "id": "b403119e",
   "metadata": {},
   "outputs": [],
   "source": [
    "estimator_list, estimator_weight_list, sample_weight_list  = AdaBoost_scratch(X, y, M=10, learning_rate=0.001)"
   ]
  },
  {
   "cell_type": "code",
   "execution_count": null,
   "id": "bc3b7bff",
   "metadata": {},
   "outputs": [],
   "source": [
    "y.values.T"
   ]
  },
  {
   "cell_type": "code",
   "execution_count": null,
   "id": "2ce4f0ca",
   "metadata": {},
   "outputs": [],
   "source": []
  }
 ],
 "metadata": {
  "kernelspec": {
   "display_name": "Python 3",
   "language": "python",
   "name": "python3"
  },
  "language_info": {
   "codemirror_mode": {
    "name": "ipython",
    "version": 3
   },
   "file_extension": ".py",
   "mimetype": "text/x-python",
   "name": "python",
   "nbconvert_exporter": "python",
   "pygments_lexer": "ipython3",
   "version": "3.8.8"
  }
 },
 "nbformat": 4,
 "nbformat_minor": 5
}
